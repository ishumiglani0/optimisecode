{
 "cells": [
  {
   "cell_type": "code",
   "execution_count": null,
   "metadata": {},
   "outputs": [],
   "source": [
    "import warnings\n",
    "warnings.filterwarnings(\"ignore\")"
   ]
  },
  {
   "cell_type": "code",
   "execution_count": null,
   "metadata": {},
   "outputs": [],
   "source": [
    "import pandas as pd\n",
    "import numpy as np\n",
    "import dask.dataframe as dd\n",
    "import threading\n",
    "import time\n",
    "start_time = time.time()\n",
    "#import datetime\n",
    "#from datetime import timedelta, datetime\n",
    "#import os\n"
   ]
  },
  {
   "cell_type": "code",
   "execution_count": null,
   "metadata": {},
   "outputs": [],
   "source": [
    "ST_DETAILS = pd.read_csv('ST_DETAILS.csv',skip_blank_lines=True, engine=\"pyarrow\")\n",
    "MAJCAT_LIST = pd.read_csv('MAJCAT_LIST.csv',skip_blank_lines=True, engine=\"pyarrow\")\n",
    "ST_L_DETAILS = pd.read_csv('ST_L_DETAILS.csv',skip_blank_lines=True, engine=\"pyarrow\")\n",
    "BGT_MAJCAT_I = pd.read_csv('BGT_MAJCAT.csv',skip_blank_lines=True, engine=\"pyarrow\")\n",
    "BGT_MERCHCAT_I = pd.read_csv('BGT_MERCHCAT.csv',skip_blank_lines=True, engine=\"pyarrow\")\n",
    "ST_STK_I = pd.read_csv('ST_STK.csv',skip_blank_lines=True, engine=\"pyarrow\")\n",
    "DC_STK_I = pd.read_csv('DC_STK.csv',skip_blank_lines=True, engine=\"pyarrow\")\n",
    "MC_AUTO_ART_I = pd.read_csv('MC_AUTO_ART.csv',skip_blank_lines=True, engine=\"pyarrow\")\n",
    "MC_BODY_CONT_I = pd.read_csv('MC_BODY_CONT.csv',skip_blank_lines=True, engine=\"pyarrow\")\n",
    "MC_CLR_CONT_I = pd.read_csv('MC_CLR_CONT.csv',skip_blank_lines=True, engine=\"pyarrow\")\n",
    "MC_FABRIC_CONT_I = pd.read_csv('MC_FABRIC_CONT.csv',skip_blank_lines=True, engine=\"pyarrow\")\n",
    "MC_M_MVGR_CONT_I = pd.read_csv('MC_M_MVGR_CONT.csv',skip_blank_lines=True, engine=\"pyarrow\")\n",
    "MC_MVGR_CONT_I = pd.read_csv('MC_MVGR_CONT.csv',skip_blank_lines=True, engine=\"pyarrow\")\n",
    "MC_SEG_CONT_I = pd.read_csv('MC_SEG_CONT.csv',skip_blank_lines=True, engine=\"pyarrow\")\n",
    "MC_VEND_CONT_I = pd.read_csv('MC_VEND_CONT.csv',skip_blank_lines=True, engine=\"pyarrow\")\n",
    "ST_OPT_I = pd.read_csv('ST_OPT.csv',skip_blank_lines=True, engine=\"pyarrow\")\n",
    "OPT_DISP_Q_I = pd.read_csv('OPT_DISP_Q.csv',skip_blank_lines=True, engine=\"pyarrow\")\n",
    "ST_OPT_DISP_Q_I = pd.read_csv('ST_OPT_DISP_Q.csv',skip_blank_lines=True, engine=\"pyarrow\")\n",
    "ST_MC_CONS_I = pd.read_csv('ST_MC_CONS.csv',skip_blank_lines=True, engine=\"pyarrow\")\n",
    "ST_SSN_CONS_I = pd.read_csv('ST_SSN_CONS.csv',skip_blank_lines=True, engine=\"pyarrow\")"
   ]
  },
  {
   "cell_type": "code",
   "execution_count": null,
   "metadata": {},
   "outputs": [],
   "source": [
    "CAT = \"M_JEANS\"\n",
    "\n",
    "# Filter each dataframe using .loc[]\n",
    "BGT_MAJCAT = BGT_MAJCAT_I.loc[BGT_MAJCAT_I['MAJCAT'] == CAT].reset_index(drop=True)\n",
    "BGT_MERCHCAT = BGT_MERCHCAT_I.loc[BGT_MERCHCAT_I['MAJCAT'] == CAT].reset_index(drop=True)\n",
    "ST_STK = ST_STK_I.loc[ST_STK_I['MAJCAT'] == CAT].reset_index(drop=True)\n",
    "DC_STK = DC_STK_I.loc[DC_STK_I['MAJCAT'] == CAT].reset_index(drop=True)\n",
    "MC_AUTO_ART = MC_AUTO_ART_I.loc[MC_AUTO_ART_I['MAJCAT'] == CAT].reset_index(drop=True)\n",
    "MC_BODY_CONT = MC_BODY_CONT_I.loc[MC_BODY_CONT_I['MAJCAT'] == CAT].reset_index(drop=True)\n",
    "MC_CLR_CONT = MC_CLR_CONT_I.loc[MC_CLR_CONT_I['MAJCAT'] == CAT].reset_index(drop=True)\n",
    "MC_FABRIC_CONT = MC_FABRIC_CONT_I.loc[MC_FABRIC_CONT_I['MAJCAT'] == CAT].reset_index(drop=True)\n",
    "MC_M_MVGR_CONT = MC_M_MVGR_CONT_I.loc[MC_M_MVGR_CONT_I['MAJCAT'] == CAT].reset_index(drop=True)\n",
    "MC_MVGR_CONT = MC_MVGR_CONT_I.loc[MC_MVGR_CONT_I['MAJCAT'] == CAT].reset_index(drop=True)\n",
    "MC_SEG_CONT = MC_SEG_CONT_I.loc[MC_SEG_CONT_I['MAJCAT'] == CAT].reset_index(drop=True)\n",
    "MC_VEND_CONT = MC_VEND_CONT_I.loc[MC_VEND_CONT_I['MAJCAT'] == CAT].reset_index(drop=True)\n",
    "ST_OPT = ST_OPT_I.loc[ST_OPT_I['MAJCAT'] == CAT].reset_index(drop=True)\n",
    "OPT_DISP_Q = OPT_DISP_Q_I.loc[OPT_DISP_Q_I['MAJCAT'] == CAT].reset_index(drop=True)\n",
    "ST_OPT_DISP_Q = ST_OPT_DISP_Q_I.loc[ST_OPT_DISP_Q_I['MAJCAT'] == CAT].reset_index(drop=True)\n",
    "ST_MC_CONS = ST_MC_CONS_I.loc[ST_MC_CONS_I['MAJCAT'] == CAT].reset_index(drop=True)\n",
    "# ST_SSN_CONS = ST_SSN_CONS_I.loc[ST_SSN_CONS_I['MAJCAT'] == CAT].reset_index(drop=True)\n"
   ]
  },
  {
   "cell_type": "code",
   "execution_count": null,
   "metadata": {},
   "outputs": [],
   "source": [
    "# converting column to object\n",
    "ST_OPT_DISP_Q['ST_CD']=ST_OPT_DISP_Q['ST_CD'].astype(object)\n",
    "# here inplace reduces copy operation\n",
    "ST_DETAILS.sort_values(by='PRIORITY_LIST', ascending=True,inplace=True)\n"
   ]
  },
  {
   "cell_type": "code",
   "execution_count": null,
   "metadata": {},
   "outputs": [],
   "source": [
    "# instead of deepCopy, i.e. copyByVAlues, we will copy by reference\n",
    "MERCHCAT_MBQ = BGT_MERCHCAT.copy(deep=False)\n",
    "MAJCAT_MBQ = BGT_MAJCAT.copy(deep=False)\n",
    "\n",
    "MAJCAT_MBQ = pd.merge(MAJCAT_MBQ, ST_DETAILS, how=\"left\",on=[\"ST_CD\"],suffixes=('_left', '_right'))\n",
    "print(MAJCAT_MBQ.columns.to_list())\n",
    "MERCHCAT_MBQ = pd.merge(MERCHCAT_MBQ, ST_DETAILS, how=\"left\",on=[\"ST_CD\"],suffixes=('_left', '_right'))\n",
    "MERCHCAT_MBQ = pd.merge(MERCHCAT_MBQ, ST_L_DETAILS, how=\"left\",on=[\"ST_CD\"],suffixes=('_left', '_right'))\n",
    "MERCHCAT_MBQ = pd.merge(MERCHCAT_MBQ, OPT_DISP_Q, how=\"left\",on=[\"MERCHCAT\"],suffixes=('_left', '_right'))\n",
    "MERCHCAT_MBQ = pd.merge(MERCHCAT_MBQ, ST_OPT_DISP_Q, how=\"left\",on=[\"ST_CD\",\"MERCHCAT\"],suffixes=('_left', '_right'))"
   ]
  },
  {
   "cell_type": "code",
   "execution_count": null,
   "metadata": {},
   "outputs": [],
   "source": [
    "\n",
    "MAJCAT_MBQ['REV_MJ_SALES_PD_1'] = (MAJCAT_MBQ['SALES_Q_1']*MAJCAT_MBQ['CM_RMN_SALES_CONS']+MAJCAT_MBQ['SALES_Q_2']*MAJCAT_MBQ['NM_RMN_SALES_CONS'])*(1/MAJCAT_MBQ['BGT_DAYS'])\n",
    "MAJCAT_MBQ['MJ_MBQ_A'] = MAJCAT_MBQ['LISTING_M_1']*(MAJCAT_MBQ['ALLOC_DISP']+(MAJCAT_MBQ['REV_MJ_SALES_PD_1']*MAJCAT_MBQ['ALLOC_DAY_COVER']))\n",
    "MAJCAT_MBQ['MJ_MBQ_30_1'] = MAJCAT_MBQ['LISTING_M_1']*(MAJCAT_MBQ['DISP_Q_1']+(MAJCAT_MBQ['REV_MJ_SALES_PD_1']*MAJCAT_MBQ['BGT_DAYS']))\n",
    "MAJCAT_MBQ['REM_SALES_1'] = (MAJCAT_MBQ['SALES_Q_1']*MAJCAT_MBQ['CM_RMN_SALES_CONS'])*(1/MAJCAT_MBQ['RMN_BGT_DAYS'])\n",
    "MAJCAT_MBQ['MJ_MBQ_30_2'] = MAJCAT_MBQ['LISTING_M_2']*(MAJCAT_MBQ['DISP_Q_2']+MAJCAT_MBQ['SALES_Q_2'])\n",
    "MAJCAT_MBQ['MJ_MBQ_30_3'] = MAJCAT_MBQ['LISTING_M_3']*(MAJCAT_MBQ['DISP_Q_3']+MAJCAT_MBQ['SALES_Q_3'])\n",
    "MAJCAT_MBQ['MJ_MBQ_30_4'] = MAJCAT_MBQ['LISTING_M_4']*(MAJCAT_MBQ['DISP_Q_4']+MAJCAT_MBQ['SALES_Q_4'])\n",
    "MAJCAT_MBQ['MJ_MBQ_30_5'] = MAJCAT_MBQ['LISTING_M_5']*(MAJCAT_MBQ['DISP_Q_5']+MAJCAT_MBQ['SALES_Q_5'])\n",
    "MAJCAT_MBQ['MJ_MBQ_30_6'] = MAJCAT_MBQ['LISTING_M_6']*(MAJCAT_MBQ['DISP_Q_6']+MAJCAT_MBQ['SALES_Q_6'])\n",
    "MAJCAT_MBQ['MJ_MBQ_30_7'] = MAJCAT_MBQ['LISTING_M_7']*(MAJCAT_MBQ['DISP_Q_7']+MAJCAT_MBQ['SALES_Q_7'])\n",
    "MAJCAT_MBQ['MJ_MBQ_30_8'] = MAJCAT_MBQ['LISTING_M_8']*(MAJCAT_MBQ['DISP_Q_8']+MAJCAT_MBQ['SALES_Q_8'])\n",
    "MAJCAT_MBQ['MJ_MBQ_30_9'] = MAJCAT_MBQ['LISTING_M_9']*(MAJCAT_MBQ['DISP_Q_9']+MAJCAT_MBQ['SALES_Q_9'])\n",
    "MAJCAT_MBQ['MJ_MBQ_30_10'] = MAJCAT_MBQ['LISTING_M_10']*(MAJCAT_MBQ['DISP_Q_10']+MAJCAT_MBQ['SALES_Q_10'])\n",
    "MAJCAT_MBQ['MJ_MBQ_30_11'] = MAJCAT_MBQ['LISTING_M_11']*(MAJCAT_MBQ['DISP_Q_11']+MAJCAT_MBQ['SALES_Q_11'])\n",
    "MAJCAT_MBQ['MJ_MBQ_30_12'] = MAJCAT_MBQ['LISTING_M_12']*(MAJCAT_MBQ['DISP_Q_12']+MAJCAT_MBQ['SALES_Q_12'])"
   ]
  },
  {
   "cell_type": "code",
   "execution_count": null,
   "metadata": {},
   "outputs": [],
   "source": [
    "MERCHCAT_MBQ['F_OPT_DISP_Q_1'] = np.where(MERCHCAT_MBQ['ST_OPT_DISP_Q_1'] + 0 > 0, \n",
    "                                          MERCHCAT_MBQ['ST_OPT_DISP_Q_1'], \n",
    "                                          MERCHCAT_MBQ['OPT_DISP_Q_1'])\n",
    "\n",
    "MERCHCAT_MBQ['F_OPT_DISP_Q_2'] = np.where(MERCHCAT_MBQ['ST_OPT_DISP_Q_2'] + 0 > 0, \n",
    "                                          MERCHCAT_MBQ['ST_OPT_DISP_Q_2'], \n",
    "                                          MERCHCAT_MBQ['OPT_DISP_Q_2'])\n",
    "\n",
    "MERCHCAT_MBQ['F_OPT_DISP_Q_3'] = np.where(MERCHCAT_MBQ['ST_OPT_DISP_Q_3'] + 0 > 0, \n",
    "                                          MERCHCAT_MBQ['ST_OPT_DISP_Q_3'], \n",
    "                                          MERCHCAT_MBQ['OPT_DISP_Q_3'])\n",
    "\n",
    "MERCHCAT_MBQ['F_OPT_DISP_Q_4'] = np.where(MERCHCAT_MBQ['ST_OPT_DISP_Q_4'] + 0 > 0, \n",
    "                                          MERCHCAT_MBQ['ST_OPT_DISP_Q_4'], \n",
    "                                          MERCHCAT_MBQ['OPT_DISP_Q_4'])\n",
    "\n",
    "MERCHCAT_MBQ['F_OPT_DISP_Q_5'] = np.where(MERCHCAT_MBQ['ST_OPT_DISP_Q_5'] + 0 > 0, \n",
    "                                          MERCHCAT_MBQ['ST_OPT_DISP_Q_5'], \n",
    "                                          MERCHCAT_MBQ['OPT_DISP_Q_5'])\n",
    "\n",
    "MERCHCAT_MBQ['F_OPT_DISP_Q_6'] = np.where(MERCHCAT_MBQ['ST_OPT_DISP_Q_6'] + 0 > 0, \n",
    "                                          MERCHCAT_MBQ['ST_OPT_DISP_Q_6'], \n",
    "                                          MERCHCAT_MBQ['OPT_DISP_Q_6'])\n",
    "\n",
    "MERCHCAT_MBQ['F_OPT_DISP_Q_7'] = np.where(MERCHCAT_MBQ['ST_OPT_DISP_Q_7'] + 0 > 0, \n",
    "                                          MERCHCAT_MBQ['ST_OPT_DISP_Q_7'], \n",
    "                                          MERCHCAT_MBQ['OPT_DISP_Q_7'])\n",
    "\n",
    "MERCHCAT_MBQ['F_OPT_DISP_Q_8'] = np.where(MERCHCAT_MBQ['ST_OPT_DISP_Q_8'] + 0 > 0, \n",
    "                                          MERCHCAT_MBQ['ST_OPT_DISP_Q_8'], \n",
    "                                          MERCHCAT_MBQ['OPT_DISP_Q_8'])\n",
    "\n",
    "MERCHCAT_MBQ['F_OPT_DISP_Q_9'] = np.where(MERCHCAT_MBQ['ST_OPT_DISP_Q_9'] + 0 > 0, \n",
    "                                          MERCHCAT_MBQ['ST_OPT_DISP_Q_9'], \n",
    "                                          MERCHCAT_MBQ['OPT_DISP_Q_9'])\n",
    "\n",
    "MERCHCAT_MBQ['F_OPT_DISP_Q_10'] = np.where(MERCHCAT_MBQ['ST_OPT_DISP_Q_10'] + 0 > 0, \n",
    "                                           MERCHCAT_MBQ['ST_OPT_DISP_Q_10'], \n",
    "                                           MERCHCAT_MBQ['OPT_DISP_Q_10'])\n",
    "\n",
    "MERCHCAT_MBQ['F_OPT_DISP_Q_11'] = np.where(MERCHCAT_MBQ['ST_OPT_DISP_Q_11'] + 0 > 0, \n",
    "                                           MERCHCAT_MBQ['ST_OPT_DISP_Q_11'], \n",
    "                                           MERCHCAT_MBQ['OPT_DISP_Q_11'])\n",
    "\n",
    "MERCHCAT_MBQ['F_OPT_DISP_Q_12'] = np.where(MERCHCAT_MBQ['ST_OPT_DISP_Q_12'] + 0 > 0, \n",
    "                                           MERCHCAT_MBQ['ST_OPT_DISP_Q_12'], \n",
    "                                           MERCHCAT_MBQ['OPT_DISP_Q_12'])\n"
   ]
  },
  {
   "cell_type": "code",
   "execution_count": null,
   "metadata": {},
   "outputs": [],
   "source": [
    "#OPT_CNT FINALISATION\n",
    "\n",
    "MERCHCAT_MBQ['OPT_CNT_A'] = np.where((MERCHCAT_MBQ['ALLOC_DISP'] / MERCHCAT_MBQ['F_OPT_DISP_Q_1']) + 0 > 0,\n",
    "                                         np.round(MERCHCAT_MBQ['ALLOC_DISP'] / MERCHCAT_MBQ['F_OPT_DISP_Q_1']),\n",
    "                                         0)\n",
    "\n",
    "MERCHCAT_MBQ['OPT_CNT_1'] = np.where((MERCHCAT_MBQ['DISP_Q_1']/MERCHCAT_MBQ['F_OPT_DISP_Q_1'])+0>0,\n",
    "                                         np.round(MERCHCAT_MBQ['DISP_Q_1']/MERCHCAT_MBQ['F_OPT_DISP_Q_1']),\n",
    "                                         0)\n",
    "\n",
    "# OPT_CNT_2\n",
    "MERCHCAT_MBQ['OPT_CNT_2'] = np.where((MERCHCAT_MBQ['DISP_Q_2'] / MERCHCAT_MBQ['F_OPT_DISP_Q_2']) + 0 > 0,\n",
    "                                      np.round(MERCHCAT_MBQ['DISP_Q_2'] / MERCHCAT_MBQ['F_OPT_DISP_Q_2']),\n",
    "                                      0)\n",
    "\n",
    "# OPT_CNT_3\n",
    "MERCHCAT_MBQ['OPT_CNT_3'] = np.where((MERCHCAT_MBQ['DISP_Q_3'] / MERCHCAT_MBQ['F_OPT_DISP_Q_3']) + 0 > 0,\n",
    "                                      np.round(MERCHCAT_MBQ['DISP_Q_3'] / MERCHCAT_MBQ['F_OPT_DISP_Q_3']),\n",
    "                                      0)\n",
    "\n",
    "# OPT_CNT_4\n",
    "MERCHCAT_MBQ['OPT_CNT_4'] = np.where((MERCHCAT_MBQ['DISP_Q_4'] / MERCHCAT_MBQ['F_OPT_DISP_Q_4']) + 0 > 0,\n",
    "                                      np.round(MERCHCAT_MBQ['DISP_Q_4'] / MERCHCAT_MBQ['F_OPT_DISP_Q_4']),\n",
    "                                      0)\n",
    "\n",
    "# OPT_CNT_5\n",
    "MERCHCAT_MBQ['OPT_CNT_5'] = np.where((MERCHCAT_MBQ['DISP_Q_5'] / MERCHCAT_MBQ['F_OPT_DISP_Q_5']) + 0 > 0,\n",
    "                                      np.round(MERCHCAT_MBQ['DISP_Q_5'] / MERCHCAT_MBQ['F_OPT_DISP_Q_5']),\n",
    "                                      0)\n",
    "\n",
    "# OPT_CNT_6\n",
    "MERCHCAT_MBQ['OPT_CNT_6'] = np.where((MERCHCAT_MBQ['DISP_Q_6'] / MERCHCAT_MBQ['F_OPT_DISP_Q_6']) + 0 > 0,\n",
    "                                      np.round(MERCHCAT_MBQ['DISP_Q_6'] / MERCHCAT_MBQ['F_OPT_DISP_Q_6']),\n",
    "                                      0)\n",
    "\n",
    "# OPT_CNT_7\n",
    "MERCHCAT_MBQ['OPT_CNT_7'] = np.where((MERCHCAT_MBQ['DISP_Q_7'] / MERCHCAT_MBQ['F_OPT_DISP_Q_7']) + 0 > 0,\n",
    "                                      np.round(MERCHCAT_MBQ['DISP_Q_7'] / MERCHCAT_MBQ['F_OPT_DISP_Q_7']),\n",
    "                                      0)\n",
    "\n",
    "# OPT_CNT_8\n",
    "MERCHCAT_MBQ['OPT_CNT_8'] = np.where((MERCHCAT_MBQ['DISP_Q_8'] / MERCHCAT_MBQ['F_OPT_DISP_Q_8']) + 0 > 0,\n",
    "                                      np.round(MERCHCAT_MBQ['DISP_Q_8'] / MERCHCAT_MBQ['F_OPT_DISP_Q_8']),\n",
    "                                      0)\n",
    "\n",
    "# OPT_CNT_9\n",
    "MERCHCAT_MBQ['OPT_CNT_9'] = np.where((MERCHCAT_MBQ['DISP_Q_9'] / MERCHCAT_MBQ['F_OPT_DISP_Q_9']) + 0 > 0,\n",
    "                                      np.round(MERCHCAT_MBQ['DISP_Q_9'] / MERCHCAT_MBQ['F_OPT_DISP_Q_9']),\n",
    "                                      0)\n",
    "\n",
    "# OPT_CNT_10\n",
    "MERCHCAT_MBQ['OPT_CNT_10'] = np.where((MERCHCAT_MBQ['DISP_Q_10'] / MERCHCAT_MBQ['F_OPT_DISP_Q_10']) + 0 > 0,\n",
    "                                       np.round(MERCHCAT_MBQ['DISP_Q_10'] / MERCHCAT_MBQ['F_OPT_DISP_Q_10']),\n",
    "                                       0)\n",
    "\n",
    "# OPT_CNT_11\n",
    "MERCHCAT_MBQ['OPT_CNT_11'] = np.where((MERCHCAT_MBQ['DISP_Q_11'] / MERCHCAT_MBQ['F_OPT_DISP_Q_11']) + 0 > 0,\n",
    "                                       np.round(MERCHCAT_MBQ['DISP_Q_11'] / MERCHCAT_MBQ['F_OPT_DISP_Q_11']),\n",
    "                                       0)\n",
    "\n",
    "# OPT_CNT_12\n",
    "MERCHCAT_MBQ['OPT_CNT_12'] = np.where((MERCHCAT_MBQ['DISP_Q_12'] / MERCHCAT_MBQ['F_OPT_DISP_Q_12']) + 0 > 0,\n",
    "                                       np.round(MERCHCAT_MBQ['DISP_Q_12'] / MERCHCAT_MBQ['F_OPT_DISP_Q_12']),\n",
    "                                       0)\n"
   ]
  },
  {
   "cell_type": "code",
   "execution_count": null,
   "metadata": {},
   "outputs": [],
   "source": [
    "MERCHCAT_MBQ['OPT_SALES_A'] = np.where((MERCHCAT_MBQ['SALES_Q_1'] + 0 == 0) | (MERCHCAT_MBQ['OPT_CNT_A'] + 0 == 0),\n",
    "                                       0,\n",
    "                                       np.round(MERCHCAT_MBQ['SALES_Q_1'] / MERCHCAT_MBQ['OPT_CNT_A'], 2))\n",
    "\n",
    "MERCHCAT_MBQ['OPT_SALES_1'] = np.where((MERCHCAT_MBQ['SALES_Q_1'] + 0 == 0) | (MERCHCAT_MBQ['OPT_CNT_1'] + 0 == 0),\n",
    "                                       0,\n",
    "                                       np.round(MERCHCAT_MBQ['SALES_Q_1'] / MERCHCAT_MBQ['OPT_CNT_1'], 2))\n",
    "\n",
    "MERCHCAT_MBQ['OPT_SALES_2'] = np.where((MERCHCAT_MBQ['SALES_Q_2'] + 0 == 0) | (MERCHCAT_MBQ['OPT_CNT_2'] + 0 == 0),\n",
    "                                       0,\n",
    "                                       np.round(MERCHCAT_MBQ['SALES_Q_2'] / MERCHCAT_MBQ['OPT_CNT_2'], 2))\n",
    "\n",
    "MERCHCAT_MBQ['OPT_SALES_3'] = np.where((MERCHCAT_MBQ['SALES_Q_3'] + 0 == 0) | (MERCHCAT_MBQ['OPT_CNT_3'] + 0 == 0),\n",
    "                                       0,\n",
    "                                       np.round(MERCHCAT_MBQ['SALES_Q_3'] / MERCHCAT_MBQ['OPT_CNT_3'], 2))\n",
    "\n",
    "MERCHCAT_MBQ['OPT_SALES_4'] = np.where((MERCHCAT_MBQ['SALES_Q_4'] + 0 == 0) | (MERCHCAT_MBQ['OPT_CNT_4'] + 0 == 0),\n",
    "                                       0,\n",
    "                                       np.round(MERCHCAT_MBQ['SALES_Q_4'] / MERCHCAT_MBQ['OPT_CNT_4'], 2))\n",
    "\n",
    "MERCHCAT_MBQ['OPT_SALES_5'] = np.where((MERCHCAT_MBQ['SALES_Q_5'] + 0 == 0) | (MERCHCAT_MBQ['OPT_CNT_5'] + 0 == 0),\n",
    "                                       0,\n",
    "                                       np.round(MERCHCAT_MBQ['SALES_Q_5'] / MERCHCAT_MBQ['OPT_CNT_5'], 2))\n",
    "\n",
    "MERCHCAT_MBQ['OPT_SALES_6'] = np.where((MERCHCAT_MBQ['SALES_Q_6'] + 0 == 0) | (MERCHCAT_MBQ['OPT_CNT_6'] + 0 == 0),\n",
    "                                       0,\n",
    "                                       np.round(MERCHCAT_MBQ['SALES_Q_6'] / MERCHCAT_MBQ['OPT_CNT_6'], 2))\n",
    "\n",
    "MERCHCAT_MBQ['OPT_SALES_7'] = np.where((MERCHCAT_MBQ['SALES_Q_7'] + 0 == 0) | (MERCHCAT_MBQ['OPT_CNT_7'] + 0 == 0),\n",
    "                                       0,\n",
    "                                       np.round(MERCHCAT_MBQ['SALES_Q_7'] / MERCHCAT_MBQ['OPT_CNT_7'], 2))\n",
    "\n",
    "MERCHCAT_MBQ['OPT_SALES_8'] = np.where((MERCHCAT_MBQ['SALES_Q_8'] + 0 == 0) | (MERCHCAT_MBQ['OPT_CNT_8'] + 0 == 0),\n",
    "                                       0,\n",
    "                                       np.round(MERCHCAT_MBQ['SALES_Q_8'] / MERCHCAT_MBQ['OPT_CNT_8'], 2))\n",
    "\n",
    "MERCHCAT_MBQ['OPT_SALES_9'] = np.where((MERCHCAT_MBQ['SALES_Q_9'] + 0 == 0) | (MERCHCAT_MBQ['OPT_CNT_9'] + 0 == 0),\n",
    "                                       0,\n",
    "                                       np.round(MERCHCAT_MBQ['SALES_Q_9'] / MERCHCAT_MBQ['OPT_CNT_9'], 2))\n",
    "\n",
    "MERCHCAT_MBQ['OPT_SALES_10'] = np.where((MERCHCAT_MBQ['SALES_Q_10'] + 0 == 0) | (MERCHCAT_MBQ['OPT_CNT_10'] + 0 == 0),\n",
    "                                        0,\n",
    "                                        np.round(MERCHCAT_MBQ['SALES_Q_10'] / MERCHCAT_MBQ['OPT_CNT_10'], 2))\n",
    "\n",
    "MERCHCAT_MBQ['OPT_SALES_11'] = np.where((MERCHCAT_MBQ['SALES_Q_11'] + 0 == 0) | (MERCHCAT_MBQ['OPT_CNT_11'] + 0 == 0),\n",
    "                                        0,\n",
    "                                        np.round(MERCHCAT_MBQ['SALES_Q_11'] / MERCHCAT_MBQ['OPT_CNT_11'], 2))\n",
    "\n",
    "MERCHCAT_MBQ['OPT_SALES_12'] = np.where((MERCHCAT_MBQ['SALES_Q_12'] + 0 == 0) | (MERCHCAT_MBQ['OPT_CNT_12'] + 0 == 0),\n",
    "                                        0,\n",
    "                                        np.round(MERCHCAT_MBQ['SALES_Q_12'] / MERCHCAT_MBQ['OPT_CNT_12'], 2))\n"
   ]
  },
  {
   "cell_type": "code",
   "execution_count": null,
   "metadata": {},
   "outputs": [],
   "source": [
    "#ALLOC MBQ\n",
    "MERCHCAT_MBQ['REV_OPT_SALES_PD_A'] = (MERCHCAT_MBQ['OPT_SALES_A']*MERCHCAT_MBQ['CM_RMN_SALES_CONS']+MERCHCAT_MBQ['OPT_SALES_2']*MERCHCAT_MBQ['NM_RMN_SALES_CONS'])*(1/MERCHCAT_MBQ['BGT_DAYS'])\n",
    "# Calculate REV_OPT_SALES_PD_1\n",
    "MERCHCAT_MBQ['REV_OPT_SALES_PD_1'] = ((MERCHCAT_MBQ['OPT_SALES_1'] * MERCHCAT_MBQ['CM_RMN_SALES_CONS']) +\n",
    "                                      (MERCHCAT_MBQ['OPT_SALES_2'] * MERCHCAT_MBQ['NM_RMN_SALES_CONS'])) * (1 / MERCHCAT_MBQ['BGT_DAYS'])\n",
    "\n",
    "# Calculate OPT_MBQ_30_1\n",
    "MERCHCAT_MBQ['OPT_MBQ_30_1'] = MERCHCAT_MBQ['LISTING_M_1'] * (MERCHCAT_MBQ['F_OPT_DISP_Q_1'] + (MERCHCAT_MBQ['REV_OPT_SALES_PD_1'] * MERCHCAT_MBQ['BGT_DAYS']))\n",
    "\n",
    "# Calculate REM_OPT_SALES_PD_1\n",
    "MERCHCAT_MBQ['REM_OPT_SALES_PD_1'] = (MERCHCAT_MBQ['OPT_SALES_1'] * MERCHCAT_MBQ['CM_RMN_SALES_CONS']) * (1 / MERCHCAT_MBQ['RMN_BGT_DAYS'])\n",
    "\n",
    "# Calculate OPT_MBQ_A\n",
    "MERCHCAT_MBQ['OPT_MBQ_A'] = MERCHCAT_MBQ['LISTING_M_1'] * (MERCHCAT_MBQ['F_OPT_DISP_Q_1'] + (MERCHCAT_MBQ['REV_OPT_SALES_PD_1'] * MERCHCAT_MBQ['ALLOC_DAY_COVER']))\n"
   ]
  },
  {
   "cell_type": "code",
   "execution_count": null,
   "metadata": {},
   "outputs": [],
   "source": [
    "# Calculate OPT_MBQ_30_2 to OPT_MBQ_30_12\n",
    "MERCHCAT_MBQ['OPT_MBQ_30_2'] = MERCHCAT_MBQ['LISTING_M_2'] * (MERCHCAT_MBQ['F_OPT_DISP_Q_2'] + MERCHCAT_MBQ['OPT_SALES_2'])\n",
    "MERCHCAT_MBQ['OPT_MBQ_30_3'] = MERCHCAT_MBQ['LISTING_M_3'] * (MERCHCAT_MBQ['F_OPT_DISP_Q_3'] + MERCHCAT_MBQ['OPT_SALES_3'])\n",
    "MERCHCAT_MBQ['OPT_MBQ_30_4'] = MERCHCAT_MBQ['LISTING_M_4'] * (MERCHCAT_MBQ['F_OPT_DISP_Q_4'] + MERCHCAT_MBQ['OPT_SALES_4'])\n",
    "MERCHCAT_MBQ['OPT_MBQ_30_5'] = MERCHCAT_MBQ['LISTING_M_5'] * (MERCHCAT_MBQ['F_OPT_DISP_Q_5'] + MERCHCAT_MBQ['OPT_SALES_5'])\n",
    "MERCHCAT_MBQ['OPT_MBQ_30_6'] = MERCHCAT_MBQ['LISTING_M_6'] * (MERCHCAT_MBQ['F_OPT_DISP_Q_6'] + MERCHCAT_MBQ['OPT_SALES_6'])\n",
    "MERCHCAT_MBQ['OPT_MBQ_30_7'] = MERCHCAT_MBQ['LISTING_M_7'] * (MERCHCAT_MBQ['F_OPT_DISP_Q_7'] + MERCHCAT_MBQ['OPT_SALES_7'])\n",
    "MERCHCAT_MBQ['OPT_MBQ_30_8'] = MERCHCAT_MBQ['LISTING_M_8'] * (MERCHCAT_MBQ['F_OPT_DISP_Q_8'] + MERCHCAT_MBQ['OPT_SALES_8'])\n",
    "MERCHCAT_MBQ['OPT_MBQ_30_9'] = MERCHCAT_MBQ['LISTING_M_9'] * (MERCHCAT_MBQ['F_OPT_DISP_Q_9'] + MERCHCAT_MBQ['OPT_SALES_9'])\n",
    "MERCHCAT_MBQ['OPT_MBQ_30_10'] = MERCHCAT_MBQ['LISTING_M_10'] * (MERCHCAT_MBQ['F_OPT_DISP_Q_10'] + MERCHCAT_MBQ['OPT_SALES_10'])\n",
    "MERCHCAT_MBQ['OPT_MBQ_30_11'] = MERCHCAT_MBQ['LISTING_M_11'] * (MERCHCAT_MBQ['F_OPT_DISP_Q_11'] + MERCHCAT_MBQ['OPT_SALES_11'])\n",
    "MERCHCAT_MBQ['OPT_MBQ_30_12'] = MERCHCAT_MBQ['LISTING_M_12'] * (MERCHCAT_MBQ['F_OPT_DISP_Q_12'] + MERCHCAT_MBQ['OPT_SALES_12'])\n"
   ]
  },
  {
   "cell_type": "code",
   "execution_count": null,
   "metadata": {},
   "outputs": [],
   "source": [
    "# Calculate OPT_MBQ_L1_A and OPT_MBQ_L1_1\n",
    "MERCHCAT_MBQ['OPT_MBQ_L1_A'] = MERCHCAT_MBQ['LISTING_M_1'] * (MERCHCAT_MBQ['F_OPT_DISP_Q_1'] + (MERCHCAT_MBQ['REV_OPT_SALES_PD_A'] * MERCHCAT_MBQ['L1_SALES_COVER']))\n",
    "MERCHCAT_MBQ['OPT_MBQ_L1_1'] = MERCHCAT_MBQ['LISTING_M_1'] * (MERCHCAT_MBQ['F_OPT_DISP_Q_1'] + (MERCHCAT_MBQ['REV_OPT_SALES_PD_1'] * MERCHCAT_MBQ['L1_SALES_COVER']))\n",
    "\n",
    "# Calculate OPT_MBQ_L1_2\n",
    "MERCHCAT_MBQ['OPT_MBQ_L1_2'] = MERCHCAT_MBQ['LISTING_M_2'] * (MERCHCAT_MBQ['F_OPT_DISP_Q_2'] + (MERCHCAT_MBQ['OPT_SALES_2'] * (MERCHCAT_MBQ['L1_SALES_COVER'] / 30)))\n",
    "\n",
    "# Calculate OPT_MBQ_L1_3\n",
    "MERCHCAT_MBQ['OPT_MBQ_L1_3'] = MERCHCAT_MBQ['LISTING_M_3'] * (MERCHCAT_MBQ['F_OPT_DISP_Q_3'] + (MERCHCAT_MBQ['OPT_SALES_3'] * (MERCHCAT_MBQ['L1_SALES_COVER'] / 30)))\n",
    "\n",
    "# Calculate OPT_MBQ_L1_4\n",
    "MERCHCAT_MBQ['OPT_MBQ_L1_4'] = MERCHCAT_MBQ['LISTING_M_4'] * (MERCHCAT_MBQ['F_OPT_DISP_Q_4'] + (MERCHCAT_MBQ['OPT_SALES_4'] * (MERCHCAT_MBQ['L1_SALES_COVER'] / 30)))\n",
    "\n",
    "# Calculate OPT_MBQ_L1_5\n",
    "MERCHCAT_MBQ['OPT_MBQ_L1_5'] = MERCHCAT_MBQ['LISTING_M_5'] * (MERCHCAT_MBQ['F_OPT_DISP_Q_5'] + (MERCHCAT_MBQ['OPT_SALES_5'] * (MERCHCAT_MBQ['L1_SALES_COVER'] / 30)))\n",
    "\n",
    "# Calculate OPT_MBQ_L1_6\n",
    "MERCHCAT_MBQ['OPT_MBQ_L1_6'] = MERCHCAT_MBQ['LISTING_M_6'] * (MERCHCAT_MBQ['F_OPT_DISP_Q_6'] + (MERCHCAT_MBQ['OPT_SALES_6'] * (MERCHCAT_MBQ['L1_SALES_COVER'] / 30)))\n",
    "\n",
    "# Calculate OPT_MBQ_L1_7\n",
    "MERCHCAT_MBQ['OPT_MBQ_L1_7'] = MERCHCAT_MBQ['LISTING_M_7'] * (MERCHCAT_MBQ['F_OPT_DISP_Q_7'] + (MERCHCAT_MBQ['OPT_SALES_7'] * (MERCHCAT_MBQ['L1_SALES_COVER'] / 30)))\n",
    "\n",
    "# Calculate OPT_MBQ_L1_8\n",
    "MERCHCAT_MBQ['OPT_MBQ_L1_8'] = MERCHCAT_MBQ['LISTING_M_8'] * (MERCHCAT_MBQ['F_OPT_DISP_Q_8'] + (MERCHCAT_MBQ['OPT_SALES_8'] * (MERCHCAT_MBQ['L1_SALES_COVER'] / 30)))\n",
    "\n",
    "# Calculate OPT_MBQ_L1_9\n",
    "MERCHCAT_MBQ['OPT_MBQ_L1_9'] = MERCHCAT_MBQ['LISTING_M_9'] * (MERCHCAT_MBQ['F_OPT_DISP_Q_9'] + (MERCHCAT_MBQ['OPT_SALES_9'] * (MERCHCAT_MBQ['L1_SALES_COVER'] / 30)))\n",
    "\n",
    "# Calculate OPT_MBQ_L1_10\n",
    "MERCHCAT_MBQ['OPT_MBQ_L1_10'] = MERCHCAT_MBQ['LISTING_M_10'] * (MERCHCAT_MBQ['F_OPT_DISP_Q_10'] + (MERCHCAT_MBQ['OPT_SALES_10'] * (MERCHCAT_MBQ['L1_SALES_COVER'] / 30)))\n",
    "\n",
    "# Calculate OPT_MBQ_L1_11\n",
    "MERCHCAT_MBQ['OPT_MBQ_L1_11'] = MERCHCAT_MBQ['LISTING_M_11'] * (MERCHCAT_MBQ['F_OPT_DISP_Q_11'] + (MERCHCAT_MBQ['OPT_SALES_11'] * (MERCHCAT_MBQ['L1_SALES_COVER'] / 30)))\n",
    "\n",
    "# Calculate OPT_MBQ_L1_12\n",
    "MERCHCAT_MBQ['OPT_MBQ_L1_12'] = MERCHCAT_MBQ['LISTING_M_12'] * (MERCHCAT_MBQ['F_OPT_DISP_Q_12'] + (MERCHCAT_MBQ['OPT_SALES_12'] * (MERCHCAT_MBQ['L1_SALES_COVER'] / 30)))\n"
   ]
  },
  {
   "cell_type": "code",
   "execution_count": null,
   "metadata": {},
   "outputs": [],
   "source": [
    "# Calculate OPT_MBQ_30_A\n",
    "MERCHCAT_MBQ['OPT_MBQ_30_A'] = MERCHCAT_MBQ['LISTING_M_1'] * (MERCHCAT_MBQ['F_OPT_DISP_Q_1'] + (MERCHCAT_MBQ['REV_OPT_SALES_PD_A'] * MERCHCAT_MBQ['ALLOC_DAY_COVER'] * MERCHCAT_MBQ['L_OPT_SALES_GR_M_1']))\n",
    "\n",
    "# Calculate OPT_MBQ_30_1\n",
    "MERCHCAT_MBQ['OPT_MBQ_30_1'] = MERCHCAT_MBQ['LISTING_M_1'] * (MERCHCAT_MBQ['F_OPT_DISP_Q_1'] + (MERCHCAT_MBQ['REV_OPT_SALES_PD_1'] * MERCHCAT_MBQ['BGT_DAYS'] * MERCHCAT_MBQ['L_OPT_SALES_GR_M_1']))\n",
    "\n",
    "# Calculate OPT_MBQ_30_2\n",
    "MERCHCAT_MBQ['OPT_MBQ_30_2'] = MERCHCAT_MBQ['LISTING_M_2'] * (MERCHCAT_MBQ['F_OPT_DISP_Q_2'] + (MERCHCAT_MBQ['OPT_SALES_2'] * MERCHCAT_MBQ['L_OPT_SALES_GR_M_2']))\n",
    "\n",
    "# Calculate OPT_MBQ_30_3\n",
    "MERCHCAT_MBQ['OPT_MBQ_30_3'] = MERCHCAT_MBQ['LISTING_M_3'] * (MERCHCAT_MBQ['F_OPT_DISP_Q_3'] + (MERCHCAT_MBQ['OPT_SALES_3'] * MERCHCAT_MBQ['L_OPT_SALES_GR_M_3']))\n",
    "\n",
    "# Calculate OPT_MBQ_30_4\n",
    "MERCHCAT_MBQ['OPT_MBQ_30_4'] = MERCHCAT_MBQ['LISTING_M_4'] * (MERCHCAT_MBQ['F_OPT_DISP_Q_4'] + (MERCHCAT_MBQ['OPT_SALES_4'] * MERCHCAT_MBQ['L_OPT_SALES_GR_M_4']))\n",
    "\n",
    "# Calculate OPT_MBQ_30_5\n",
    "MERCHCAT_MBQ['OPT_MBQ_30_5'] = MERCHCAT_MBQ['LISTING_M_5'] * (MERCHCAT_MBQ['F_OPT_DISP_Q_5'] + (MERCHCAT_MBQ['OPT_SALES_5'] * MERCHCAT_MBQ['L_OPT_SALES_GR_M_5']))\n",
    "\n",
    "# Calculate OPT_MBQ_30_6\n",
    "MERCHCAT_MBQ['OPT_MBQ_30_6'] = MERCHCAT_MBQ['LISTING_M_6'] * (MERCHCAT_MBQ['F_OPT_DISP_Q_6'] + (MERCHCAT_MBQ['OPT_SALES_6'] * MERCHCAT_MBQ['L_OPT_SALES_GR_M_6']))\n",
    "\n",
    "# Calculate OPT_MBQ_30_7\n",
    "MERCHCAT_MBQ['OPT_MBQ_30_7'] = MERCHCAT_MBQ['LISTING_M_7'] * (MERCHCAT_MBQ['F_OPT_DISP_Q_7'] + (MERCHCAT_MBQ['OPT_SALES_7'] * MERCHCAT_MBQ['L_OPT_SALES_GR_M_7']))\n",
    "\n",
    "# Calculate OPT_MBQ_30_8\n",
    "MERCHCAT_MBQ['OPT_MBQ_30_8'] = MERCHCAT_MBQ['LISTING_M_8'] * (MERCHCAT_MBQ['F_OPT_DISP_Q_8'] + (MERCHCAT_MBQ['OPT_SALES_8'] * MERCHCAT_MBQ['L_OPT_SALES_GR_M_8']))\n",
    "\n",
    "# Calculate OPT_MBQ_30_9\n",
    "MERCHCAT_MBQ['OPT_MBQ_30_9'] = MERCHCAT_MBQ['LISTING_M_9'] * (MERCHCAT_MBQ['F_OPT_DISP_Q_9'] + (MERCHCAT_MBQ['OPT_SALES_9'] * MERCHCAT_MBQ['L_OPT_SALES_GR_M_9']))\n",
    "\n",
    "# Calculate OPT_MBQ_30_10\n",
    "MERCHCAT_MBQ['OPT_MBQ_30_10'] = MERCHCAT_MBQ['LISTING_M_10'] * (MERCHCAT_MBQ['F_OPT_DISP_Q_10'] + (MERCHCAT_MBQ['OPT_SALES_10'] * MERCHCAT_MBQ['L_OPT_SALES_GR_M_10']))\n",
    "\n",
    "# Calculate OPT_MBQ_30_11\n",
    "MERCHCAT_MBQ['OPT_MBQ_30_11'] = MERCHCAT_MBQ['LISTING_M_11'] * (MERCHCAT_MBQ['F_OPT_DISP_Q_11'] + (MERCHCAT_MBQ['OPT_SALES_11'] * MERCHCAT_MBQ['L_OPT_SALES_GR_M_11']))\n",
    "\n",
    "# Calculate OPT_MBQ_30_12\n",
    "MERCHCAT_MBQ['OPT_MBQ_30_12'] = MERCHCAT_MBQ['LISTING_M_12'] * (MERCHCAT_MBQ['F_OPT_DISP_Q_12'] + (MERCHCAT_MBQ['OPT_SALES_12'] * MERCHCAT_MBQ['L_OPT_SALES_GR_M_12']))\n"
   ]
  },
  {
   "cell_type": "code",
   "execution_count": null,
   "metadata": {},
   "outputs": [],
   "source": [
    "# Calculate SSN_MBQ_A\n",
    "MERCHCAT_MBQ['SSN_MBQ_A'] = MERCHCAT_MBQ['LISTING_M_1'] * (MERCHCAT_MBQ['F_OPT_DISP_Q_1'] + (MERCHCAT_MBQ['REV_OPT_SALES_PD_A'] * MERCHCAT_MBQ['ALLOC_DAY_COVER'] * MERCHCAT_MBQ['L_OPT_SALES_GR_M_1']))\n",
    "\n",
    "# Calculate SSN_MBQ_1\n",
    "MERCHCAT_MBQ['SSN_MBQ_1'] = MERCHCAT_MBQ['LISTING_M_1'] * (MERCHCAT_MBQ['F_OPT_DISP_Q_1'] + (MERCHCAT_MBQ['REV_OPT_SALES_PD_1'] * MERCHCAT_MBQ['BGT_DAYS'] * MERCHCAT_MBQ['L_OPT_SALES_GR_M_1']))\n",
    "    \n",
    "# Calculate SSN_MBQ_2\n",
    "MERCHCAT_MBQ['SSN_MBQ_2'] = MERCHCAT_MBQ['LISTING_M_2'] * (MERCHCAT_MBQ['F_OPT_DISP_Q_2'] + (MERCHCAT_MBQ['OPT_SALES_2'] * MERCHCAT_MBQ['L_OPT_SALES_GR_M_2']))\n",
    "\n",
    "# Calculate SSN_MBQ_3\n",
    "MERCHCAT_MBQ['SSN_MBQ_3'] = MERCHCAT_MBQ['LISTING_M_3'] * (MERCHCAT_MBQ['F_OPT_DISP_Q_3'] + (MERCHCAT_MBQ['OPT_SALES_3'] * MERCHCAT_MBQ['L_OPT_SALES_GR_M_3']))\n",
    "\n",
    "# Calculate SSN_MBQ_4\n",
    "MERCHCAT_MBQ['SSN_MBQ_4'] = MERCHCAT_MBQ['LISTING_M_4'] * (MERCHCAT_MBQ['F_OPT_DISP_Q_4'] + (MERCHCAT_MBQ['OPT_SALES_4'] * MERCHCAT_MBQ['L_OPT_SALES_GR_M_4']))\n",
    "\n",
    "# Calculate SSN_MBQ_5\n",
    "MERCHCAT_MBQ['SSN_MBQ_5'] = MERCHCAT_MBQ['LISTING_M_5'] * (MERCHCAT_MBQ['F_OPT_DISP_Q_5'] + (MERCHCAT_MBQ['OPT_SALES_5'] * MERCHCAT_MBQ['L_OPT_SALES_GR_M_5']))\n",
    "\n",
    "# Calculate SSN_MBQ_6\n",
    "MERCHCAT_MBQ['SSN_MBQ_6'] = MERCHCAT_MBQ['LISTING_M_6'] * (MERCHCAT_MBQ['F_OPT_DISP_Q_6'] + (MERCHCAT_MBQ['OPT_SALES_6'] * MERCHCAT_MBQ['L_OPT_SALES_GR_M_6']))\n",
    "\n",
    "# Calculate SSN_MBQ_7\n",
    "MERCHCAT_MBQ['SSN_MBQ_7'] = MERCHCAT_MBQ['LISTING_M_7'] * (MERCHCAT_MBQ['F_OPT_DISP_Q_7'] + (MERCHCAT_MBQ['OPT_SALES_7'] * MERCHCAT_MBQ['L_OPT_SALES_GR_M_7']))\n",
    "\n",
    "# Calculate SSN_MBQ_8\n",
    "MERCHCAT_MBQ['SSN_MBQ_8'] = MERCHCAT_MBQ['LISTING_M_8'] * (MERCHCAT_MBQ['F_OPT_DISP_Q_8'] + (MERCHCAT_MBQ['OPT_SALES_8'] * MERCHCAT_MBQ['L_OPT_SALES_GR_M_8']))\n",
    "\n",
    "# Calculate SSN_MBQ_9\n",
    "MERCHCAT_MBQ['SSN_MBQ_9'] = MERCHCAT_MBQ['LISTING_M_9'] * (MERCHCAT_MBQ['F_OPT_DISP_Q_9'] + (MERCHCAT_MBQ['OPT_SALES_9'] * MERCHCAT_MBQ['L_OPT_SALES_GR_M_9']))\n",
    "\n",
    "# Calculate SSN_MBQ_10\n",
    "MERCHCAT_MBQ['SSN_MBQ_10'] = MERCHCAT_MBQ['LISTING_M_10'] * (MERCHCAT_MBQ['F_OPT_DISP_Q_10'] + (MERCHCAT_MBQ['OPT_SALES_10'] * MERCHCAT_MBQ['L_OPT_SALES_GR_M_10']))\n",
    "\n",
    "# Calculate SSN_MBQ_11\n",
    "MERCHCAT_MBQ['SSN_MBQ_11'] = MERCHCAT_MBQ['LISTING_M_11'] * (MERCHCAT_MBQ['F_OPT_DISP_Q_11'] + (MERCHCAT_MBQ['OPT_SALES_11'] * MERCHCAT_MBQ['L_OPT_SALES_GR_M_11']))\n",
    "\n",
    "# Calculate SSN_MBQ_12\n",
    "MERCHCAT_MBQ['SSN_MBQ_12'] = MERCHCAT_MBQ['LISTING_M_12'] * (MERCHCAT_MBQ['F_OPT_DISP_Q_12'] + (MERCHCAT_MBQ['OPT_SALES_12'] * MERCHCAT_MBQ['L_OPT_SALES_GR_M_12']))\n"
   ]
  },
  {
   "cell_type": "code",
   "execution_count": null,
   "metadata": {},
   "outputs": [],
   "source": [
    "# Calculate REV_MC_SALES_PD_1\n",
    "MERCHCAT_MBQ['REV_MC_SALES_PD_1'] = (MERCHCAT_MBQ['SALES_Q_1'] * MERCHCAT_MBQ['CM_RMN_SALES_CONS'] + MERCHCAT_MBQ['SALES_Q_2'] * MERCHCAT_MBQ['NM_RMN_SALES_CONS']) * (1 / MERCHCAT_MBQ['BGT_DAYS'])\n",
    "\n",
    "# Calculate MC_MBQ_A\n",
    "MERCHCAT_MBQ['MC_MBQ_A'] = MERCHCAT_MBQ['LISTING_M_1'] * (MERCHCAT_MBQ['ALLOC_DISP'] + (MERCHCAT_MBQ['REV_MC_SALES_PD_1'] * MERCHCAT_MBQ['ALLOC_DAY_COVER']))\n",
    "\n",
    "# Calculate MC_MBQ_30_1\n",
    "MERCHCAT_MBQ['MC_MBQ_30_1'] = MERCHCAT_MBQ['LISTING_M_1'] * (MERCHCAT_MBQ['DISP_Q_1'] + (MERCHCAT_MBQ['REV_MC_SALES_PD_1'] * MERCHCAT_MBQ['BGT_DAYS']))\n",
    "\n",
    "# Calculate REM_SALES_1\n",
    "MERCHCAT_MBQ['REM_SALES_1'] = (MERCHCAT_MBQ['SALES_Q_1'] * MERCHCAT_MBQ['CM_RMN_SALES_CONS']) * (1 / MERCHCAT_MBQ['RMN_BGT_DAYS'])\n"
   ]
  },
  {
   "cell_type": "code",
   "execution_count": null,
   "metadata": {},
   "outputs": [],
   "source": [
    "# Calculate MC_MBQ_30_2\n",
    "MERCHCAT_MBQ['MC_MBQ_30_2'] = MERCHCAT_MBQ['LISTING_M_2'] * (MERCHCAT_MBQ['DISP_Q_2'] + MERCHCAT_MBQ['SALES_Q_2'])\n",
    "\n",
    "# Calculate MC_MBQ_30_3\n",
    "MERCHCAT_MBQ['MC_MBQ_30_3'] = MERCHCAT_MBQ['LISTING_M_3'] * (MERCHCAT_MBQ['DISP_Q_3'] + MERCHCAT_MBQ['SALES_Q_3'])\n",
    "\n",
    "# Calculate MC_MBQ_30_4\n",
    "MERCHCAT_MBQ['MC_MBQ_30_4'] = MERCHCAT_MBQ['LISTING_M_4'] * (MERCHCAT_MBQ['DISP_Q_4'] + MERCHCAT_MBQ['SALES_Q_4'])\n",
    "\n",
    "# Calculate MC_MBQ_30_5\n",
    "MERCHCAT_MBQ['MC_MBQ_30_5'] = MERCHCAT_MBQ['LISTING_M_5'] * (MERCHCAT_MBQ['DISP_Q_5'] + MERCHCAT_MBQ['SALES_Q_5'])\n",
    "\n",
    "# Calculate MC_MBQ_30_6\n",
    "MERCHCAT_MBQ['MC_MBQ_30_6'] = MERCHCAT_MBQ['LISTING_M_6'] * (MERCHCAT_MBQ['DISP_Q_6'] + MERCHCAT_MBQ['SALES_Q_6'])\n",
    "\n",
    "# Calculate MC_MBQ_30_7\n",
    "MERCHCAT_MBQ['MC_MBQ_30_7'] = MERCHCAT_MBQ['LISTING_M_7'] * (MERCHCAT_MBQ['DISP_Q_7'] + MERCHCAT_MBQ['SALES_Q_7'])\n",
    "\n",
    "# Calculate MC_MBQ_30_8\n",
    "MERCHCAT_MBQ['MC_MBQ_30_8'] = MERCHCAT_MBQ['LISTING_M_8'] * (MERCHCAT_MBQ['DISP_Q_8'] + MERCHCAT_MBQ['SALES_Q_8'])\n",
    "\n",
    "# Calculate MC_MBQ_30_9\n",
    "MERCHCAT_MBQ['MC_MBQ_30_9'] = MERCHCAT_MBQ['LISTING_M_9'] * (MERCHCAT_MBQ['DISP_Q_9'] + MERCHCAT_MBQ['SALES_Q_9'])\n",
    "\n",
    "# Calculate MC_MBQ_30_10\n",
    "MERCHCAT_MBQ['MC_MBQ_30_10'] = MERCHCAT_MBQ['LISTING_M_10'] * (MERCHCAT_MBQ['DISP_Q_10'] + MERCHCAT_MBQ['SALES_Q_10'])\n",
    "\n",
    "# Calculate MC_MBQ_30_11\n",
    "MERCHCAT_MBQ['MC_MBQ_30_11'] = MERCHCAT_MBQ['LISTING_M_11'] * (MERCHCAT_MBQ['DISP_Q_11'] + MERCHCAT_MBQ['SALES_Q_11'])\n",
    "\n",
    "# Calculate MC_MBQ_30_12\n",
    "MERCHCAT_MBQ['MC_MBQ_30_12'] = MERCHCAT_MBQ['LISTING_M_12'] * (MERCHCAT_MBQ['DISP_Q_12'] + MERCHCAT_MBQ['SALES_Q_12'])\n"
   ]
  },
  {
   "cell_type": "code",
   "execution_count": null,
   "metadata": {},
   "outputs": [],
   "source": [
    "MERCHCAT_MBQ.drop(['OPT_DISP_Q_1','OPT_DISP_Q_2','OPT_DISP_Q_3','OPT_DISP_Q_4','OPT_DISP_Q_5','OPT_DISP_Q_6'],inplace=True,axis=1)\n",
    "MERCHCAT_MBQ.drop(['OPT_DISP_Q_7','OPT_DISP_Q_8','OPT_DISP_Q_9','OPT_DISP_Q_10','OPT_DISP_Q_11','OPT_DISP_Q_12'],inplace=True,axis=1)\n",
    "MERCHCAT_MBQ.drop(['ST_OPT_DISP_Q_1','ST_OPT_DISP_Q_2','ST_OPT_DISP_Q_3','ST_OPT_DISP_Q_4','ST_OPT_DISP_Q_5','ST_OPT_DISP_Q_6'],inplace=True,axis=1)\n",
    "MERCHCAT_MBQ.drop(['ST_OPT_DISP_Q_7','ST_OPT_DISP_Q_8','ST_OPT_DISP_Q_9','ST_OPT_DISP_Q_10','ST_OPT_DISP_Q_11','ST_OPT_DISP_Q_12'],inplace=True,axis=1)\n"
   ]
  },
  {
   "cell_type": "code",
   "execution_count": null,
   "metadata": {},
   "outputs": [],
   "source": [
    "MERCHCAT_MBQ['DISP_Q_1'] = pd.to_numeric(MERCHCAT_MBQ['DISP_Q_1'], errors='coerce')"
   ]
  },
  {
   "cell_type": "code",
   "execution_count": null,
   "metadata": {},
   "outputs": [],
   "source": [
    "MAJCAT_MBQ_A = MAJCAT_MBQ[['ST_CD','MAJCAT','MJ_MBQ_A','MJ_MBQ_30_1','MJ_MBQ_30_2','MJ_MBQ_30_3','MJ_MBQ_30_4','MJ_MBQ_30_5',\n",
    "                          'MJ_MBQ_30_6','MJ_MBQ_30_7','MJ_MBQ_30_8','MJ_MBQ_30_9','MJ_MBQ_30_10','MJ_MBQ_30_11','MJ_MBQ_30_12']]"
   ]
  },
  {
   "cell_type": "code",
   "execution_count": null,
   "metadata": {},
   "outputs": [],
   "source": [
    "MERCHCAT_MBQ_A = MERCHCAT_MBQ[['ST_CD','MAJCAT','MERCHCAT','MC_MBQ_A','MC_MBQ_30_1','MC_MBQ_30_2','MC_MBQ_30_3','MC_MBQ_30_4','MC_MBQ_30_5',\n",
    "                          'MC_MBQ_30_6','MC_MBQ_30_7','MC_MBQ_30_8','MC_MBQ_30_9','MC_MBQ_30_10','MC_MBQ_30_11','MC_MBQ_30_12']]"
   ]
  },
  {
   "cell_type": "code",
   "execution_count": null,
   "metadata": {},
   "outputs": [],
   "source": [
    "MERCHCAT_MBQ_TEMP = MERCHCAT_MBQ[['ST_CD','MERCHCAT','OPT_MBQ_A','OPT_MBQ_L1_A','OPT_MBQ_30_A','SSN_MBQ_A']]"
   ]
  },
  {
   "cell_type": "code",
   "execution_count": null,
   "metadata": {},
   "outputs": [],
   "source": [
    "def save_csv(df, filename):\n",
    "    df.to_csv(filename, index=False)"
   ]
  },
  {
   "cell_type": "code",
   "execution_count": null,
   "metadata": {},
   "outputs": [],
   "source": [
    "path = r\"C:\\Users\\Administrator\\Desktop\\drive-download-20240503T040120Z-001\\Testing\"\n",
    "\n",
    "\n",
    "# List of DataFrames and corresponding file paths\n",
    "dataframes = [MAJCAT_MBQ, MERCHCAT_MBQ, MERCHCAT_MBQ_A, MAJCAT_MBQ_A]\n",
    "filenames = [path + r\"\\MJ_MBQ_file.csv\", path + r\"\\MC_MBQ_file.csv\",\n",
    "             path + r\"\\MC_MBQ_B_file.csv\", path + r\"\\MJ_MBQ_B_file.csv\"]\n",
    "\n",
    "# List to hold threads\n",
    "threads = []\n",
    "\n",
    "# Create and start a thread for each DataFrame\n",
    "for df, filename in zip(dataframes, filenames):\n",
    "    thread = threading.Thread(target=save_csv, args=(df, filename))\n",
    "    thread.start()\n",
    "    threads.append(thread)\n",
    "\n",
    "# Wait for all threads to complete\n",
    "for thread in threads:\n",
    "    thread.join()\n"
   ]
  },
  {
   "cell_type": "code",
   "execution_count": null,
   "metadata": {},
   "outputs": [],
   "source": [
    "MJ_MBQ = MAJCAT_MBQ_A\n",
    "MC_MBQ = MERCHCAT_MBQ_A"
   ]
  },
  {
   "cell_type": "code",
   "execution_count": null,
   "metadata": {},
   "outputs": [],
   "source": [
    "ST_STK_DATA = ST_STK\n",
    "ST_STK_DATA = pd.merge(ST_STK_DATA, MERCHCAT_MBQ_TEMP, how=\"left\",on=[\"ST_CD\",\"MERCHCAT\"],suffixes=('_left', '_right'))"
   ]
  },
  {
   "cell_type": "code",
   "execution_count": null,
   "metadata": {},
   "outputs": [],
   "source": [
    "ST_STK_DATA['REV_ST_STK'] = np.where(ST_STK_DATA['OPT_MBQ_A'] + 0 == 0,\n",
    "                                     ST_STK_DATA['ST_STK'],\n",
    "                                     np.minimum(ST_STK_DATA['ST_STK'], ST_STK_DATA['OPT_MBQ_A']))"
   ]
  },
  {
   "cell_type": "code",
   "execution_count": null,
   "metadata": {},
   "outputs": [],
   "source": [
    "ST_STK_DATA_TEMP = ST_STK_DATA[['ST_CD','MERCHCAT','GEN_ART','COLOR','ST_STK','REV_ST_STK']]"
   ]
  },
  {
   "cell_type": "code",
   "execution_count": null,
   "metadata": {},
   "outputs": [],
   "source": [
    "#REV STK BTM-UP AT ALL HIER LEVEL\n",
    "ST_STK_MJ = ST_STK_DATA.groupby(['ST_CD','MAJCAT'], as_index=False).agg(MJ_REV_STK=('REV_ST_STK','sum'))\n",
    "ST_STK_MC = ST_STK_DATA.groupby(['ST_CD','MERCHCAT'], as_index=False).agg(MC_REV_STK=('REV_ST_STK','sum'))\n",
    "ST_STK_MC_M_MVGR = ST_STK_DATA.groupby(['ST_CD','MERCHCAT','MACRO_MVGR'], as_index=False).agg(MC_REV_STK=('REV_ST_STK','sum'))\n",
    "ST_STK_MC_MVGR_1 = ST_STK_DATA.groupby(['ST_CD','MERCHCAT','MVGR_1'], as_index=False).agg(MC_REV_STK=('REV_ST_STK','sum'))\n",
    "ST_STK_MC_FABRIC = ST_STK_DATA.groupby(['ST_CD','MERCHCAT','FABRIC'], as_index=False).agg(MC_REV_STK=('REV_ST_STK','sum'))\n",
    "ST_STK_MC_BODY = ST_STK_DATA.groupby(['ST_CD','MERCHCAT','BODY'], as_index=False).agg(MC_REV_STK=('REV_ST_STK','sum'))\n",
    "ST_STK_MC_COLOR = ST_STK_DATA.groupby(['ST_CD','MERCHCAT','COLOR'], as_index=False).agg(MC_REV_STK=('REV_ST_STK','sum'))\n",
    "ST_STK_MC_M_MVGR_COLOR = ST_STK_DATA.groupby(['ST_CD','MERCHCAT','MACRO_MVGR','COLOR'], as_index=False).agg(MC_REV_STK=('REV_ST_STK','sum'))\n",
    "ST_STK_MC_MVGR_1_COLOR = ST_STK_DATA.groupby(['ST_CD','MERCHCAT','MVGR_1','COLOR'], as_index=False).agg(MC_REV_STK=('REV_ST_STK','sum'))\n",
    "ST_STK_MC_FABRIC_COLOR = ST_STK_DATA.groupby(['ST_CD','MERCHCAT','FABRIC','COLOR'], as_index=False).agg(MC_REV_STK=('REV_ST_STK','sum'))\n",
    "ST_STK_MC_BODY_COLOR = ST_STK_DATA.groupby(['ST_CD','MERCHCAT','BODY','COLOR'], as_index=False).agg(MC_REV_STK=('REV_ST_STK','sum'))\n",
    "ST_STK_MC_M_MVGR_MVGR_1 = ST_STK_DATA.groupby(['ST_CD','MERCHCAT','MACRO_MVGR','MVGR_1'], as_index=False).agg(MC_REV_STK=('REV_ST_STK','sum'))\n",
    "ST_STK_MC_M_MVGR_FABRIC = ST_STK_DATA.groupby(['ST_CD','MERCHCAT','MACRO_MVGR','FABRIC'], as_index=False).agg(MC_REV_STK=('REV_ST_STK','sum'))\n",
    "ST_STK_MC_M_MVGR_BODY = ST_STK_DATA.groupby(['ST_CD','MERCHCAT','MACRO_MVGR','BODY'], as_index=False).agg(MC_REV_STK=('REV_ST_STK','sum'))\n",
    "ST_STK_MC_M_MVGR_MVGR_1_COLOR = ST_STK_DATA.groupby(['ST_CD','MERCHCAT','MACRO_MVGR','MVGR_1','COLOR'], as_index=False).agg(MC_REV_STK=('REV_ST_STK','sum'))\n",
    "ST_STK_MC_M_MVGR_FABRIC_COLOR = ST_STK_DATA.groupby(['ST_CD','MERCHCAT','MACRO_MVGR','FABRIC','COLOR'], as_index=False).agg(MC_REV_STK=('REV_ST_STK','sum'))\n",
    "ST_STK_MC_M_MVGR_BODY_COLOR = ST_STK_DATA.groupby(['ST_CD','MERCHCAT','MACRO_MVGR','BODY','COLOR'], as_index=False).agg(MC_REV_STK=('REV_ST_STK','sum'))\n"
   ]
  },
  {
   "cell_type": "code",
   "execution_count": null,
   "metadata": {},
   "outputs": [],
   "source": [
    "#download data ST_STK_DATA\n",
    "temp=ST_STK_DATA\n",
    "temp.to_csv(path+r\"\\ST_STK_temp_file.csv\")\n"
   ]
  },
  {
   "cell_type": "code",
   "execution_count": null,
   "metadata": {},
   "outputs": [],
   "source": [
    "DC_STK_DATA = DC_STK\n",
    "ST_DC=DC_STK_DATA[['SEG','DIV','SUB_DIV','MAJCAT','MERCHCAT','MRP','RNG_SEG','SSN','GEN_ART','GEN_ART_DESC','COLOR','VAR_ART','SZ','M_VND_CD',\n",
    "              'M_VND_NM','CO_AGING','MACRO_MVGR','MVGR_1','FABRIC','BODY','DISCOUNT_STATUS']]\n",
    "ST_DC.insert(0,\"ST_NO\",0)\n",
    "ST_DC['ST_NO']=0\n",
    "ST_TEST = ST_DC\n",
    "ST_DATA = ST_DC"
   ]
  },
  {
   "cell_type": "code",
   "execution_count": null,
   "metadata": {},
   "outputs": [],
   "source": [
    "# Increment the 'ST_NO' column by 1 for values from 0 to 199\n",
    "ST_TEST['ST_NO'] += 1\n",
    "\n",
    "# Concatenate ST_TEST with ST_DATA\n",
    "ST_DATA = pd.concat([ST_DATA] * 200, ignore_index=True)\n",
    "\n",
    "# Update the 'ST_NO' column in the concatenated DataFrame\n",
    "ST_DATA['ST_NO'] = np.tile(ST_TEST['ST_NO'], len(ST_DATA) // len(ST_TEST))\n"
   ]
  },
  {
   "cell_type": "code",
   "execution_count": null,
   "metadata": {},
   "outputs": [],
   "source": [
    "DATACHECK = ST_DATA[(ST_DATA['ST_NO']==1)].index\n",
    "ST_DATA.drop(DATACHECK, inplace=True)"
   ]
  },
  {
   "cell_type": "code",
   "execution_count": null,
   "metadata": {},
   "outputs": [],
   "source": [
    "ST_DC['ST_NO']=1\n",
    "ST_DATA = pd.concat([ST_DATA,ST_DC],ignore_index=True)"
   ]
  },
  {
   "cell_type": "code",
   "execution_count": null,
   "metadata": {},
   "outputs": [],
   "source": [
    "ST_DETAILS_R = ST_DETAILS[['ST_CD','PRIORITY_LIST']]\n",
    "ST_DETAILS_R['ST_NO']=ST_DETAILS_R['PRIORITY_LIST']\n",
    "ST_DETAILS_R = ST_DETAILS[['ST_CD','ST_NO']]"
   ]
  },
  {
   "cell_type": "code",
   "execution_count": null,
   "metadata": {},
   "outputs": [],
   "source": [
    "ST_DATA = pd.merge(ST_DATA, ST_DETAILS_R, how=\"left\",on=[\"ST_NO\"])"
   ]
  },
  {
   "cell_type": "code",
   "execution_count": null,
   "metadata": {},
   "outputs": [],
   "source": [
    "ST_DATA['ST_CD'] = ST_DATA['ST_CD'].fillna(\"xxx\")\n",
    "DATACHECK = ST_DATA[(ST_DATA['ST_CD']=='xxx')].index\n",
    "ST_DATA.drop(DATACHECK, inplace=True)"
   ]
  },
  {
   "cell_type": "code",
   "execution_count": null,
   "metadata": {},
   "outputs": [],
   "source": [
    "ST_DATA = pd.merge(ST_DATA, MERCHCAT_MBQ_TEMP, how=\"left\",on=[\"ST_CD\",\"MERCHCAT\"])\n",
    "ST_DATA = pd.merge(ST_DATA, ST_STK_DATA_TEMP, how=\"left\",on=[\"ST_CD\",\"MERCHCAT\",\"GEN_ART\",\"COLOR\"])\n",
    "ST_DATA['ST_STK'] = ST_DATA['ST_STK'].fillna(0)\n",
    "ST_DATA['REV_ST_STK'] = ST_DATA['REV_ST_STK'].fillna(0)"
   ]
  },
  {
   "cell_type": "code",
   "execution_count": null,
   "metadata": {},
   "outputs": [],
   "source": [
    "temp=ST_DATA.head(10000)\n",
    "temp.to_csv(path+r\"\\ST_DATA_temp_file.csv\")"
   ]
  },
  {
   "cell_type": "code",
   "execution_count": null,
   "metadata": {},
   "outputs": [],
   "source": [
    "#comb\n",
    "DC_STK_DATA['REV_DC_STK']=DC_STK_DATA['CURR_DC_STK']\n",
    "DC_STK_DATA['GEN_CLR'] = DC_STK_DATA['GEN_ART'].astype(str)+DC_STK_DATA['COLOR'].astype(str)\n",
    "DC_STK_DATA['MC_GEN_CLR'] = DC_STK_DATA['MERCHCAT'].astype(str)+DC_STK_DATA['GEN_ART'].astype(str)+DC_STK_DATA['COLOR'].astype(str)"
   ]
  },
  {
   "cell_type": "code",
   "execution_count": null,
   "metadata": {},
   "outputs": [],
   "source": [
    "ST_DATA['GEN_CLR'] = ST_DATA['GEN_ART'].astype(str)+ST_DATA['COLOR'].astype(str)\n",
    "ST_DATA['COMB'] = ST_DATA['ST_CD']+ST_DATA['GEN_ART'].astype(str)+ST_DATA['COLOR'].astype(str)\n",
    "ST_DATA['GEN_CLR'] = ST_DATA['GEN_ART'].astype(str)+ST_DATA['COLOR'].astype(str)\n",
    "ST_DATA['COMB'] = ST_DATA['ST_CD']+ST_DATA['GEN_ART'].astype(str)+ST_DATA['COLOR'].astype(str)\n",
    "ST_DATA['ART_REQ'] = np.where(ST_DATA['ST_STK'] == 0,\n",
    "                               ST_DATA['OPT_MBQ_A'],\n",
    "                               np.maximum(ST_DATA['OPT_MBQ_A'] - ST_DATA['ST_STK'], 0))\n",
    "\n",
    "# Calculate 'SSN_ART_REQ' using vectorized operations\n",
    "ST_DATA['SSN_ART_REQ'] = np.where(ST_DATA['ST_STK'] == 0,\n",
    "                                   ST_DATA['SSN_MBQ_A'],\n",
    "                                   np.maximum(ST_DATA['SSN_MBQ_A'] - ST_DATA['ST_STK'], 0))"
   ]
  },
  {
   "cell_type": "code",
   "execution_count": null,
   "metadata": {},
   "outputs": [],
   "source": [
    "DC_STK_DATA['ALLOC']=0\n",
    "ST_DATA['ALLOC']=0\n",
    "\n",
    "ST_STK_MJ['MJ_ALLOC']=0\n",
    "ST_STK_MC['MC_ALLOC']=0\n",
    "ST_STK_MC_M_MVGR['ALLOC'] = 0\n",
    "ST_STK_MC_MVGR_1['ALLOC'] = 0\n",
    "ST_STK_MC_FABRIC['ALLOC'] = 0\n",
    "ST_STK_MC_BODY['ALLOC'] = 0\n",
    "ST_STK_MC_COLOR['ALLOC'] = 0\n",
    "ST_STK_MC_M_MVGR_COLOR['ALLOC'] = 0\n",
    "ST_STK_MC_MVGR_1_COLOR['ALLOC'] = 0\n",
    "ST_STK_MC_FABRIC_COLOR['ALLOC'] = 0\n",
    "ST_STK_MC_BODY_COLOR['ALLOC'] = 0\n",
    "ST_STK_MC_M_MVGR_MVGR_1['ALLOC'] = 0\n",
    "ST_STK_MC_M_MVGR_FABRIC['ALLOC'] = 0\n",
    "ST_STK_MC_M_MVGR_BODY['ALLOC'] = 0\n",
    "ST_STK_MC_M_MVGR_MVGR_1_COLOR['ALLOC'] = 0\n",
    "ST_STK_MC_M_MVGR_FABRIC_COLOR['ALLOC'] = 0\n",
    "ST_STK_MC_M_MVGR_BODY_COLOR['ALLOC'] = 0\n",
    "MJ_MBQ['ALLOC'] = 0"
   ]
  },
  {
   "cell_type": "code",
   "execution_count": null,
   "metadata": {},
   "outputs": [],
   "source": [
    "MJ_ALGO = BGT_MAJCAT[['ST_CD','MAJCAT']]\n",
    "MC_ALGO = BGT_MERCHCAT[['ST_CD','MAJCAT','MERCHCAT']]\n",
    "MC_M_MVGR = MC_M_MVGR_CONT[['ST_CD','MERCHCAT','MACRO_MVGR']]\n",
    "MC_MVGR = MC_MVGR_CONT[['ST_CD','MERCHCAT','MVGR']]\n",
    "MC_BODY = MC_BODY_CONT[['ST_CD','MERCHCAT','BODY']]\n",
    "MC_FABRIC = MC_FABRIC_CONT[['ST_CD','MERCHCAT','FABRIC']]\n",
    "MC_CLR = MC_CLR_CONT[['ST_CD','MERCHCAT','CLR']]\n",
    "MC_VEND = MC_VEND_CONT[['ST_CD','MERCHCAT','VEND_CD']]\n"
   ]
  },
  {
   "cell_type": "code",
   "execution_count": null,
   "metadata": {},
   "outputs": [],
   "source": [
    "MJ_MBQ['ALLOC']=MJ_MBQ['ALLOC'].astype(float)"
   ]
  },
  {
   "cell_type": "code",
   "execution_count": null,
   "metadata": {},
   "outputs": [],
   "source": [
    "\n",
    "#MAJCAT_MBQ_A['COMB']= MAJCAT_MBQ_A['ST_CD']+MAJCAT_MBQ_A['MAJCAT']\n",
    "MJ_MBQ['COMB'] = MJ_MBQ['ST_CD']+MJ_MBQ['MAJCAT']\n",
    "MC_MBQ['COMB'] = MC_MBQ['ST_CD']+MC_MBQ['MERCHCAT']\n",
    "#ST_STK_MJ['COMB'] = ST_STK_MJ['ST_CD']+ST_STK_MJ['MAJCAT']\n",
    "#ST_STK_MC['COMB'] = ST_STK_MC['ST_CD']+ST_STK_MC['MERCHCAT']\n",
    "MC_M_MVGR['COMB'] = MC_M_MVGR['ST_CD']+MC_M_MVGR['MERCHCAT']+MC_M_MVGR['MACRO_MVGR']\n",
    "MC_MVGR['COMB'] = MC_MVGR['ST_CD']+MC_MVGR['MERCHCAT']+MC_MVGR['MVGR']\n",
    "MC_BODY['COMB'] = MC_BODY['ST_CD']+MC_BODY['MERCHCAT']+MC_BODY['BODY']\n",
    "MC_FABRIC['COMB'] = MC_FABRIC['ST_CD']+MC_FABRIC['MERCHCAT']+MC_FABRIC['FABRIC']\n",
    "MC_CLR['COMB'] = MC_CLR['ST_CD']+MC_CLR['MERCHCAT']+MC_CLR['CLR']\n",
    "MC_VEND['COMB'] = MC_VEND['ST_CD']+MC_VEND['MERCHCAT']+MC_VEND['VEND_CD']\n"
   ]
  },
  {
   "cell_type": "code",
   "execution_count": null,
   "metadata": {},
   "outputs": [],
   "source": [
    "MJ_MBQ['MJ_MBQ']=MJ_MBQ['MJ_MBQ_A']\n",
    "MC_MBQ['MC_MBQ']=MC_MBQ['MC_MBQ_A']\n",
    "MJ_MBQ = pd.merge(MJ_MBQ, ST_STK_MJ, how=\"left\",on=[\"ST_CD\",\"MAJCAT\"])\n",
    "MC_MBQ = pd.merge(MC_MBQ, ST_STK_MC, how=\"left\",on=[\"ST_CD\",\"MERCHCAT\"])\n"
   ]
  },
  {
   "cell_type": "code",
   "execution_count": null,
   "metadata": {},
   "outputs": [],
   "source": [
    "print(MJ_MBQ.columns.to_list())"
   ]
  },
  {
   "cell_type": "code",
   "execution_count": null,
   "metadata": {},
   "outputs": [],
   "source": [
    "MJ_MBQ['MJ_REQ'] = MJ_MBQ['MJ_MBQ']-(0.0+MJ_MBQ['MJ_REV_STK'])\n",
    "MC_MBQ['MC_REQ'] = MC_MBQ['MC_MBQ']-(0.0+MC_MBQ['MC_REV_STK'])"
   ]
  },
  {
   "cell_type": "code",
   "execution_count": null,
   "metadata": {},
   "outputs": [],
   "source": [
    "dataframes = [MJ_MBQ, MC_MBQ, ST_STK_MJ, ST_STK_MC, DC_STK_DATA]\n",
    "file_paths = [path + r\"\\MJ_MBQ.csv\", path + r\"\\MC_MBQ.csv\", path + r\"\\MJ_STK.csv\", \n",
    "              path + r\"\\MC_STK.csv\", path + r\"\\DC_STK.csv\"]\n",
    "\n",
    "# Create a list to hold the threads\n",
    "threads1 = []\n",
    "\n",
    "# Iterate over each DataFrame and corresponding file path\n",
    "for df, filename in zip(dataframes, file_paths):\n",
    "    # Create a new thread for saving each DataFrame\n",
    "    thread = threading.Thread(target=save_csv, args=(df, filename))\n",
    "    thread.start()  # Start the thread\n",
    "    threads1.append(thread)  # Add the thread to the list of threads\n",
    "\n",
    "# Wait for all threads to complete\n",
    "for thread in threads1:\n",
    "    thread.join()"
   ]
  },
  {
   "cell_type": "code",
   "execution_count": null,
   "metadata": {},
   "outputs": [],
   "source": [
    "A1=ST_DATA.columns\n",
    "ST_DATA_NEW = pd.DataFrame(columns=A1)\n",
    "A2=DC_STK_DATA.columns\n",
    "DC_DATA_NEW = pd.DataFrame(columns=A2)\n",
    "A3=MJ_MBQ.columns\n",
    "MJ_MBQ_NEW = pd.DataFrame(columns=A3)\n",
    "A4=MC_MBQ.columns\n",
    "MC_MBQ_NEW = pd.DataFrame(columns=A4)\n"
   ]
  },
  {
   "cell_type": "code",
   "execution_count": null,
   "metadata": {},
   "outputs": [],
   "source": [
    "DC_STK_DATA['ALLOC']=0\n",
    "ST_DATA['ALLOC']=0\n",
    "MJ_MBQ['ALLOC'] = 0\n",
    "MC_MBQ['ALLOC'] = 0\n",
    "MC_M_MVGR['ALLOC'] = 0\n",
    "MC_MVGR['ALLOC'] = 0\n",
    "MC_BODY['ALLOC'] = 0\n",
    "MC_FABRIC['ALLOC'] = 0\n",
    "MC_CLR['ALLOC'] = 0\n",
    "MC_VEND['ALLOC'] = 0"
   ]
  },
  {
   "cell_type": "code",
   "execution_count": null,
   "metadata": {},
   "outputs": [],
   "source": [
    "DC_STK_DATA['ALLOC']=0\n",
    "ST_DATA['ALLOC']=0\n",
    "MJ_MBQ['ALLOC'] = 0\n",
    "MC_MBQ['ALLOC'] = 0\n",
    "MC_M_MVGR['ALLOC'] = 0\n",
    "MC_MVGR['ALLOC'] = 0\n",
    "MC_BODY['ALLOC'] = 0\n",
    "MC_FABRIC['ALLOC'] = 0\n",
    "MC_CLR['ALLOC'] = 0\n",
    "MC_VEND['ALLOC'] = 0"
   ]
  },
  {
   "cell_type": "code",
   "execution_count": null,
   "metadata": {},
   "outputs": [],
   "source": [
    "#for i in MAJCAT_LIST1:\n",
    "i = CAT\n",
    "ST_DATA_TEMP = ST_DATA\n",
    "# print(datetime.now())\n",
    "for j in ST_DETAILS['ST_CD']:\n",
    "    DC_STK_TEMP = DC_STK_DATA[(DC_STK_DATA['REV_DC_STK']>0)].reset_index(drop=True)\n",
    "# MERCHCAT LEVEL LISTING\n",
    "    for k in DC_STK_TEMP['GEN_CLR']:\n",
    "        l = DC_STK_TEMP.loc[DC_STK_TEMP['GEN_CLR']==k,'MERCHCAT'].item()\n",
    "        ART_REQ = ST_DATA_TEMP.loc[ST_DATA_TEMP['COMB'] == str(j)+str(k),'ART_REQ'].sum()\n",
    "        #ART EXISTENCE IN ST-DATA & THERE SHOULD BE NO ALLOC IN PREVIOUS\n",
    "        if DC_STK_TEMP.loc[DC_STK_TEMP['GEN_CLR']==k,'REV_DC_STK'].sum() >= ART_REQ:\n",
    "            if ST_DATA_TEMP.loc[ST_DATA_TEMP['COMB'] == str(j)+str(k),'ART_REQ'].item()>0:\n",
    "                if (MJ_MBQ.loc[MJ_MBQ['COMB'] == str(j)+str(i),'MJ_REQ'].sum()) >= ART_REQ:\n",
    "                    if (MC_MBQ.loc[MC_MBQ['COMB'] == str(j)+str(l),'MC_MBQ'].sum()) >= ART_REQ:\n",
    "                        #IF CONDITION TRUE THEN EXECUTE THE BELOW STEPS\n",
    "                        ALLOC=0\n",
    "                        ALLOC = ST_DATA_TEMP.loc[ST_DATA_TEMP['COMB'] == str(j)+str(k),'ART_REQ'].sum()\n",
    "                        ST_DATA_TEMP.loc[ST_DATA_TEMP['COMB'] == str(j)+str(k),'ALLOC'] = ALLOC\n",
    "                        ST_DATA_TEMP.loc[ST_DATA_TEMP['COMB'] == str(j)+str(k),'ART_REQ'] -= ALLOC\n",
    "                        DC_STK_TEMP.loc[DC_STK_TEMP['GEN_CLR']==k,'ALLOC'] += ALLOC\n",
    "                        DC_STK_TEMP.loc[DC_STK_TEMP['GEN_CLR']==k,'REV_DC_STK'] -= ALLOC\n",
    "                        MJ_MBQ.loc[MJ_MBQ['COMB'] == str(j)+str(i),'ALLOC'] += ALLOC\n",
    "                        MC_MBQ.loc[MC_MBQ['COMB'] == str(j)+str(l),'ALLOC'] += ALLOC\n",
    "                        MJ_MBQ.loc[MJ_MBQ['COMB'] == str(j)+str(i),'MJ_REQ'] -= ALLOC\n",
    "                        MC_MBQ.loc[MC_MBQ['COMB'] == str(j)+str(l),'MC_REQ'] -= ALLOC\n",
    "    print(j)\n",
    "    # print(datetime.now())\n",
    "\n",
    "if ST_DATA_NEW is None:  \n",
    "    ST_DATA_NEW = ST_DATA_TEMP\n",
    "else:\n",
    "    ST_DATA_NEW = pd.concat([ST_DATA_NEW,ST_DATA_TEMP],ignore_index=True)\n",
    "if DC_DATA_NEW is None:  \n",
    "    DC_DATA_NEW = DC_STK_TEMP\n",
    "else:\n",
    "    DC_DATA_NEW = pd.concat([DC_DATA_NEW,DC_STK_TEMP],ignore_index=True)\n",
    "# print(datetime.now())"
   ]
  },
  {
   "cell_type": "code",
   "execution_count": null,
   "metadata": {},
   "outputs": [],
   "source": [
    "end_time = time.time()\n",
    "execution_time = end_time - start_time\n",
    "print(\"Execution time:\", execution_time, \"seconds\")\n"
   ]
  },
  {
   "cell_type": "code",
   "execution_count": 5,
   "metadata": {},
   "outputs": [],
   "source": [
    "list = [i for i in range(0,10000000)]"
   ]
  },
  {
   "cell_type": "code",
   "execution_count": null,
   "metadata": {},
   "outputs": [],
   "source": [
    "list=[]\n",
    "\n",
    "for i in range(0,10000000):\n",
    "    list.append(i)"
   ]
  }
 ],
 "metadata": {
  "kernelspec": {
   "display_name": "Python 3",
   "language": "python",
   "name": "python3"
  },
  "language_info": {
   "codemirror_mode": {
    "name": "ipython",
    "version": 3
   },
   "file_extension": ".py",
   "mimetype": "text/x-python",
   "name": "python",
   "nbconvert_exporter": "python",
   "pygments_lexer": "ipython3",
   "version": "3.11.9"
  }
 },
 "nbformat": 4,
 "nbformat_minor": 2
}
