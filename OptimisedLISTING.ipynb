{
 "cells": [
  {
   "cell_type": "code",
   "execution_count": 691,
   "metadata": {},
   "outputs": [],
   "source": [
    "import warnings\n",
    "warnings.filterwarnings(\"ignore\")"
   ]
  },
  {
   "cell_type": "code",
   "execution_count": 692,
   "metadata": {},
   "outputs": [],
   "source": [
    "import pandas as pd\n",
    "import numpy as np"
   ]
  },
  {
   "cell_type": "code",
   "execution_count": 693,
   "metadata": {},
   "outputs": [],
   "source": [
    "ST_DETAILS = pd.read_csv('ST_DETAILS.csv',skip_blank_lines=True)\n",
    "MAJCAT_LIST = pd.read_csv('MAJCAT_LIST.csv',skip_blank_lines=True)\n",
    "ST_L_DETAILS = pd.read_csv('ST_L_DETAILS.csv',skip_blank_lines=True)\n",
    "BGT_MAJCAT_I = pd.read_csv('BGT_MAJCAT.csv',skip_blank_lines=True)\n",
    "BGT_MERCHCAT_I = pd.read_csv('BGT_MERCHCAT.csv',skip_blank_lines=True)\n",
    "ST_STK_I = pd.read_csv('ST_STK.csv',skip_blank_lines=True)\n",
    "DC_STK_I = pd.read_csv('DC_STK.csv',skip_blank_lines=True)\n",
    "MC_AUTO_ART_I = pd.read_csv('MC_AUTO_ART.csv',skip_blank_lines=True)\n",
    "MC_BODY_CONT_I = pd.read_csv('MC_BODY_CONT.csv',skip_blank_lines=True)\n",
    "MC_CLR_CONT_I = pd.read_csv('MC_CLR_CONT.csv',skip_blank_lines=True)\n",
    "MC_FABRIC_CONT_I = pd.read_csv('MC_FABRIC_CONT.csv',skip_blank_lines=True)\n",
    "MC_M_MVGR_CONT_I = pd.read_csv('MC_M_MVGR_CONT.csv',skip_blank_lines=True)\n",
    "MC_MVGR_CONT_I = pd.read_csv('MC_MVGR_CONT.csv',skip_blank_lines=True)\n",
    "MC_SEG_CONT_I = pd.read_csv('MC_SEG_CONT.csv',skip_blank_lines=True)\n",
    "MC_VEND_CONT_I = pd.read_csv('MC_VEND_CONT.csv',skip_blank_lines=True)\n",
    "ST_OPT_I = pd.read_csv('ST_OPT.csv',skip_blank_lines=True)\n",
    "OPT_DISP_Q_I = pd.read_csv('OPT_DISP_Q.csv',skip_blank_lines=True)\n",
    "ST_OPT_DISP_Q_I = pd.read_csv('ST_OPT_DISP_Q.csv',skip_blank_lines=True)\n",
    "ST_MC_CONS_I = pd.read_csv('ST_MC_CONS.csv',skip_blank_lines=True)\n",
    "ST_SSN_CONS_I = pd.read_csv('ST_SSN_CONS.csv',skip_blank_lines=True)"
   ]
  },
  {
   "cell_type": "code",
   "execution_count": 694,
   "metadata": {},
   "outputs": [],
   "source": [
    "CAT = \"M_JEANS\"\n",
    "BGT_MAJCAT = BGT_MAJCAT_I[BGT_MAJCAT_I['MAJCAT']==CAT].reset_index(drop=True)\n",
    "BGT_MERCHCAT = BGT_MERCHCAT_I[BGT_MERCHCAT_I['MAJCAT']==CAT].reset_index(drop=True)\n",
    "ST_STK = ST_STK_I[ST_STK_I['MAJCAT']==CAT].reset_index(drop=True)\n",
    "DC_STK = DC_STK_I[DC_STK_I['MAJCAT']==CAT].reset_index(drop=True)\n",
    "MC_AUTO_ART = MC_AUTO_ART_I[MC_AUTO_ART_I['MAJCAT']==CAT].reset_index(drop=True)\n",
    "MC_BODY_CONT = MC_BODY_CONT_I[MC_BODY_CONT_I['MAJCAT']==CAT].reset_index(drop=True)\n",
    "MC_CLR_CONT = MC_CLR_CONT_I[MC_CLR_CONT_I['MAJCAT']==CAT].reset_index(drop=True)\n",
    "MC_FABRIC_CONT = MC_FABRIC_CONT_I[MC_FABRIC_CONT_I['MAJCAT']==CAT].reset_index(drop=True)\n",
    "MC_M_MVGR_CONT = MC_M_MVGR_CONT_I[MC_M_MVGR_CONT_I['MAJCAT']==CAT].reset_index(drop=True)\n",
    "MC_MVGR_CONT = MC_MVGR_CONT_I[MC_MVGR_CONT_I['MAJCAT']==CAT].reset_index(drop=True)\n",
    "MC_SEG_CONT = MC_SEG_CONT_I[MC_SEG_CONT_I['MAJCAT']==CAT].reset_index(drop=True)\n",
    "MC_VEND_CONT = MC_VEND_CONT_I[MC_VEND_CONT_I['MAJCAT']==CAT].reset_index(drop=True)\n",
    "ST_OPT = ST_OPT_I[ST_OPT_I['MAJCAT']==CAT].reset_index(drop=True)\n",
    "OPT_DISP_Q = OPT_DISP_Q_I[OPT_DISP_Q_I['MAJCAT']==CAT].reset_index(drop=True)\n",
    "ST_OPT_DISP_Q = ST_OPT_DISP_Q_I[ST_OPT_DISP_Q_I['MAJCAT']==CAT].reset_index(drop=True)\n",
    "ST_MC_CONS = ST_MC_CONS_I[ST_MC_CONS_I['MAJCAT']==CAT].reset_index(drop=True)\n",
    "# ST_SSN_CONS = ST_SSN_CONS_I[ST_SSN_CONS_I['MAJCAT']==CAT].reset_index(drop=True)"
   ]
  },
  {
   "cell_type": "code",
   "execution_count": 695,
   "metadata": {},
   "outputs": [],
   "source": [
    "# converting column to object\n",
    "ST_OPT_DISP_Q['ST_CD']=ST_OPT_DISP_Q['ST_CD'].astype(object)\n",
    "ST_DETAILS = ST_DETAILS.sort_values(by='PRIORITY_LIST', ascending=True)\n"
   ]
  },
  {
   "cell_type": "markdown",
   "metadata": {},
   "source": [
    "Data Merging and Preparation\n",
    "\n",
    "Overview:\n",
    "\n",
    "In this section of the code, we merge multiple datasets to prepare the necessary data for further analysis. Two main datasets, MERCHCAT_MBQ and MAJCAT_MBQ, are created and populated by merging various tables including ST_DETAILS, ST_L_DETAILS, OPT_DISP_Q, and ST_OPT_DISP_Q. These merges are conducted based on specific columns to consolidate relevant information for subsequent analysis."
   ]
  },
  {
   "cell_type": "code",
   "execution_count": 696,
   "metadata": {},
   "outputs": [],
   "source": [
    "MERCHCAT_MBQ = BGT_MERCHCAT\n",
    "MAJCAT_MBQ = BGT_MAJCAT\n",
    "\n",
    "\n",
    "MAJCAT_MBQ = pd.merge(MAJCAT_MBQ, ST_DETAILS, how=\"left\",on=[\"ST_CD\"],suffixes=('_left', '_right'))\n",
    "MERCHCAT_MBQ = pd.merge(MERCHCAT_MBQ, ST_DETAILS, how=\"left\",on=[\"ST_CD\"],suffixes=('_left', '_right'))\n",
    "MERCHCAT_MBQ = pd.merge(MERCHCAT_MBQ, ST_L_DETAILS, how=\"left\",on=[\"ST_CD\"],suffixes=('_left', '_right'))\n",
    "MERCHCAT_MBQ = pd.merge(MERCHCAT_MBQ, OPT_DISP_Q, how=\"left\",on=[\"MERCHCAT\"],suffixes=('_left', '_right'))\n",
    "MERCHCAT_MBQ = pd.merge(MERCHCAT_MBQ, ST_OPT_DISP_Q, how=\"left\",on=[\"ST_CD\",\"MERCHCAT\"],suffixes=('_left', '_right'))"
   ]
  },
  {
   "cell_type": "markdown",
   "metadata": {},
   "source": [
    "Explanation:\n",
    "MERCHCAT_MBQ and MAJCAT_MBQ Initialization:\n",
    "\n",
    "Two DataFrame objects, MERCHCAT_MBQ and MAJCAT_MBQ, are initialized based on existing data (BGT_MERCHCAT and BGT_MAJCAT).\n",
    "Merging with ST_DETAILS:\n",
    "\n",
    "The ST_DETAILS table provides details about stores, including a column named listing which indicates whether products should be included in the store for the current month.\n",
    "Both MERCHCAT_MBQ and MAJCAT_MBQ are merged with ST_DETAILS based on the ST_CD column.\n",
    "Additional Merges:\n",
    "\n",
    "Further merges are conducted with additional tables:\n",
    "ST_L_DETAILS: Provides details about specific stores, extending the information from ST_DETAILS.\n",
    "OPT_DISP_Q: Contains data about option presence for national stock display.\n",
    "ST_OPT_DISP_Q: Contains data about option presence for display in specific stores.\n",
    "Conclusion:\n",
    "This section of the code initializes and populates MERCHCAT_MBQ and MAJCAT_MBQ DataFrames by merging them with various tables containing store and product-related information. These merged datasets serve as the foundation for subsequent analysis and decision-making processes."
   ]
  },
  {
   "cell_type": "markdown",
   "metadata": {},
   "source": [
    "---------------------------------------------------------------------------------------------------------------------------"
   ]
  },
  {
   "cell_type": "markdown",
   "metadata": {},
   "source": [
    "\n",
    "Certainly! Below is the documentation for the provided code:\n",
    "\n",
    "MAJCAT Allocation and Quantity Calculation\n",
    "\n",
    "Overview:\n",
    "\n",
    "In this section of the code, we calculate the quantity of products to be allocated for each major category (MAJCAT) in stores for the current month. This calculation involves considering various factors such as sales targets, display quantities, remaining sales, and budgeted days."
   ]
  },
  {
   "cell_type": "code",
   "execution_count": 697,
   "metadata": {},
   "outputs": [],
   "source": [
    "#MAJCAT ALLOC MBQ\n",
    "MAJCAT_MBQ['REV_MJ_SALES_PD_1'] = MAJCAT_MBQ.apply(lambda x: (x['SALES_Q_1']*x['CM_RMN_SALES_CONS']+x['SALES_Q_2']*x['NM_RMN_SALES_CONS'])\n",
    "                                                                           *(1/x['BGT_DAYS']), axis=1)\n",
    "MAJCAT_MBQ['MJ_MBQ_A'] = MAJCAT_MBQ.apply(lambda x: x['LISTING_M_1']*(x['ALLOC_DISP']+(x['REV_MJ_SALES_PD_1']*x['ALLOC_DAY_COVER']))\n",
    "                                               , axis=1)\n",
    "#MAJCAT MTH-1 REV-MBQ\n",
    "MAJCAT_MBQ['MJ_MBQ_30_1'] = MAJCAT_MBQ.apply(lambda x: x['LISTING_M_1']*(x['DISP_Q_1']+(x['REV_MJ_SALES_PD_1']*x['BGT_DAYS']))\n",
    "                                               , axis=1)\n",
    "#MAJCAT MTH-1 RMN PD SALES\n",
    "MAJCAT_MBQ['REM_SALES_1'] = MAJCAT_MBQ.apply(lambda x: (x['SALES_Q_1']*x['CM_RMN_SALES_CONS'])\n",
    "                                                                           *(1/x['RMN_BGT_DAYS']), axis=1)\n",
    "#MAJCAT 30-MBQ QTY\n",
    "MAJCAT_MBQ['MJ_MBQ_30_2'] = MAJCAT_MBQ.apply(lambda x: x['LISTING_M_2']*(x['DISP_Q_2']+x['SALES_Q_2']), axis=1)\n",
    "MAJCAT_MBQ['MJ_MBQ_30_3'] = MAJCAT_MBQ.apply(lambda x: x['LISTING_M_3']*(x['DISP_Q_3']+x['SALES_Q_3']), axis=1)\n",
    "MAJCAT_MBQ['MJ_MBQ_30_4'] = MAJCAT_MBQ.apply(lambda x: x['LISTING_M_4']*(x['DISP_Q_4']+x['SALES_Q_4']), axis=1)\n",
    "MAJCAT_MBQ['MJ_MBQ_30_5'] = MAJCAT_MBQ.apply(lambda x: x['LISTING_M_5']*(x['DISP_Q_5']+x['SALES_Q_5']), axis=1)\n",
    "MAJCAT_MBQ['MJ_MBQ_30_6'] = MAJCAT_MBQ.apply(lambda x: x['LISTING_M_6']*(x['DISP_Q_6']+x['SALES_Q_6']), axis=1)\n",
    "MAJCAT_MBQ['MJ_MBQ_30_7'] = MAJCAT_MBQ.apply(lambda x: x['LISTING_M_7']*(x['DISP_Q_7']+x['SALES_Q_7']), axis=1)\n",
    "MAJCAT_MBQ['MJ_MBQ_30_8'] = MAJCAT_MBQ.apply(lambda x: x['LISTING_M_8']*(x['DISP_Q_8']+x['SALES_Q_8']), axis=1)\n",
    "MAJCAT_MBQ['MJ_MBQ_30_9'] = MAJCAT_MBQ.apply(lambda x: x['LISTING_M_9']*(x['DISP_Q_9']+x['SALES_Q_9']), axis=1)\n",
    "MAJCAT_MBQ['MJ_MBQ_30_10'] = MAJCAT_MBQ.apply(lambda x: x['LISTING_M_10']*(x['DISP_Q_10']+x['SALES_Q_10']), axis=1)\n",
    "MAJCAT_MBQ['MJ_MBQ_30_11'] = MAJCAT_MBQ.apply(lambda x: x['LISTING_M_11']*(x['DISP_Q_11']+x['SALES_Q_11']), axis=1)\n",
    "MAJCAT_MBQ['MJ_MBQ_30_12'] = MAJCAT_MBQ.apply(lambda x: x['LISTING_M_12']*(x['DISP_Q_12']+x['SALES_Q_12']), axis=1)"
   ]
  },
  {
   "cell_type": "markdown",
   "metadata": {},
   "source": [
    "Explanation:\n",
    "\n",
    "Revenue Calculation (REV_MJ_SALES_PD_1):\n",
    "\n",
    "This calculation estimates the revenue generated for the current month based on sales targets and remaining sales from the previous month. It considers both confirmed (CM_RMN_SALES_CONS) and non-confirmed (NM_RMN_SALES_CONS) sales.\n",
    "MAJCAT Allocation Quantity (MJ_MBQ_A):\n",
    "\n",
    "The quantity of products to be allocated for the current month is calculated based on the listing status (LISTING_M_1), allocated display quantity (ALLOC_DISP), and projected revenue from sales (REV_MJ_SALES_PD_1) considering the allocated days for display (ALLOC_DAY_COVER).\n",
    "30-Day MBQ Calculation (MJ_MBQ_30_1):\n",
    "\n",
    "This calculation determines the quantity of products required for the next 30 days, considering the listing status, display quantity, and projected revenue from sales.\n",
    "Remaining Sales Calculation (REM_SALES_1):\n",
    "\n",
    "The remaining sales for the current month are calculated based on the sales targets and remaining budgeted days.\n",
    "30-Day MBQ Calculation for Subsequent Months:\n",
    "\n",
    "Similar calculations are performed for subsequent months (MJ_MBQ_30_2 to MJ_MBQ_30_12) considering the respective listing statuses, display quantities, and sales targets."
   ]
  },
  {
   "cell_type": "markdown",
   "metadata": {},
   "source": [
    "---------------------------------------------------------------------------------------------------------------------------"
   ]
  },
  {
   "cell_type": "code",
   "execution_count": 698,
   "metadata": {},
   "outputs": [],
   "source": [
    "for i in range(1, 13):\n",
    "    MERCHCAT_MBQ[f'F_OPT_DISP_Q_{i}'] = MERCHCAT_MBQ.apply(\n",
    "        lambda x, i=i: x[f'ST_OPT_DISP_Q_{i}'] if x[f'ST_OPT_DISP_Q_{i}'] + 0 > 0 else x[f'OPT_DISP_Q_{i}'], \n",
    "        axis=1\n",
    "    )\n"
   ]
  },
  {
   "cell_type": "code",
   "execution_count": 699,
   "metadata": {},
   "outputs": [],
   "source": [
    "#OPT_CNT FINALISATION\n",
    "MERCHCAT_MBQ['OPT_CNT_A'] = MERCHCAT_MBQ.apply(lambda x: \n",
    "                                               round(x['ALLOC_DISP']/x['F_OPT_DISP_Q_1']) if (x['ALLOC_DISP']/x['F_OPT_DISP_Q_1'])+0>0\n",
    "                                               else 0, axis=1)\n",
    "for i in range(1, 13):\n",
    "    MERCHCAT_MBQ[f'OPT_CNT_{i}'] = MERCHCAT_MBQ.apply(\n",
    "        lambda x, i=i: round(x[f'DISP_Q_{i}'] / x[f'F_OPT_DISP_Q_{i}']) if (x[f'DISP_Q_{i}'] / x[f'F_OPT_DISP_Q_{i}']) + 0 > 0 else 0,\n",
    "        axis=1\n",
    "    )\n"
   ]
  },
  {
   "cell_type": "code",
   "execution_count": 700,
   "metadata": {},
   "outputs": [],
   "source": [
    "#OPTION SALES QTY\n",
    "MERCHCAT_MBQ['OPT_SALES_A'] = MERCHCAT_MBQ.apply(lambda x: \n",
    "                                               0 if x['SALES_Q_1']+0==0 else 0 if x['OPT_CNT_A']+0==0\n",
    "                                               else round(x['SALES_Q_1']/x['OPT_CNT_A'],2), axis=1)\n",
    "for i in range(1, 13):\n",
    "    MERCHCAT_MBQ[f'OPT_SALES_{i}'] = MERCHCAT_MBQ.apply(\n",
    "        lambda x: 0 if x[f'SALES_Q_{i}'] == 0 else 0 if x[f'OPT_CNT_{i}'] == 0 else round(x[f'SALES_Q_{i}'] / x[f'OPT_CNT_{i}'], 2), \n",
    "        axis=1\n",
    ")\n",
    "\n"
   ]
  },
  {
   "cell_type": "code",
   "execution_count": 701,
   "metadata": {},
   "outputs": [],
   "source": [
    "#OPTION 30-MBQ QTY\n",
    "# Calculation for REV_OPT_SALES_PD_A and OPT_MBQ_A\n",
    "MERCHCAT_MBQ['REV_OPT_SALES_PD_A'] = MERCHCAT_MBQ.apply(lambda x: (x['OPT_SALES_A']*x['CM_RMN_SALES_CONS']+x['OPT_SALES_2']*x['NM_RMN_SALES_CONS']) * (1/x['BGT_DAYS']), axis=1)\n",
    "MERCHCAT_MBQ['OPT_MBQ_A'] = MERCHCAT_MBQ.apply(lambda x: x['LISTING_M_1'] * (x['F_OPT_DISP_Q_1'] + (x['REV_OPT_SALES_PD_A'] * x['ALLOC_DAY_COVER'])), axis=1)\n",
    "\n",
    "# Calculation for REV_OPT_SALES_PD_1 and OPT_MBQ_30_1\n",
    "MERCHCAT_MBQ['REV_OPT_SALES_PD_1'] = MERCHCAT_MBQ.apply(lambda x: (x['OPT_SALES_1']*x['CM_RMN_SALES_CONS']+x['OPT_SALES_2']*x['NM_RMN_SALES_CONS']) * (1/x['BGT_DAYS']), axis=1)\n",
    "MERCHCAT_MBQ['OPT_MBQ_30_1'] = MERCHCAT_MBQ.apply(lambda x: x['LISTING_M_1'] * (x['F_OPT_DISP_Q_1'] + (x['REV_OPT_SALES_PD_1'] * x['BGT_DAYS'])), axis=1)\n",
    "\n",
    "# Calculation for REM_OPT_SALES_PD_1 and OPTION MBQ 30 QTY for each month (OPT_MBQ_30_2 to OPT_MBQ_30_12)\n",
    "for i in range(2, 13):\n",
    "    MERCHCAT_MBQ[f'OPT_MBQ_30_{i}'] = MERCHCAT_MBQ.apply(lambda x: x[f'LISTING_M_{i}'] * (x[f'F_OPT_DISP_Q_{i}'] + x[f'OPT_SALES_{i}']), axis=1)\n"
   ]
  },
  {
   "cell_type": "code",
   "execution_count": 702,
   "metadata": {},
   "outputs": [],
   "source": [
    "# Handling OPT_MBQ_L1_A and OPT_MBQ_L1_1 separately\n",
    "MERCHCAT_MBQ['OPT_MBQ_L1_A'] = MERCHCAT_MBQ.apply(lambda x: x['LISTING_M_1'] * (x['F_OPT_DISP_Q_1'] + (x['REV_OPT_SALES_PD_A'] * x['L1_SALES_COVER'])), axis=1)\n",
    "MERCHCAT_MBQ['OPT_MBQ_L1_1'] = MERCHCAT_MBQ.apply(lambda x: x['LISTING_M_1'] * (x['F_OPT_DISP_Q_1'] + (x['REV_OPT_SALES_PD_1'] * x['L1_SALES_COVER'])), axis=1)\n",
    "\n",
    "# Loop for the rest of the columns\n",
    "for i in range(2, 13):\n",
    "    MERCHCAT_MBQ[f'OPT_MBQ_L1_{i}'] = MERCHCAT_MBQ.apply(\n",
    "        lambda x, month=i: x[f'LISTING_M_{month}'] * (x[f'F_OPT_DISP_Q_{month}'] + x[f'OPT_SALES_{month}'] * (x['L1_SALES_COVER'] / 30)),\n",
    "        axis=1\n",
    "    )\n"
   ]
  },
  {
   "cell_type": "code",
   "execution_count": 703,
   "metadata": {},
   "outputs": [],
   "source": [
    "# Calculation for L-OPTION 30-MBQ Quantity\n",
    "MERCHCAT_MBQ['OPT_MBQ_30_A'] = MERCHCAT_MBQ.apply(lambda x: x['LISTING_M_1'] * (x['F_OPT_DISP_Q_1'] + (x['REV_OPT_SALES_PD_A'] * x['ALLOC_DAY_COVER'] * x['L_OPT_SALES_GR_M_1'])), axis=1)\n",
    "MERCHCAT_MBQ['OPT_MBQ_30_1'] = MERCHCAT_MBQ.apply(lambda x: x['LISTING_M_1'] * (x['F_OPT_DISP_Q_1'] + (x['REV_OPT_SALES_PD_1'] * x['BGT_DAYS'] * x['L_OPT_SALES_GR_M_1'])), axis=1)\n",
    "\n",
    "for i in range(2, 13):\n",
    "    MERCHCAT_MBQ[f'OPT_MBQ_30_{i}'] = MERCHCAT_MBQ.apply(lambda x: x[f'LISTING_M_{i}'] * (x[f'F_OPT_DISP_Q_{i}'] + x[f'OPT_SALES_{i}'] * x[f'L_OPT_SALES_GR_M_{i-1}']), axis=1)\n"
   ]
  },
  {
   "cell_type": "code",
   "execution_count": 704,
   "metadata": {},
   "outputs": [],
   "source": [
    "# Calculation for L-OPTION SSN-MBQ Quantity\n",
    "for i in range(1, 13):\n",
    "    if i == 1:\n",
    "        MERCHCAT_MBQ[f'SSN_MBQ_A'] = MERCHCAT_MBQ.apply(\n",
    "            lambda x: x['LISTING_M_1'] * (x['F_OPT_DISP_Q_1'] + (x['REV_OPT_SALES_PD_A'] * x['ALLOC_DAY_COVER'] * x['L_OPT_SALES_GR_M_1'])), axis=1)\n",
    "        MERCHCAT_MBQ[f'SSN_MBQ_1'] = MERCHCAT_MBQ.apply(\n",
    "            lambda x: x['LISTING_M_1'] * (x['F_OPT_DISP_Q_1'] + (x['REV_OPT_SALES_PD_1'] * x['BGT_DAYS'] * x['L_OPT_SALES_GR_M_1'])), axis=1)\n",
    "    else:\n",
    "        MERCHCAT_MBQ[f'SSN_MBQ_{i}'] = MERCHCAT_MBQ.apply(\n",
    "            lambda x: x[f'LISTING_M_{i}'] * (x[f'F_OPT_DISP_Q_{i}'] + x[f'OPT_SALES_{i}'] * x[f'L_OPT_SALES_GR_M_{i}']), axis=1)\n"
   ]
  },
  {
   "cell_type": "code",
   "execution_count": 705,
   "metadata": {},
   "outputs": [],
   "source": [
    "#MC ALLOC MBQ\n",
    "MERCHCAT_MBQ['REV_MC_SALES_PD_1'] = MERCHCAT_MBQ.apply(lambda x: (x['SALES_Q_1']*x['CM_RMN_SALES_CONS']+x['SALES_Q_2']*x['NM_RMN_SALES_CONS'])\n",
    "                                                                           *(1/x['BGT_DAYS']), axis=1)\n",
    "\n",
    "MERCHCAT_MBQ['MC_MBQ_A'] = MERCHCAT_MBQ.apply(lambda x: x['LISTING_M_1']*(x['ALLOC_DISP']+(x['REV_MC_SALES_PD_1']*x['ALLOC_DAY_COVER']))\n",
    "                                               , axis=1)\n",
    "#MC MTH-1 REV-MBQ\n",
    "MERCHCAT_MBQ['MC_MBQ_30_1'] = MERCHCAT_MBQ.apply(lambda x: x['LISTING_M_1']*(x['DISP_Q_1']+(x['REV_MC_SALES_PD_1']*x['BGT_DAYS']))\n",
    "                                               , axis=1)\n",
    "#MC MTH-1 RMN PD SALES\n",
    "MERCHCAT_MBQ['REM_SALES_1'] = MERCHCAT_MBQ.apply(lambda x: (x['SALES_Q_1']*x['CM_RMN_SALES_CONS'])\n",
    "                                                                           *(1/x['RMN_BGT_DAYS']), axis=1)\n"
   ]
  },
  {
   "cell_type": "code",
   "execution_count": 706,
   "metadata": {},
   "outputs": [],
   "source": [
    "#MC 30-MBQ QTY\n",
    "# Calculation for MC 30-MBQ Quantity\n",
    "for i in range(2, 13):\n",
    "    MERCHCAT_MBQ[f'MC_MBQ_30_{i}'] = MERCHCAT_MBQ.apply(\n",
    "        lambda x: x[f'LISTING_M_{i}'] * (x[f'DISP_Q_{i}'] + x[f'SALES_Q_{i}']), axis=1)\n"
   ]
  },
  {
   "cell_type": "code",
   "execution_count": 707,
   "metadata": {},
   "outputs": [],
   "source": [
    "MERCHCAT_MBQ.drop(['OPT_DISP_Q_1','OPT_DISP_Q_2','OPT_DISP_Q_3','OPT_DISP_Q_4','OPT_DISP_Q_5','OPT_DISP_Q_6','OPT_DISP_Q_7','OPT_DISP_Q_8','OPT_DISP_Q_9','OPT_DISP_Q_10','OPT_DISP_Q_11','OPT_DISP_Q_12','ST_OPT_DISP_Q_1','ST_OPT_DISP_Q_2','ST_OPT_DISP_Q_3','ST_OPT_DISP_Q_4','ST_OPT_DISP_Q_5','ST_OPT_DISP_Q_6','ST_OPT_DISP_Q_7','ST_OPT_DISP_Q_8','ST_OPT_DISP_Q_9','ST_OPT_DISP_Q_10','ST_OPT_DISP_Q_11','ST_OPT_DISP_Q_12'],inplace=True,axis=1)\n",
    "\n"
   ]
  },
  {
   "cell_type": "code",
   "execution_count": 708,
   "metadata": {},
   "outputs": [],
   "source": [
    "MERCHCAT_MBQ['DISP_Q_1']=MERCHCAT_MBQ['DISP_Q_1'].astype(float)"
   ]
  },
  {
   "cell_type": "code",
   "execution_count": 709,
   "metadata": {},
   "outputs": [],
   "source": [
    "MAJCAT_MBQ_A = MAJCAT_MBQ[['ST_CD','MAJCAT','MJ_MBQ_A','MJ_MBQ_30_1','MJ_MBQ_30_2','MJ_MBQ_30_3','MJ_MBQ_30_4','MJ_MBQ_30_5',\n",
    "                          'MJ_MBQ_30_6','MJ_MBQ_30_7','MJ_MBQ_30_8','MJ_MBQ_30_9','MJ_MBQ_30_10','MJ_MBQ_30_11','MJ_MBQ_30_12']]"
   ]
  },
  {
   "cell_type": "code",
   "execution_count": 710,
   "metadata": {},
   "outputs": [],
   "source": [
    "MERCHCAT_MBQ_A = MERCHCAT_MBQ[['ST_CD','MAJCAT','MERCHCAT','MC_MBQ_A','MC_MBQ_30_1','MC_MBQ_30_2','MC_MBQ_30_3','MC_MBQ_30_4','MC_MBQ_30_5',\n",
    "                          'MC_MBQ_30_6','MC_MBQ_30_7','MC_MBQ_30_8','MC_MBQ_30_9','MC_MBQ_30_10','MC_MBQ_30_11','MC_MBQ_30_12']]"
   ]
  },
  {
   "cell_type": "code",
   "execution_count": 711,
   "metadata": {},
   "outputs": [],
   "source": [
    "MERCHCAT_MBQ_TEMP = MERCHCAT_MBQ[['ST_CD','MERCHCAT','OPT_MBQ_A','OPT_MBQ_L1_A','OPT_MBQ_30_A','SSN_MBQ_A']]"
   ]
  },
  {
   "cell_type": "code",
   "execution_count": 712,
   "metadata": {},
   "outputs": [],
   "source": [
    "#download data to test\n",
    "# path = r\"C:\\Users\\pardeep.jajoria\\Desktop\\LISTING AUTOMATION\"\n",
    "path = r\"C:\\Users\\Administrator\\Desktop\\drive-download-20240503T040120Z-001\\Testing\"\n",
    "MAJCAT_MBQ.to_csv(path+r\"\\MJ_MBQ_file.csv\")\n",
    "MERCHCAT_MBQ.to_csv(path+r\"\\MC_MBQ_file.csv\")\n",
    "MERCHCAT_MBQ_A.to_csv(path+r\"\\MC_MBQ_B_file.csv\")\n",
    "MAJCAT_MBQ_A.to_csv(path+r\"\\MJ_MBQ_B_file.csv\")"
   ]
  },
  {
   "cell_type": "code",
   "execution_count": 713,
   "metadata": {},
   "outputs": [],
   "source": [
    "MJ_MBQ = MAJCAT_MBQ_A\n",
    "MC_MBQ = MERCHCAT_MBQ_A"
   ]
  },
  {
   "cell_type": "code",
   "execution_count": 714,
   "metadata": {},
   "outputs": [],
   "source": [
    "ST_STK_DATA = ST_STK\n",
    "ST_STK_DATA = pd.merge(ST_STK_DATA, MERCHCAT_MBQ_TEMP, how=\"left\",on=[\"ST_CD\",\"MERCHCAT\"],suffixes=('_left', '_right'))"
   ]
  },
  {
   "cell_type": "code",
   "execution_count": 715,
   "metadata": {},
   "outputs": [],
   "source": [
    "#EXCESS STOCK REMOVAL\n",
    "ST_STK_DATA['REV_ST_STK'] = ST_STK_DATA.apply(lambda x: x['ST_STK'] if x['OPT_MBQ_A']+0==0 \n",
    "                                              else min(x['ST_STK'],x['OPT_MBQ_A']), axis=1)"
   ]
  },
  {
   "cell_type": "code",
   "execution_count": 716,
   "metadata": {},
   "outputs": [],
   "source": [
    "ST_STK_DATA_TEMP = ST_STK_DATA[['ST_CD','MERCHCAT','GEN_ART','COLOR','ST_STK','REV_ST_STK']]"
   ]
  },
  {
   "cell_type": "code",
   "execution_count": 717,
   "metadata": {},
   "outputs": [],
   "source": [
    "#REV STK BTM-UP AT ALL HIER LEVEL\n",
    "ST_STK_MJ = ST_STK_DATA.groupby(['ST_CD','MAJCAT'], as_index=False).agg(MJ_REV_STK=('REV_ST_STK','sum'))\n",
    "ST_STK_MC = ST_STK_DATA.groupby(['ST_CD','MERCHCAT'], as_index=False).agg(MC_REV_STK=('REV_ST_STK','sum'))\n",
    "ST_STK_MC_M_MVGR = ST_STK_DATA.groupby(['ST_CD','MERCHCAT','MACRO_MVGR'], as_index=False).agg(MC_REV_STK=('REV_ST_STK','sum'))\n",
    "ST_STK_MC_MVGR_1 = ST_STK_DATA.groupby(['ST_CD','MERCHCAT','MVGR_1'], as_index=False).agg(MC_REV_STK=('REV_ST_STK','sum'))\n",
    "ST_STK_MC_FABRIC = ST_STK_DATA.groupby(['ST_CD','MERCHCAT','FABRIC'], as_index=False).agg(MC_REV_STK=('REV_ST_STK','sum'))\n",
    "ST_STK_MC_BODY = ST_STK_DATA.groupby(['ST_CD','MERCHCAT','BODY'], as_index=False).agg(MC_REV_STK=('REV_ST_STK','sum'))\n",
    "ST_STK_MC_COLOR = ST_STK_DATA.groupby(['ST_CD','MERCHCAT','COLOR'], as_index=False).agg(MC_REV_STK=('REV_ST_STK','sum'))\n",
    "ST_STK_MC_M_MVGR_COLOR = ST_STK_DATA.groupby(['ST_CD','MERCHCAT','MACRO_MVGR','COLOR'], as_index=False).agg(MC_REV_STK=('REV_ST_STK','sum'))\n",
    "ST_STK_MC_MVGR_1_COLOR = ST_STK_DATA.groupby(['ST_CD','MERCHCAT','MVGR_1','COLOR'], as_index=False).agg(MC_REV_STK=('REV_ST_STK','sum'))\n",
    "ST_STK_MC_FABRIC_COLOR = ST_STK_DATA.groupby(['ST_CD','MERCHCAT','FABRIC','COLOR'], as_index=False).agg(MC_REV_STK=('REV_ST_STK','sum'))\n",
    "ST_STK_MC_BODY_COLOR = ST_STK_DATA.groupby(['ST_CD','MERCHCAT','BODY','COLOR'], as_index=False).agg(MC_REV_STK=('REV_ST_STK','sum'))\n",
    "ST_STK_MC_M_MVGR_MVGR_1 = ST_STK_DATA.groupby(['ST_CD','MERCHCAT','MACRO_MVGR','MVGR_1'], as_index=False).agg(MC_REV_STK=('REV_ST_STK','sum'))\n",
    "ST_STK_MC_M_MVGR_FABRIC = ST_STK_DATA.groupby(['ST_CD','MERCHCAT','MACRO_MVGR','FABRIC'], as_index=False).agg(MC_REV_STK=('REV_ST_STK','sum'))\n",
    "ST_STK_MC_M_MVGR_BODY = ST_STK_DATA.groupby(['ST_CD','MERCHCAT','MACRO_MVGR','BODY'], as_index=False).agg(MC_REV_STK=('REV_ST_STK','sum'))\n",
    "ST_STK_MC_M_MVGR_MVGR_1_COLOR = ST_STK_DATA.groupby(['ST_CD','MERCHCAT','MACRO_MVGR','MVGR_1','COLOR'], as_index=False).agg(MC_REV_STK=('REV_ST_STK','sum'))\n",
    "ST_STK_MC_M_MVGR_FABRIC_COLOR = ST_STK_DATA.groupby(['ST_CD','MERCHCAT','MACRO_MVGR','FABRIC','COLOR'], as_index=False).agg(MC_REV_STK=('REV_ST_STK','sum'))\n",
    "ST_STK_MC_M_MVGR_BODY_COLOR = ST_STK_DATA.groupby(['ST_CD','MERCHCAT','MACRO_MVGR','BODY','COLOR'], as_index=False).agg(MC_REV_STK=('REV_ST_STK','sum'))\n"
   ]
  },
  {
   "cell_type": "code",
   "execution_count": 718,
   "metadata": {},
   "outputs": [],
   "source": [
    "#download data ST_STK_DATA\n",
    "temp=ST_STK_DATA\n",
    "temp.to_csv(path+r\"\\ST_STK_temp_file.csv\")"
   ]
  },
  {
   "cell_type": "code",
   "execution_count": 719,
   "metadata": {},
   "outputs": [],
   "source": [
    "DC_STK_DATA = DC_STK\n",
    "ST_DC=DC_STK_DATA[['SEG','DIV','SUB_DIV','MAJCAT','MERCHCAT','MRP','RNG_SEG','SSN','GEN_ART','GEN_ART_DESC','COLOR','VAR_ART','SZ','M_VND_CD',\n",
    "              'M_VND_NM','CO_AGING','MACRO_MVGR','MVGR_1','FABRIC','BODY','DISCOUNT_STATUS']]\n",
    "ST_DC.insert(0,\"ST_NO\",0)\n",
    "ST_DC['ST_NO']=0\n",
    "ST_TEST = ST_DC\n",
    "ST_DATA = ST_DC"
   ]
  },
  {
   "cell_type": "code",
   "execution_count": 720,
   "metadata": {},
   "outputs": [],
   "source": [
    "for k in range(0,200):\n",
    "    ST_TEST['ST_NO']=ST_TEST['ST_NO'].replace(k,k+1)\n",
    "    ST_DATA = pd.concat([ST_DATA,ST_TEST],ignore_index=True)"
   ]
  },
  {
   "cell_type": "code",
   "execution_count": 721,
   "metadata": {},
   "outputs": [],
   "source": [
    "DATACHECK = ST_DATA[(ST_DATA['ST_NO']==1)].index\n",
    "ST_DATA.drop(DATACHECK, inplace=True)"
   ]
  },
  {
   "cell_type": "code",
   "execution_count": 722,
   "metadata": {},
   "outputs": [],
   "source": [
    "ST_DC['ST_NO']=1\n",
    "ST_DATA = pd.concat([ST_DATA,ST_DC],ignore_index=True)"
   ]
  },
  {
   "cell_type": "code",
   "execution_count": 723,
   "metadata": {},
   "outputs": [],
   "source": [
    "ST_DETAILS_R = ST_DETAILS[['ST_CD','PRIORITY_LIST']]\n",
    "ST_DETAILS_R['ST_NO']=ST_DETAILS_R['PRIORITY_LIST']\n",
    "ST_DETAILS_R = ST_DETAILS[['ST_CD','ST_NO']]"
   ]
  },
  {
   "cell_type": "code",
   "execution_count": 724,
   "metadata": {},
   "outputs": [],
   "source": [
    "ST_DATA = pd.merge(ST_DATA, ST_DETAILS_R, how=\"left\",on=[\"ST_NO\"])"
   ]
  },
  {
   "cell_type": "code",
   "execution_count": 725,
   "metadata": {},
   "outputs": [],
   "source": [
    "ST_DATA['ST_CD'] = ST_DATA['ST_CD'].fillna(\"xxx\")\n",
    "DATACHECK = ST_DATA[(ST_DATA['ST_CD']=='xxx')].index\n",
    "ST_DATA.drop(DATACHECK, inplace=True)"
   ]
  },
  {
   "cell_type": "code",
   "execution_count": 726,
   "metadata": {},
   "outputs": [],
   "source": [
    "ST_DATA = pd.merge(ST_DATA, MERCHCAT_MBQ_TEMP, how=\"left\",on=[\"ST_CD\",\"MERCHCAT\"])\n",
    "ST_DATA = pd.merge(ST_DATA, ST_STK_DATA_TEMP, how=\"left\",on=[\"ST_CD\",\"MERCHCAT\",\"GEN_ART\",\"COLOR\"])\n",
    "ST_DATA['ST_STK'] = ST_DATA['ST_STK'].fillna(0)\n",
    "ST_DATA['REV_ST_STK'] = ST_DATA['REV_ST_STK'].fillna(0)"
   ]
  },
  {
   "cell_type": "code",
   "execution_count": 727,
   "metadata": {},
   "outputs": [],
   "source": [
    "temp=ST_DATA.head(10000)\n",
    "temp.to_csv(path+r\"\\ST_DATA_temp_file.csv\")"
   ]
  },
  {
   "cell_type": "code",
   "execution_count": 728,
   "metadata": {},
   "outputs": [],
   "source": [
    "#comb\n",
    "DC_STK_DATA['REV_DC_STK']=DC_STK_DATA['CURR_DC_STK']\n",
    "DC_STK_DATA['GEN_CLR'] = DC_STK_DATA['GEN_ART'].astype(str)+DC_STK_DATA['COLOR'].astype(str)\n",
    "DC_STK_DATA['MC_GEN_CLR'] = DC_STK_DATA['MERCHCAT'].astype(str)+DC_STK_DATA['GEN_ART'].astype(str)+DC_STK_DATA['COLOR'].astype(str)"
   ]
  },
  {
   "cell_type": "code",
   "execution_count": 729,
   "metadata": {},
   "outputs": [],
   "source": [
    "ST_DATA['GEN_CLR'] = ST_DATA['GEN_ART'].astype(str)+ST_DATA['COLOR'].astype(str)\n",
    "ST_DATA['COMB'] = ST_DATA['ST_CD']+ST_DATA['GEN_ART'].astype(str)+ST_DATA['COLOR'].astype(str)\n",
    "ST_DATA['ART_REQ'] = ST_DATA.apply(lambda x: x['OPT_MBQ_A'] if (x['ST_STK']+0) ==0\n",
    "                                   else max(x['OPT_MBQ_A']-(x['ST_STK']+0),0), axis=1)\n",
    "ST_DATA['SSN_ART_REQ'] = ST_DATA.apply(lambda x: x['SSN_MBQ_A'] if (x['ST_STK']+0) == 0\n",
    "                                       else max(x['SSN_MBQ_A']-(x['ST_STK']+0),0), axis=1)\n"
   ]
  },
  {
   "cell_type": "code",
   "execution_count": 730,
   "metadata": {},
   "outputs": [],
   "source": [
    "DC_STK_DATA['ALLOC']=0\n",
    "ST_DATA['ALLOC']=0\n",
    "\n",
    "ST_STK_MJ['MJ_ALLOC']=0\n",
    "ST_STK_MC['MC_ALLOC']=0\n",
    "ST_STK_MC_M_MVGR['ALLOC'] = 0\n",
    "ST_STK_MC_MVGR_1['ALLOC'] = 0\n",
    "ST_STK_MC_FABRIC['ALLOC'] = 0\n",
    "ST_STK_MC_BODY['ALLOC'] = 0\n",
    "ST_STK_MC_COLOR['ALLOC'] = 0\n",
    "ST_STK_MC_M_MVGR_COLOR['ALLOC'] = 0\n",
    "ST_STK_MC_MVGR_1_COLOR['ALLOC'] = 0\n",
    "ST_STK_MC_FABRIC_COLOR['ALLOC'] = 0\n",
    "ST_STK_MC_BODY_COLOR['ALLOC'] = 0\n",
    "ST_STK_MC_M_MVGR_MVGR_1['ALLOC'] = 0\n",
    "ST_STK_MC_M_MVGR_FABRIC['ALLOC'] = 0\n",
    "ST_STK_MC_M_MVGR_BODY['ALLOC'] = 0\n",
    "ST_STK_MC_M_MVGR_MVGR_1_COLOR['ALLOC'] = 0\n",
    "ST_STK_MC_M_MVGR_FABRIC_COLOR['ALLOC'] = 0\n",
    "ST_STK_MC_M_MVGR_BODY_COLOR['ALLOC'] = 0\n",
    "MJ_MBQ['ALLOC'] = 0"
   ]
  },
  {
   "cell_type": "code",
   "execution_count": 731,
   "metadata": {},
   "outputs": [],
   "source": [
    "MJ_ALGO = BGT_MAJCAT[['ST_CD','MAJCAT']]\n",
    "MC_ALGO = BGT_MERCHCAT[['ST_CD','MAJCAT','MERCHCAT']]\n",
    "MC_M_MVGR = MC_M_MVGR_CONT[['ST_CD','MERCHCAT','MACRO_MVGR']]\n",
    "MC_MVGR = MC_MVGR_CONT[['ST_CD','MERCHCAT','MVGR']]\n",
    "MC_BODY = MC_BODY_CONT[['ST_CD','MERCHCAT','BODY']]\n",
    "MC_FABRIC = MC_FABRIC_CONT[['ST_CD','MERCHCAT','FABRIC']]\n",
    "MC_CLR = MC_CLR_CONT[['ST_CD','MERCHCAT','CLR']]\n",
    "MC_VEND = MC_VEND_CONT[['ST_CD','MERCHCAT','VEND_CD']]\n"
   ]
  },
  {
   "cell_type": "code",
   "execution_count": 732,
   "metadata": {},
   "outputs": [],
   "source": [
    "MJ_MBQ['ALLOC']=MJ_MBQ['ALLOC'].astype(float)"
   ]
  },
  {
   "cell_type": "code",
   "execution_count": 733,
   "metadata": {},
   "outputs": [],
   "source": [
    "\n",
    "#MAJCAT_MBQ_A['COMB']= MAJCAT_MBQ_A['ST_CD']+MAJCAT_MBQ_A['MAJCAT']\n",
    "MJ_MBQ['COMB'] = MJ_MBQ['ST_CD']+MJ_MBQ['MAJCAT']\n",
    "MC_MBQ['COMB'] = MC_MBQ['ST_CD']+MC_MBQ['MERCHCAT']\n",
    "#ST_STK_MJ['COMB'] = ST_STK_MJ['ST_CD']+ST_STK_MJ['MAJCAT']\n",
    "#ST_STK_MC['COMB'] = ST_STK_MC['ST_CD']+ST_STK_MC['MERCHCAT']\n",
    "MC_M_MVGR['COMB'] = MC_M_MVGR['ST_CD']+MC_M_MVGR['MERCHCAT']+MC_M_MVGR['MACRO_MVGR']\n",
    "MC_MVGR['COMB'] = MC_MVGR['ST_CD']+MC_MVGR['MERCHCAT']+MC_MVGR['MVGR']\n",
    "MC_BODY['COMB'] = MC_BODY['ST_CD']+MC_BODY['MERCHCAT']+MC_BODY['BODY']\n",
    "MC_FABRIC['COMB'] = MC_FABRIC['ST_CD']+MC_FABRIC['MERCHCAT']+MC_FABRIC['FABRIC']\n",
    "MC_CLR['COMB'] = MC_CLR['ST_CD']+MC_CLR['MERCHCAT']+MC_CLR['CLR']\n",
    "MC_VEND['COMB'] = MC_VEND['ST_CD']+MC_VEND['MERCHCAT']+MC_VEND['VEND_CD']\n"
   ]
  },
  {
   "cell_type": "code",
   "execution_count": 734,
   "metadata": {},
   "outputs": [],
   "source": [
    "MJ_MBQ['MJ_MBQ']=MJ_MBQ['MJ_MBQ_A']\n",
    "MC_MBQ['MC_MBQ']=MC_MBQ['MC_MBQ_A']\n",
    "MJ_MBQ = pd.merge(MJ_MBQ, ST_STK_MJ, how=\"left\",on=[\"ST_CD\",\"MAJCAT\"])\n",
    "MC_MBQ = pd.merge(MC_MBQ, ST_STK_MC, how=\"left\",on=[\"ST_CD\",\"MERCHCAT\"])\n"
   ]
  },
  {
   "cell_type": "code",
   "execution_count": 735,
   "metadata": {},
   "outputs": [],
   "source": [
    "MJ_MBQ['MJ_REQ'] = MJ_MBQ['MJ_MBQ']-(0.0+MJ_MBQ['MJ_REV_STK'])\n",
    "MC_MBQ['MC_REQ'] = MC_MBQ['MC_MBQ']-(0.0+MC_MBQ['MC_REV_STK'])"
   ]
  },
  {
   "cell_type": "code",
   "execution_count": 736,
   "metadata": {},
   "outputs": [],
   "source": [
    "MJ_MBQ.to_csv(path+r\"\\MJ_MBQ.csv\")\n",
    "MC_MBQ.to_csv(path+r\"\\MC_MBQ.csv\")\n",
    "ST_STK_MJ.to_csv(path+r\"\\MJ_STK.csv\")\n",
    "ST_STK_MC.to_csv(path+r\"\\MC_STK.csv\")\n",
    "DC_STK_DATA.to_csv(path+r\"\\DC_STK.csv\")"
   ]
  },
  {
   "cell_type": "code",
   "execution_count": 737,
   "metadata": {},
   "outputs": [],
   "source": [
    "A1=ST_DATA.columns\n",
    "ST_DATA_NEW = pd.DataFrame(columns=A1)\n",
    "A2=DC_STK_DATA.columns\n",
    "DC_DATA_NEW = pd.DataFrame(columns=A2)\n",
    "A3=MJ_MBQ.columns\n",
    "MJ_MBQ_NEW = pd.DataFrame(columns=A3)\n",
    "A4=MC_MBQ.columns\n",
    "MC_MBQ_NEW = pd.DataFrame(columns=A4)\n"
   ]
  },
  {
   "cell_type": "code",
   "execution_count": 738,
   "metadata": {},
   "outputs": [],
   "source": [
    "DC_STK_DATA['ALLOC']=0\n",
    "ST_DATA['ALLOC']=0\n",
    "MJ_MBQ['ALLOC'] = 0\n",
    "MC_MBQ['ALLOC'] = 0\n",
    "MC_M_MVGR['ALLOC'] = 0\n",
    "MC_MVGR['ALLOC'] = 0\n",
    "MC_BODY['ALLOC'] = 0\n",
    "MC_FABRIC['ALLOC'] = 0\n",
    "MC_CLR['ALLOC'] = 0\n",
    "MC_VEND['ALLOC'] = 0"
   ]
  },
  {
   "cell_type": "code",
   "execution_count": 739,
   "metadata": {},
   "outputs": [],
   "source": [
    "# i = CAT\n",
    "# # num_processes = multiprocessing.cpu_count() \n",
    "# ST_DATA_TEMP = ST_DATA\n",
    "# # filtering rows \n",
    "# DC_STK_TEMP = DC_STK_DATA.loc[(DC_STK_DATA['REV_DC_STK']>0)].reset_index(drop=True)\n",
    "# cnt=0\n",
    "# # num_processes = multiprocessing.cpu_count() \n",
    "# # Create a mapping dictionary for GEN_CLR to MERCHCAT\n",
    "# gen_clr_to_merchcat = DC_STK_TEMP.set_index('GEN_CLR')['MERCHCAT'].to_dict()\n",
    "# # Pre-calculate the concatenation of ST_CD and GEN_CLR\n",
    "# concatenated_combinations = {str(j) + str(k): (j, k) for j in ST_DETAILS['ST_CD'] for k in DC_STK_TEMP['GEN_CLR']}\n",
    "# # concatenated_combinations = {}\n",
    "# # for j in ST_DETAILS['ST_CD'] :\n",
    "# #     for k in DC_STK_TEMP['GEN_CLR'] : \n",
    "# #         concatenated_combinations[str(j) + str(k)] = (j, k) \n",
    "# # concatenated_combinations = {str(j) + str(k): (j, k) for j in ST_DETAILS['ST_CD'] if j == 'HA10' for k in DC_STK_TEMP['GEN_CLR']}\n",
    "# # # pnt1\n",
    "\n",
    "# # # Create a series with concatenated values as index for fast lookup\n",
    "# # comb_series = ST_DATA_TEMP.set_index('COMB')['ART_REQ']\n",
    "# art_req_sums = ST_DATA_TEMP.groupby('COMB')['ART_REQ'].sum().to_dict()\n",
    "# rev_dc_stk_sums = DC_STK_TEMP.groupby('GEN_CLR')['REV_DC_STK'].sum().to_dict()\n",
    "# mj_req_sums = MJ_MBQ.groupby('COMB')['MJ_REQ'].sum().to_dict()\n",
    "# mc_req_sums = MC_MBQ.groupby('COMB')['MC_REQ'].sum().to_dict()\n",
    "# # # Iterate over the pre-calculated combinations\n",
    "\n",
    "# for comb, (j, k) in concatenated_combinations.items():\n",
    "# #     #  assigns the value of the 'MERCHCAT' column corresponding to the rows where the 'GEN_CLR' column is equal to k to the variable l.\n",
    "#     l = gen_clr_to_merchcat[k]\n",
    "#     ART_REQ = art_req_sums.get(str(j)+str(k), 0)\n",
    "#     cnt+=1\n",
    "#     print(cnt)\n",
    "#     if rev_dc_stk_sums.get(k) >= ART_REQ:\n",
    "#         if ST_DATA_TEMP.loc[ST_DATA_TEMP['COMB'] == str(j)+str(k),'ART_REQ'].item()>0:\n",
    "#             if (MJ_MBQ.loc[MJ_MBQ['COMB'] == str(j)+str(i),'MJ_REQ'].sum()) >= ART_REQ:\n",
    "#                 if (MC_MBQ.loc[MC_MBQ['COMB'] == str(j)+str(l),'MC_REQ'].sum()) >= ART_REQ:\n",
    "#                     # IF CONDITION TRUE THEN EXECUTE THE BELOW STEPS\n",
    "#                     ALLOC=0\n",
    "#                     ALLOC = ART_REQ\n",
    "#                     # print(ART_REQ)\n",
    "#                     # print(ALLOC)\n",
    "#                     # Update ST_DATA_TEMP\n",
    "#                     ST_DATA_TEMP.loc[ST_DATA_TEMP['COMB'] == comb, 'ALLOC'] = ALLOC\n",
    "#                     ST_DATA_TEMP.loc[ST_DATA_TEMP['COMB'] == comb, 'ART_REQ'] -= ALLOC\n",
    "\n",
    "#                     # Update DC_STK_TEMP\n",
    "#                     DC_STK_TEMP.loc[DC_STK_TEMP['GEN_CLR'] == k, 'ALLOC'] += ALLOC\n",
    "#                     DC_STK_TEMP.loc[DC_STK_TEMP['GEN_CLR'] == k, 'REV_DC_STK'] -= ALLOC\n",
    "\n",
    "#                     MJ_MBQ.loc[MJ_MBQ['COMB'] == str(j)+str(i),'ALLOC'] += ALLOC\n",
    "#                     MJ_MBQ.loc[MJ_MBQ['COMB'] == str(j)+str(i),'MJ_REQ'] -= ALLOC\n",
    "                    \n",
    "#                     MC_MBQ.loc[MC_MBQ['COMB'] == str(j)+str(l),'ALLOC'] += ALLOC\n",
    "#                     MC_MBQ.loc[MC_MBQ['COMB'] == str(j)+str(l)a,'MC_REQ'] -= ALLOC\n",
    "\n",
    "# if ST_DATA_NEW is None:\n",
    "#     ST_DATA_NEW = ST_DATA_TEMP\n",
    "# else:\n",
    "#     ST_DATA_NEW = pd.concat([ST_DATA_NEW,ST_DATA_TEMP],ignore_index=True)\n",
    "# if DC_DATA_NEW is None:  \n",
    "#     DC_DATA_NEW = DC_STK_TEMP\n",
    "# else:\n",
    "#     DC_DATA_NEW = pd.concat([DC_DATA_NEW,DC_STK_TEMP],ignore_index=True)"
   ]
  },
  {
   "cell_type": "code",
   "execution_count": 740,
   "metadata": {},
   "outputs": [],
   "source": [
    "# i = CAT\n",
    "# ST_DATA_TEMP = ST_DATA\n",
    "# DC_STK_TEMP = DC_STK_DATA.loc[(DC_STK_DATA['REV_DC_STK']>0)].reset_index(drop=True)\n",
    "# cnt=0\n",
    "\n",
    "# gen_clr_to_merchcat = DC_STK_TEMP.set_index('GEN_CLR')['MERCHCAT'].to_dict()\n",
    "# comb_to_artreq = ST_DATA_TEMP.groupby('COMB')['ART_REQ'].first().to_dict()\n",
    "\n",
    "\n",
    "# art_req_sums = ST_DATA_TEMP.groupby('COMB')['ART_REQ'].sum().to_dict()\n",
    "# rev_dc_stk_sums = DC_STK_TEMP.groupby('GEN_CLR')['REV_DC_STK'].sum().to_dict()\n",
    "# mj_req_sums = MJ_MBQ.groupby('COMB')['MJ_REQ'].sum().to_dict()\n",
    "# mc_req_sums = MC_MBQ.groupby('COMB')['MC_REQ'].sum().to_dict()\n",
    "\n",
    "# # concatenated_combinations = {str(j) + str(k): (j, k,gen_clr_to_merchcat[k],art_req_sums.get(str(j)+str(k), 0)) for j in ST_DETAILS['ST_CD'] for k in DC_STK_TEMP['GEN_CLR']}\n",
    "\n",
    "# concatenated_combinations = {\n",
    "#     str(j) + str(k): (j, k, gen_clr_to_merchcat[k], art_req_sums.get(str(j) + str(k), 0))\n",
    "#     for j in ST_DETAILS['ST_CD']\n",
    "#     for k in DC_STK_TEMP['GEN_CLR']\n",
    "#     if rev_dc_stk_sums.get(k, 0) >= art_req_sums.get(str(j) + str(k), 0)\n",
    "#     and comb_to_artreq.get(str(j) + str(k), 0) > 0\n",
    "#     and mj_req_sums.get(str(j) + str(i), 0) >= art_req_sums.get(str(j) + str(k), 0)\n",
    "#     and mc_req_sums.get(str(j) + str(gen_clr_to_merchcat[k]), 0) >= art_req_sums.get(str(j) + str(k), 0)\n",
    "# }\n",
    "\n",
    "\n",
    "# for comb, (j, k,l,ART_REQ) in concatenated_combinations.items():\n",
    "#     # l = gen_clr_to_merchcat[k]\n",
    "#     # ART_REQ = art_req_sums.get(str(j)+str(k), 0)\n",
    "#     cnt+=1\n",
    "#     print(cnt)\n",
    "#     # if rev_dc_stk_sums.get(k) >= ART_REQ:\n",
    "#     #     if comb_to_artreq.get(comb)>0:\n",
    "#     #         if mj_req_sums.get(str(j)+str(i)) >= ART_REQ:\n",
    "#     #             if mc_req_sums.get(str(j)+str(l)) >= ART_REQ:\n",
    "#     ALLOC = ART_REQ\n",
    "#     # Update ST_DATA_TEMP\n",
    "#     ST_DATA_TEMP.loc[ST_DATA_TEMP['COMB'] == comb, 'ALLOC'] = ALLOC\n",
    "#     ST_DATA_TEMP.loc[ST_DATA_TEMP['COMB'] == comb, 'ART_REQ'] -= ALLOC\n",
    "\n",
    "#     # Update DC_STK_TEMP\n",
    "#     DC_STK_TEMP.loc[DC_STK_TEMP['GEN_CLR'] == k, 'ALLOC'] += ALLOC\n",
    "#     DC_STK_TEMP.loc[DC_STK_TEMP['GEN_CLR'] == k, 'REV_DC_STK'] -= ALLOC\n",
    "\n",
    "#     MJ_MBQ.loc[MJ_MBQ['COMB'] == str(j)+str(i),'ALLOC'] += ALLOC\n",
    "#     MJ_MBQ.loc[MJ_MBQ['COMB'] == str(j)+str(i),'MJ_REQ'] -= ALLOC\n",
    "                    \n",
    "#     MC_MBQ.loc[MC_MBQ['COMB'] == str(j)+str(l),'ALLOC'] += ALLOC\n",
    "#     MC_MBQ.loc[MC_MBQ['COMB'] == str(j)+str(l),'MC_REQ'] -= ALLOC\n",
    "\n",
    "# if ST_DATA_NEW is None:\n",
    "#     ST_DATA_NEW = ST_DATA_TEMP\n",
    "# else:\n",
    "#     ST_DATA_NEW = pd.concat([ST_DATA_NEW,ST_DATA_TEMP],ignore_index=True)\n",
    "# if DC_DATA_NEW is None:  \n",
    "#     DC_DATA_NEW = DC_STK_TEMP\n",
    "# else:\n",
    "#     DC_DATA_NEW = pd.concat([DC_DATA_NEW,DC_STK_TEMP],ignore_index=True)"
   ]
  },
  {
   "cell_type": "code",
   "execution_count": 741,
   "metadata": {},
   "outputs": [],
   "source": [
    "# i = CAT\n",
    "# ST_DATA_TEMP = ST_DATA\n",
    "# DC_STK_TEMP = DC_STK_DATA.loc[(DC_STK_DATA['REV_DC_STK']>0)].reset_index(drop=True)\n",
    "# # cnt=0\n",
    "\n",
    "# gen_clr_to_merchcat = DC_STK_TEMP.set_index('GEN_CLR')['MERCHCAT'].to_dict()\n",
    "# comb_to_artreq = ST_DATA_TEMP.groupby('COMB')['ART_REQ'].first().to_dict()\n",
    "\n",
    "\n",
    "# art_req_sums = ST_DATA_TEMP.groupby('COMB')['ART_REQ'].sum().to_dict()\n",
    "# rev_dc_stk_sums = DC_STK_TEMP.groupby('GEN_CLR')['REV_DC_STK'].sum().to_dict()\n",
    "# mj_req_sums = MJ_MBQ.groupby('COMB')['MJ_REQ'].sum().to_dict()\n",
    "# mc_req_sums = MC_MBQ.groupby('COMB')['MC_REQ'].sum().to_dict()\n",
    "\n",
    "# concatenated_combinations = {str(j) + str(k): (j, k) for j in ST_DETAILS['ST_CD'] for k in DC_STK_TEMP['GEN_CLR']}\n",
    "\n",
    "# # print(len(ST_DATA_TEMP))\n",
    "\n",
    "# # ST_DATA_TEMP_reset = ST_DATA_TEMP.reset_index(drop=True)\n",
    "# # DC_STK_TEMP_reset = DC_STK_TEMP.reset_index(drop=True)\n",
    "# # MJ_MBQ_reset = MJ_MBQ.reset_index(drop=True)\n",
    "# # MC_MBQ_reset = MC_MBQ.reset_index(drop=True)\n",
    "# # print(len(ST_DATA_TEMP_reset))\n",
    "# # Group by 'COMB' and store all indexes as a dictionary\n",
    "# # print(MJ_MBQ_reset.loc[MJ_MBQ['COMB']=='HB40M_JEANS'])\n",
    "\n",
    "# # st_index_dict = ST_DATA_TEMP_reset.groupby('COMB').apply(lambda x: x.index.tolist()).to_dict()\n",
    "# # dc_index_dict = DC_STK_TEMP_reset.groupby('GEN_CLR').apply(lambda x: x.index.tolist()).to_dict()\n",
    "# # mc_index_dict = MC_MBQ_reset.groupby('COMB').apply(lambda x: x.index.tolist()).to_dict()\n",
    "# # mj_index_dict = MJ_MBQ_reset.groupby('COMB').apply(lambda x: x.index.tolist()).to_dict()\n",
    "\n",
    "# # specific_key = 'HB40M_JEANS'\n",
    "# # if specific_key in mj_index_dict.keys():\n",
    "# #     print(f\"The key '{specific_key}' exists in the list of keys.\")\n",
    "# # else:\n",
    "# #     print(f\"The key '{specific_key}' does not exist in the list of keys.\")\n",
    "\n",
    "# # print(st_index_dict)  # Print the entire dictionary\n",
    "# # print(len(st_index_dict.keys()))  # Print the length of the dictionary\n",
    "\n",
    "# for comb, (j, k) in concatenated_combinations.items():\n",
    "#     l = gen_clr_to_merchcat[k]\n",
    "#     ART_REQ = art_req_sums.get(comb, 0)\n",
    "#     # cnt+=1\n",
    "#     # print(cnt)\n",
    "#     if rev_dc_stk_sums.get(k) >= ART_REQ:\n",
    "#         if comb_to_artreq.get(comb)>0:\n",
    "#             if mj_req_sums.get(str(j)+str(i)) >= ART_REQ:\n",
    "#                 if mc_req_sums.get(str(j)+str(l)) >= ART_REQ:\n",
    "#                     ALLOC = art_req_sums.get(comb, 0)\n",
    "#                     # print(f\"{ART_REQ} {ALLOC}\")\n",
    "#                     # st_indexes = st_index_dict[comb]\n",
    "#                     # dc_indexes = dc_index_dict[k]\n",
    "#                     # mj_indexes = mj_index_dict[str(j)+str(i)]\n",
    "#                     # mc_indexes = mc_index_dict[str(j)+str(l)]\n",
    "\n",
    "#                     ST_DATA_TEMP.loc[ST_DATA_TEMP['COMB'] == comb, 'ALLOC'] = ALLOC\n",
    "#                     ST_DATA_TEMP.loc[ST_DATA_TEMP['COMB'] == comb, 'ART_REQ'] -= ALLOC\n",
    "#                     # Update DC_STK_TEMP\n",
    "#                     DC_STK_TEMP.loc[DC_STK_TEMP['GEN_CLR'] == k, 'ALLOC'] += ALLOC\n",
    "#                     DC_STK_TEMP.loc[DC_STK_TEMP['GEN_CLR'] == k, 'REV_DC_STK'] -= ALLOC\n",
    "#                     MJ_MBQ.loc[MJ_MBQ['COMB'] == str(j)+str(i),'ALLOC'] += ALLOC\n",
    "#                     MJ_MBQ.loc[MJ_MBQ['COMB'] == str(j)+str(i),'MJ_REQ'] -= ALLOC\n",
    "#                     MC_MBQ.loc[MC_MBQ['COMB'] == str(j)+str(l),'ALLOC'] += ALLOC\n",
    "#                     MC_MBQ.loc[MC_MBQ['COMB'] == str(j)+str(l),'MC_REQ'] -= ALLOC\n",
    "#                     # 48s\n",
    "#                     # ST_DATA_TEMP_reset.loc[st_indexes, 'ALLOC'] = ALLOC\n",
    "#                     # ST_DATA_TEMP_reset.loc[st_indexes, 'ART_REQ'] -= ALLOC\n",
    "                    \n",
    "#                     # 1 min 2 s\n",
    "#                     # DC_STK_TEMP_reset.loc[dc_indexes,'ALLOC'] += ALLOC\n",
    "#                     # DC_STK_TEMP_reset.loc[dc_indexes,'REV_DC_STK'] -= ALLOC\n",
    "                    \n",
    "#                     #1 min 0.3 s\n",
    "#                     # MJ_MBQ_reset.loc[mj_indexes,'ALLOC'] += ALLOC\n",
    "#                     # MJ_MBQ_reset.loc[mj_indexes,'MJ_REQ'] -= ALLOC\n",
    "                    \n",
    "#                     #58s\n",
    "#                     # MC_MBQ_reset.loc[mc_indexes,'ALLOC'] += ALLOC\n",
    "#                     # MC_MBQ_reset.loc[mc_indexes,'MC_REQ'] -= ALLOC\n",
    "#                     # print(MC_MBQ_reset.loc[mc_indexes,'ALLOC'] + ALLOC)\n",
    "#                     # print('end loop')\n",
    "\n",
    "# # ST_DATA_TEMP = ST_DATA_TEMP_reset\n",
    "# # DC_STK_TEMP = DC_STK_TEMP_reset\n",
    "# # MJ_MBQ = MJ_MBQ_reset\n",
    "# # MC_MBQ = MC_MBQ_reset\n",
    "#                     # Update ST_DATA_TEMP\n",
    "\n",
    "# # print(MC_MBQ[['MC_MBQ','MC_REV_STK','ALLOC']])\n"
   ]
  },
  {
   "cell_type": "code",
   "execution_count": 742,
   "metadata": {},
   "outputs": [],
   "source": [
    "# i = CAT\n",
    "\n",
    "# ST_DATA_TEMP = ST_DATA\n",
    "# DC_STK_TEMP = DC_STK_DATA.loc[(DC_STK_DATA['REV_DC_STK']>0)].reset_index(drop=True)\n",
    "# cnt=0\n",
    "\n",
    "# gen_clr_to_merchcat = DC_STK_TEMP.set_index('GEN_CLR')['MERCHCAT'].to_dict()\n",
    "# comb_to_artreq = ST_DATA_TEMP.groupby('COMB')['ART_REQ'].first().to_dict()\n",
    "\n",
    "\n",
    "# art_req_sums = ST_DATA_TEMP.groupby('COMB')['ART_REQ'].sum().to_dict()\n",
    "# rev_dc_stk_sums = DC_STK_TEMP.groupby('GEN_CLR')['REV_DC_STK'].sum().to_dict()\n",
    "# mj_req_sums = MJ_MBQ.groupby('COMB')['MJ_REQ'].sum().to_dict()\n",
    "# mc_req_sums = MC_MBQ.groupby('COMB')['MC_REQ'].sum().to_dict()\n",
    "\n",
    "# concatenated_combinations = {str(j) + str(k): (j, k) for j in ST_DETAILS['ST_CD'] for k in DC_STK_TEMP['GEN_CLR']}\n",
    "\n",
    "# for comb, (j, k) in concatenated_combinations.items():\n",
    "#     l = gen_clr_to_merchcat[k]\n",
    "#     ART_REQ = art_req_sums.get(str(j)+str(k), 0)\n",
    "#     cnt+=1\n",
    "#     # print(cnt)\n",
    "#     if rev_dc_stk_sums.get(k) >= ART_REQ:\n",
    "#         if comb_to_artreq.get(comb)>0:\n",
    "#             if mj_req_sums.get(str(j)+str(i)) >= ART_REQ:\n",
    "#                 if mc_req_sums.get(str(j)+str(l)) >= ART_REQ:\n",
    "#                     ALLOC = ART_REQ\n",
    "#                     # Update ST_DATA_TEMP\n",
    "#                     ST_DATA_TEMP.loc[ST_DATA_TEMP['COMB'] == comb, 'ALLOC'] = ALLOC\n",
    "#                     ST_DATA_TEMP.loc[ST_DATA_TEMP['COMB'] == comb, 'ART_REQ'] -= ALLOC\n",
    "\n",
    "#                     # Update DC_STK_TEMP\n",
    "#                     DC_STK_TEMP.loc[DC_STK_TEMP['GEN_CLR'] == k, 'ALLOC'] += ALLOC\n",
    "#                     DC_STK_TEMP.loc[DC_STK_TEMP['GEN_CLR'] == k, 'REV_DC_STK'] -= ALLOC\n",
    "\n",
    "#                     MJ_MBQ.loc[MJ_MBQ['COMB'] == str(j)+str(i),'ALLOC'] += ALLOC\n",
    "#                     MJ_MBQ.loc[MJ_MBQ['COMB'] == str(j)+str(i),'MJ_REQ'] -= ALLOC\n",
    "                    \n",
    "#                     MC_MBQ.loc[MC_MBQ['COMB'] == str(j)+str(l),'ALLOC'] += ALLOC\n",
    "#                     MC_MBQ.loc[MC_MBQ['COMB'] == str(j)+str(l),'MC_REQ'] -= ALLOC\n",
    "\n",
    "# if ST_DATA_NEW is None:\n",
    "#     ST_DATA_NEW = ST_DATA_TEMP\n",
    "# else:\n",
    "#     ST_DATA_NEW = pd.concat([ST_DATA_NEW,ST_DATA_TEMP],ignore_index=True)\n",
    "# if DC_DATA_NEW is None:  \n",
    "#     DC_DATA_NEW = DC_STK_TEMP\n",
    "# else:\n",
    "#     DC_DATA_NEW = pd.concat([DC_DATA_NEW,DC_STK_TEMP],ignore_index=True)\n",
    "\n",
    "# print(MC_MBQ[['MC_MBQ','MC_REV_STK','ALLOC']])\n"
   ]
  },
  {
   "cell_type": "code",
   "execution_count": 743,
   "metadata": {},
   "outputs": [],
   "source": [
    "# ST_DATA_TEMP.to_csv(path+r\"\\ST_DATA_TEMP_Final.csv\")\n",
    "# # DC_STK_TEMP.to_csv(path+r\"\\DC_STK_TEMP_Final.csv\")\n",
    "# MJ_MBQ.to_csv(path+r\"\\MJ_MBQ_Final.csv\")\n",
    "# MC_MBQ.to_csv(path+r\"\\MC_MBQ_Final.csv\")\n",
    "\n",
    "# print(MC_MBQ[['MC_MBQ','MC_REV_STK','ALLOC']])"
   ]
  },
  {
   "cell_type": "code",
   "execution_count": 744,
   "metadata": {},
   "outputs": [],
   "source": [
    "# i = CAT\n",
    "# ST_DATA_TEMP = ST_DATA\n",
    "# DC_STK_TEMP = DC_STK_DATA.loc[(DC_STK_DATA['REV_DC_STK']>0)].reset_index(drop=True)\n",
    "# cnt=0\n",
    "\n",
    "# gen_clr_to_merchcat = DC_STK_TEMP.set_index('GEN_CLR')['MERCHCAT'].to_dict()\n",
    "# comb_to_artreq = ST_DATA_TEMP.groupby('COMB')['ART_REQ'].first().to_dict()\n",
    "\n",
    "\n",
    "# concatenated_combinations = {str(j) + str(k): (j, k) for j in ST_DETAILS['ST_CD'] for k in DC_STK_TEMP['GEN_CLR']}\n",
    "\n",
    "# art_req_sums = ST_DATA_TEMP.groupby('COMB')['ART_REQ'].sum().to_dict()\n",
    "# rev_dc_stk_sums = DC_STK_TEMP.groupby('GEN_CLR')['REV_DC_STK'].sum().to_dict()\n",
    "# mj_req_sums = MJ_MBQ.groupby('COMB')['MJ_REQ'].sum().to_dict()\n",
    "# mc_req_sums = MC_MBQ.groupby('COMB')['MC_REQ'].sum().to_dict()\n",
    "# for comb, (j, k) in concatenated_combinations.items():\n",
    "#     l = gen_clr_to_merchcat[k]\n",
    "#     ART_REQ = art_req_sums.get(str(j)+str(k), 0)\n",
    "#     cnt+=1\n",
    "#     # print(cnt)\n",
    "#     if rev_dc_stk_sums.get(k) >= ART_REQ:\n",
    "#         if comb_to_artreq.get(comb)>0:\n",
    "#             if mj_req_sums.get(str(j)+str(i)) >= ART_REQ:\n",
    "#                 if mc_req_sums.get(str(j)+str(l)) >= ART_REQ:\n",
    "#                     ALLOC = ART_REQ\n",
    "#                     # Batch update for ST_DATA_TEMP\n",
    "#                     updates_st = ST_DATA_TEMP['COMB'] == comb\n",
    "#                     ST_DATA_TEMP.loc[updates_st, 'ALLOC'] = ALLOC\n",
    "#                     ST_DATA_TEMP.loc[updates_st, 'ART_REQ'] -= ALLOC\n",
    "\n",
    "#                     # Batch update for DC_STK_TEMP\n",
    "#                     updates_dc = DC_STK_TEMP['GEN_CLR'] == k\n",
    "#                     DC_STK_TEMP.loc[updates_dc, 'ALLOC'] += ALLOC\n",
    "#                     DC_STK_TEMP.loc[updates_dc, 'REV_DC_STK'] -= ALLOC\n",
    "\n",
    "#                     # Batch update for MJ_MBQ\n",
    "#                     updates_mj = MJ_MBQ['COMB'] == str(j) + str(i)\n",
    "#                     MJ_MBQ.loc[updates_mj, 'ALLOC'] += ALLOC\n",
    "#                     MJ_MBQ.loc[updates_mj, 'MJ_REQ'] -= ALLOC\n",
    "\n",
    "#                     # Batch update for MC_MBQ\n",
    "#                     updates_mc = MC_MBQ['COMB'] == str(j) + str(l)\n",
    "#                     MC_MBQ.loc[updates_mc, 'ALLOC'] += ALLOC\n",
    "#                     MC_MBQ.loc[updates_mc, 'MC_REQ'] -= ALLOC\n",
    "\n",
    "#                     # print(f\"{cnt} {ART_REQ}\")\n",
    "#                     # print(ALLOC)\n",
    "#                     # Filter relevant rows for updates\n",
    "#                     relevant_rows_st = ST_DATA_TEMP[ST_DATA_TEMP['COMB'] == comb]\n",
    "#                     relevant_rows_dc = DC_STK_TEMP[DC_STK_TEMP['GEN_CLR'] == k]\n",
    "#                     relevant_rows_mj = MJ_MBQ[MJ_MBQ['COMB'] == str(j)+str(i)]\n",
    "#                     relevant_rows_mc = MC_MBQ[MC_MBQ['COMB'] == str(j)+str(l)]\n",
    "\n",
    "#                     relevant_rows_st['ALLOC'] += ALLOC\n",
    "#                     relevant_rows_st['ART_REQ'] -= ALLOC\n",
    "\n",
    "#                     relevant_rows_dc['ALLOC'] += ALLOC\n",
    "#                     relevant_rows_dc['REV_DC_STK'] -= ALLOC\n",
    "\n",
    "#                     relevant_rows_mj['ALLOC'] += ALLOC\n",
    "#                     relevant_rows_mj['MJ_REQ'] -= ALLOC\n",
    "\n",
    "#                     relevant_rows_mc['ALLOC'] += ALLOC\n",
    "#                     relevant_rows_mc['MC_REQ'] -= ALLOC\n",
    "#                     # Update ST_DATA_TEMP\n",
    "#                     # ST_DATA_TEMP.loc[ST_DATA_TEMP['COMB'] == comb, 'ALLOC'] = ALLOC\n",
    "#                     # ST_DATA_TEMP.loc[ST_DATA_TEMP['COMB'] == comb, 'ART_REQ'] -= ALLOC\n",
    "\n",
    "#                     # # Update DC_STK_TEMP\n",
    "#                     # DC_STK_TEMP.loc[DC_STK_TEMP['GEN_CLR'] == k, 'ALLOC'] += ALLOC\n",
    "#                     # DC_STK_TEMP.loc[DC_STK_TEMP['GEN_CLR'] == k, 'REV_DC_STK'] -= ALLOC\n",
    "\n",
    "#                     # MJ_MBQ.loc[MJ_MBQ['COMB'] == str(j)+str(i),'ALLOC'] += ALLOC\n",
    "#                     # MJ_MBQ.loc[MJ_MBQ['COMB'] == str(j)+str(i),'MJ_REQ'] -= ALLOC\n",
    "                    \n",
    "#                     # MC_MBQ.loc[MC_MBQ['COMB'] == str(j)+str(l),'ALLOC'] += ALLOC\n",
    "#                     # MC_MBQ.loc[MC_MBQ['COMB'] == str(j)+str(l),'MC_REQ'] -= ALLOC\n",
    "\n",
    "# if ST_DATA_NEW is None:\n",
    "#     ST_DATA_NEW = ST_DATA_TEMP\n",
    "# else:\n",
    "#     ST_DATA_NEW = pd.concat([ST_DATA_NEW,ST_DATA_TEMP],ignore_index=True)\n",
    "# if DC_DATA_NEW is None:  \n",
    "#     DC_DATA_NEW = DC_STK_TEMP\n",
    "# else:\n",
    "#     DC_DATA_NEW = pd.concat([DC_DATA_NEW,DC_STK_TEMP],ignore_index=True)\n",
    "\n",
    "# print(MC_MBQ[['MC_MBQ','MC_REV_STK','ALLOC']])\n"
   ]
  },
  {
   "cell_type": "code",
   "execution_count": 748,
   "metadata": {},
   "outputs": [],
   "source": [
    "i = CAT\n",
    "ST_DATA_TEMP = ST_DATA\n",
    "DC_STK_TEMP = DC_STK_DATA.loc[(DC_STK_DATA['REV_DC_STK']>0)].reset_index(drop=True)\n",
    "cnt=0\n",
    "gen_clr_to_merchcat = DC_STK_TEMP.set_index('GEN_CLR')['MERCHCAT'].to_dict()\n",
    "\n",
    "comb_to_artreq = ST_DATA_TEMP.groupby('COMB')['ART_REQ'].first().to_dict()\n",
    "\n",
    "\n",
    "# concatenated_combinations = {str(j) + str(k): (j, k) for j in ST_DETAILS['ST_CD'] for k in DC_STK_TEMP['GEN_CLR']}\n",
    "concatenated_combinations = {str(j) + str(k): (j, k) for j in ST_DETAILS['ST_CD'] for k in DC_STK_TEMP['GEN_CLR'] if j=='HA10'}\n",
    "\n",
    "art_req_sums = ST_DATA_TEMP.groupby('COMB')['ART_REQ'].sum().to_dict()\n",
    "rev_dc_stk_sums = DC_STK_TEMP.groupby('GEN_CLR')['REV_DC_STK'].sum().to_dict()\n",
    "mj_req_sums = MJ_MBQ.groupby('COMB')['MJ_REQ'].sum().to_dict()\n",
    "mc_req_sums = MC_MBQ.groupby('COMB')['MC_REQ'].sum().to_dict()\n",
    "for comb, (j, k) in concatenated_combinations.items():\n",
    "    l = gen_clr_to_merchcat[k]\n",
    "    ART_REQ = art_req_sums.get(str(j)+str(k), 0)\n",
    "    # print(ART_REQ)\n",
    "    if rev_dc_stk_sums.get(k) >= ART_REQ:\n",
    "        if comb_to_artreq.get(comb)>0:\n",
    "            if mj_req_sums.get(str(j)+str(i)) >= ART_REQ:\n",
    "                if (MC_MBQ.loc[MC_MBQ['COMB'] == str(j)+str(l),'MC_REQ'].sum()) >= ART_REQ:\n",
    "                    ALLOC = art_req_sums.get(comb,0)\n",
    "\n",
    "                    # Update ST_DATA_TEMP\n",
    "                    ST_DATA_TEMP.loc[ST_DATA_TEMP['COMB'] == comb, 'ALLOC'] = ALLOC\n",
    "                    ST_DATA_TEMP.loc[ST_DATA_TEMP['COMB'] == comb, 'ART_REQ'] -= ALLOC\n",
    "                    \n",
    "                    # Update DC_STK_TEMP\n",
    "                    DC_STK_TEMP.loc[DC_STK_TEMP['GEN_CLR'] == k, 'ALLOC'] += ALLOC\n",
    "                    DC_STK_TEMP.loc[DC_STK_TEMP['GEN_CLR'] == k, 'REV_DC_STK'] -= ALLOC\n",
    "\n",
    "                    MJ_MBQ.loc[MJ_MBQ['COMB'] == str(j)+str(i),'ALLOC'] += ALLOC\n",
    "                    MJ_MBQ.loc[MJ_MBQ['COMB'] == str(j)+str(i),'MJ_REQ'] -= ALLOC\n",
    "                    \n",
    "                    MC_MBQ.loc[MC_MBQ['COMB'] == str(j)+str(l),'ALLOC'] += ALLOC\n",
    "                    MC_MBQ.loc[MC_MBQ['COMB'] == str(j)+str(l),'MC_REQ'] -= ALLOC\n",
    "                \n",
    "\n",
    "if ST_DATA_NEW is None:\n",
    "    ST_DATA_NEW = ST_DATA_TEMP\n",
    "else:\n",
    "    ST_DATA_NEW = pd.concat([ST_DATA_NEW,ST_DATA_TEMP],ignore_index=True)\n",
    "if DC_DATA_NEW is None:  \n",
    "    DC_DATA_NEW = DC_STK_TEMP\n",
    "else:\n",
    "    DC_DATA_NEW = pd.concat([DC_DATA_NEW,DC_STK_TEMP],ignore_index=True)\n",
    "\n",
    "# print(MC_MBQ[['MC_MBQ','MC_REV_STK','ALLOC']])"
   ]
  },
  {
   "cell_type": "code",
   "execution_count": 746,
   "metadata": {},
   "outputs": [
    {
     "name": "stdout",
     "output_type": "stream",
     "text": [
      "           MC_MBQ  MC_REV_STK  ALLOC\n",
      "0      601.459363  285.567467      0\n",
      "1      847.737250  711.821333      0\n",
      "2     1603.039762  724.402222      0\n",
      "3        0.000000         NaN      0\n",
      "4        0.000000         NaN      0\n",
      "...           ...         ...    ...\n",
      "1027     8.173130         NaN      0\n",
      "1028    12.908389         NaN      0\n",
      "1029     0.000000         NaN      0\n",
      "1030     0.000000         NaN      0\n",
      "1031     1.231529         NaN      0\n",
      "\n",
      "[1032 rows x 3 columns]\n"
     ]
    }
   ],
   "source": [
    "print(MC_MBQ[['MC_MBQ','MC_REV_STK','ALLOC']])"
   ]
  },
  {
   "cell_type": "code",
   "execution_count": null,
   "metadata": {},
   "outputs": [],
   "source": []
  }
 ],
 "metadata": {
  "kernelspec": {
   "display_name": "Python 3",
   "language": "python",
   "name": "python3"
  },
  "language_info": {
   "codemirror_mode": {
    "name": "ipython",
    "version": 3
   },
   "file_extension": ".py",
   "mimetype": "text/x-python",
   "name": "python",
   "nbconvert_exporter": "python",
   "pygments_lexer": "ipython3",
   "version": "3.11.9"
  }
 },
 "nbformat": 4,
 "nbformat_minor": 2
}
