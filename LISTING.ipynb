{
 "cells": [
  {
   "cell_type": "code",
   "execution_count": 64,
   "id": "2864add4",
   "metadata": {},
   "outputs": [],
   "source": [
    "import warnings\n",
    "warnings.filterwarnings(\"ignore\")"
   ]
  },
  {
   "cell_type": "code",
   "execution_count": 65,
   "id": "3f67cd7b",
   "metadata": {},
   "outputs": [],
   "source": [
    "import pandas as pd\n",
    "import time\n",
    "start_time = time.time()\n"
   ]
  },
  {
   "cell_type": "markdown",
   "id": "e9bd3b1e",
   "metadata": {},
   "source": [
    "1. Reading DAta from files"
   ]
  },
  {
   "cell_type": "code",
   "execution_count": 66,
   "id": "bd959a2b",
   "metadata": {},
   "outputs": [],
   "source": [
    "ST_DETAILS = pd.read_csv('ST_DETAILS.csv',skip_blank_lines=True)\n",
    "MAJCAT_LIST = pd.read_csv('MAJCAT_LIST.csv',skip_blank_lines=True)\n",
    "ST_L_DETAILS = pd.read_csv('ST_L_DETAILS.csv',skip_blank_lines=True)\n",
    "BGT_MAJCAT_I = pd.read_csv('BGT_MAJCAT.csv',skip_blank_lines=True)\n",
    "BGT_MERCHCAT_I = pd.read_csv('BGT_MERCHCAT.csv',skip_blank_lines=True)\n",
    "ST_STK_I = pd.read_csv('ST_STK.csv',skip_blank_lines=True)\n",
    "DC_STK_I = pd.read_csv('DC_STK.csv',skip_blank_lines=True)\n",
    "MC_AUTO_ART_I = pd.read_csv('MC_AUTO_ART.csv',skip_blank_lines=True)\n",
    "MC_BODY_CONT_I = pd.read_csv('MC_BODY_CONT.csv',skip_blank_lines=True)\n",
    "MC_CLR_CONT_I = pd.read_csv('MC_CLR_CONT.csv',skip_blank_lines=True)\n",
    "MC_FABRIC_CONT_I = pd.read_csv('MC_FABRIC_CONT.csv',skip_blank_lines=True)\n",
    "MC_M_MVGR_CONT_I = pd.read_csv('MC_M_MVGR_CONT.csv',skip_blank_lines=True)\n",
    "MC_MVGR_CONT_I = pd.read_csv('MC_MVGR_CONT.csv',skip_blank_lines=True)\n",
    "MC_SEG_CONT_I = pd.read_csv('MC_SEG_CONT.csv',skip_blank_lines=True)\n",
    "MC_VEND_CONT_I = pd.read_csv('MC_VEND_CONT.csv',skip_blank_lines=True)\n",
    "ST_OPT_I = pd.read_csv('ST_OPT.csv',skip_blank_lines=True)\n",
    "OPT_DISP_Q_I = pd.read_csv('OPT_DISP_Q.csv',skip_blank_lines=True)\n",
    "ST_OPT_DISP_Q_I = pd.read_csv('ST_OPT_DISP_Q.csv',skip_blank_lines=True)\n",
    "ST_MC_CONS_I = pd.read_csv('ST_MC_CONS.csv',skip_blank_lines=True)\n",
    "ST_SSN_CONS_I = pd.read_csv('ST_SSN_CONS.csv',skip_blank_lines=True)"
   ]
  },
  {
   "cell_type": "markdown",
   "id": "0d2505c9",
   "metadata": {},
   "source": [
    "2. Filtering rows on the basis of MAJCAT"
   ]
  },
  {
   "cell_type": "code",
   "execution_count": 67,
   "id": "d40b356a-47b8-4aa4-ad08-82207b7aea6d",
   "metadata": {},
   "outputs": [],
   "source": [
    "CAT = \"M_JEANS\"\n",
    "# print(BGT_MAJCAT_I[BGT_MAJCAT_I['MAJCAT']==CAT].reset_index(drop=True).columns.to_list())\n",
    "BGT_MAJCAT = BGT_MAJCAT_I[BGT_MAJCAT_I['MAJCAT']==CAT].reset_index(drop=True)\n",
    "BGT_MERCHCAT = BGT_MERCHCAT_I[BGT_MERCHCAT_I['MAJCAT']==CAT].reset_index(drop=True)\n",
    "ST_STK = ST_STK_I[ST_STK_I['MAJCAT']==CAT].reset_index(drop=True)\n",
    "DC_STK = DC_STK_I[DC_STK_I['MAJCAT']==CAT].reset_index(drop=True)\n",
    "MC_AUTO_ART = MC_AUTO_ART_I[MC_AUTO_ART_I['MAJCAT']==CAT].reset_index(drop=True)\n",
    "MC_BODY_CONT = MC_BODY_CONT_I[MC_BODY_CONT_I['MAJCAT']==CAT].reset_index(drop=True)\n",
    "MC_CLR_CONT = MC_CLR_CONT_I[MC_CLR_CONT_I['MAJCAT']==CAT].reset_index(drop=True)\n",
    "MC_FABRIC_CONT = MC_FABRIC_CONT_I[MC_FABRIC_CONT_I['MAJCAT']==CAT].reset_index(drop=True)\n",
    "MC_M_MVGR_CONT = MC_M_MVGR_CONT_I[MC_M_MVGR_CONT_I['MAJCAT']==CAT].reset_index(drop=True)\n",
    "MC_MVGR_CONT = MC_MVGR_CONT_I[MC_MVGR_CONT_I['MAJCAT']==CAT].reset_index(drop=True)\n",
    "MC_SEG_CONT = MC_SEG_CONT_I[MC_SEG_CONT_I['MAJCAT']==CAT].reset_index(drop=True)\n",
    "MC_VEND_CONT = MC_VEND_CONT_I[MC_VEND_CONT_I['MAJCAT']==CAT].reset_index(drop=True)\n",
    "ST_OPT = ST_OPT_I[ST_OPT_I['MAJCAT']==CAT].reset_index(drop=True)\n",
    "OPT_DISP_Q = OPT_DISP_Q_I[OPT_DISP_Q_I['MAJCAT']==CAT].reset_index(drop=True)\n",
    "ST_OPT_DISP_Q = ST_OPT_DISP_Q_I[ST_OPT_DISP_Q_I['MAJCAT']==CAT].reset_index(drop=True)\n",
    "ST_MC_CONS = ST_MC_CONS_I[ST_MC_CONS_I['MAJCAT']==CAT].reset_index(drop=True)\n",
    "# ST_SSN_CONS = ST_SSN_CONS_I[ST_SSN_CONS_I['MAJCAT']==CAT].reset_index(drop=True)"
   ]
  },
  {
   "cell_type": "code",
   "execution_count": 68,
   "id": "0582784f-719e-4b54-84de-5bcfe891ee59",
   "metadata": {},
   "outputs": [],
   "source": [
    "# converting column to object\n",
    "ST_OPT_DISP_Q['ST_CD']=ST_OPT_DISP_Q['ST_CD'].astype(object)\n",
    "ST_DETAILS = ST_DETAILS.sort_values(by='PRIORITY_LIST', ascending=True)"
   ]
  },
  {
   "cell_type": "code",
   "execution_count": 69,
   "id": "8ebd173e-29e1-4822-a577-1c48fca58b08",
   "metadata": {},
   "outputs": [],
   "source": [
    "MERCHCAT_MBQ = BGT_MERCHCAT\n",
    "MAJCAT_MBQ = BGT_MAJCAT\n",
    "\n",
    "MAJCAT_MBQ = pd.merge(MAJCAT_MBQ, ST_DETAILS, how=\"left\",on=[\"ST_CD\"],suffixes=('_left', '_right'))\n",
    "# print(MAJCAT_MBQ.columns.to_list())\n",
    "MERCHCAT_MBQ = pd.merge(MERCHCAT_MBQ, ST_DETAILS, how=\"left\",on=[\"ST_CD\"],suffixes=('_left', '_right'))\n",
    "MERCHCAT_MBQ = pd.merge(MERCHCAT_MBQ, ST_L_DETAILS, how=\"left\",on=[\"ST_CD\"],suffixes=('_left', '_right'))\n",
    "MERCHCAT_MBQ = pd.merge(MERCHCAT_MBQ, OPT_DISP_Q, how=\"left\",on=[\"MERCHCAT\"],suffixes=('_left', '_right'))\n",
    "MERCHCAT_MBQ = pd.merge(MERCHCAT_MBQ, ST_OPT_DISP_Q, how=\"left\",on=[\"ST_CD\",\"MERCHCAT\"],suffixes=('_left', '_right'))"
   ]
  },
  {
   "cell_type": "code",
   "execution_count": 70,
   "id": "cb98ef5e-aa2e-4283-bc62-db7c5026f2f2",
   "metadata": {
    "scrolled": true
   },
   "outputs": [],
   "source": [
    "#MAJCAT ALLOC MBQ\n",
    "# print(MAJCAT_MBQ['REV_MJ_SALES_PD_1'])\n",
    "MAJCAT_MBQ['REV_MJ_SALES_PD_1'] = MAJCAT_MBQ.apply(lambda x: (x['SALES_Q_1']*x['CM_RMN_SALES_CONS']+x['SALES_Q_2']*x['NM_RMN_SALES_CONS'])\n",
    "                                                                           *(1/x['BGT_DAYS']), axis=1)\n",
    "MAJCAT_MBQ['MJ_MBQ_A'] = MAJCAT_MBQ.apply(lambda x: x['LISTING_M_1']*(x['ALLOC_DISP']+(x['REV_MJ_SALES_PD_1']*x['ALLOC_DAY_COVER']))\n",
    "                                               , axis=1)\n",
    "#MAJCAT MTH-1 REV-MBQ\n",
    "MAJCAT_MBQ['MJ_MBQ_30_1'] = MAJCAT_MBQ.apply(lambda x: x['LISTING_M_1']*(x['DISP_Q_1']+(x['REV_MJ_SALES_PD_1']*x['BGT_DAYS']))\n",
    "                                               , axis=1)\n",
    "#MAJCAT MTH-1 RMN PD SALES\n",
    "MAJCAT_MBQ['REM_SALES_1'] = MAJCAT_MBQ.apply(lambda x: (x['SALES_Q_1']*x['CM_RMN_SALES_CONS'])\n",
    "                                                                           *(1/x['RMN_BGT_DAYS']), axis=1)\n",
    "#MAJCAT 30-MBQ QTY\n",
    "MAJCAT_MBQ['MJ_MBQ_30_2'] = MAJCAT_MBQ.apply(lambda x: x['LISTING_M_2']*(x['DISP_Q_2']+x['SALES_Q_2']), axis=1)\n",
    "MAJCAT_MBQ['MJ_MBQ_30_3'] = MAJCAT_MBQ.apply(lambda x: x['LISTING_M_3']*(x['DISP_Q_3']+x['SALES_Q_3']), axis=1)\n",
    "MAJCAT_MBQ['MJ_MBQ_30_4'] = MAJCAT_MBQ.apply(lambda x: x['LISTING_M_4']*(x['DISP_Q_4']+x['SALES_Q_4']), axis=1)\n",
    "MAJCAT_MBQ['MJ_MBQ_30_5'] = MAJCAT_MBQ.apply(lambda x: x['LISTING_M_5']*(x['DISP_Q_5']+x['SALES_Q_5']), axis=1)\n",
    "MAJCAT_MBQ['MJ_MBQ_30_6'] = MAJCAT_MBQ.apply(lambda x: x['LISTING_M_6']*(x['DISP_Q_6']+x['SALES_Q_6']), axis=1)\n",
    "MAJCAT_MBQ['MJ_MBQ_30_7'] = MAJCAT_MBQ.apply(lambda x: x['LISTING_M_7']*(x['DISP_Q_7']+x['SALES_Q_7']), axis=1)\n",
    "MAJCAT_MBQ['MJ_MBQ_30_8'] = MAJCAT_MBQ.apply(lambda x: x['LISTING_M_8']*(x['DISP_Q_8']+x['SALES_Q_8']), axis=1)\n",
    "MAJCAT_MBQ['MJ_MBQ_30_9'] = MAJCAT_MBQ.apply(lambda x: x['LISTING_M_9']*(x['DISP_Q_9']+x['SALES_Q_9']), axis=1)\n",
    "MAJCAT_MBQ['MJ_MBQ_30_10'] = MAJCAT_MBQ.apply(lambda x: x['LISTING_M_10']*(x['DISP_Q_10']+x['SALES_Q_10']), axis=1)\n",
    "MAJCAT_MBQ['MJ_MBQ_30_11'] = MAJCAT_MBQ.apply(lambda x: x['LISTING_M_11']*(x['DISP_Q_11']+x['SALES_Q_11']), axis=1)\n",
    "MAJCAT_MBQ['MJ_MBQ_30_12'] = MAJCAT_MBQ.apply(lambda x: x['LISTING_M_12']*(x['DISP_Q_12']+x['SALES_Q_12']), axis=1)"
   ]
  },
  {
   "cell_type": "code",
   "execution_count": 71,
   "id": "38d86544-1900-4781-92ff-31ebadd571d1",
   "metadata": {},
   "outputs": [],
   "source": [
    "MERCHCAT_MBQ['F_OPT_DISP_Q_1'] = MERCHCAT_MBQ.apply(lambda x: \n",
    "                                                    x['ST_OPT_DISP_Q_1'] if x['ST_OPT_DISP_Q_1']+0>0\n",
    "                                                        else x['OPT_DISP_Q_1'], axis=1)\n",
    "MERCHCAT_MBQ['F_OPT_DISP_Q_2'] = MERCHCAT_MBQ.apply(lambda x: \n",
    "                                                    x['ST_OPT_DISP_Q_2'] if x['ST_OPT_DISP_Q_2']+0>0\n",
    "                                                        else x['OPT_DISP_Q_2'], axis=1)\n",
    "MERCHCAT_MBQ['F_OPT_DISP_Q_3'] = MERCHCAT_MBQ.apply(lambda x: \n",
    "                                                    x['ST_OPT_DISP_Q_3'] if x['ST_OPT_DISP_Q_3']+0>0\n",
    "                                                        else x['OPT_DISP_Q_3'], axis=1)\n",
    "MERCHCAT_MBQ['F_OPT_DISP_Q_4'] = MERCHCAT_MBQ.apply(lambda x: \n",
    "                                                    x['ST_OPT_DISP_Q_4'] if x['ST_OPT_DISP_Q_4']+0>0\n",
    "                                                        else x['OPT_DISP_Q_4'], axis=1)\n",
    "MERCHCAT_MBQ['F_OPT_DISP_Q_5'] = MERCHCAT_MBQ.apply(lambda x: \n",
    "                                                    x['ST_OPT_DISP_Q_5'] if x['ST_OPT_DISP_Q_5']+0>0\n",
    "                                                        else x['OPT_DISP_Q_5'], axis=1)\n",
    "MERCHCAT_MBQ['F_OPT_DISP_Q_6'] = MERCHCAT_MBQ.apply(lambda x: \n",
    "                                                    x['ST_OPT_DISP_Q_6'] if x['ST_OPT_DISP_Q_6']+0>0\n",
    "                                                        else x['OPT_DISP_Q_6'], axis=1)\n",
    "MERCHCAT_MBQ['F_OPT_DISP_Q_7'] = MERCHCAT_MBQ.apply(lambda x: \n",
    "                                                    x['ST_OPT_DISP_Q_7'] if x['ST_OPT_DISP_Q_7']+0>0\n",
    "                                                        else x['OPT_DISP_Q_7'], axis=1)\n",
    "MERCHCAT_MBQ['F_OPT_DISP_Q_8'] = MERCHCAT_MBQ.apply(lambda x: \n",
    "                                                    x['ST_OPT_DISP_Q_8'] if x['ST_OPT_DISP_Q_8']+0>0\n",
    "                                                        else x['OPT_DISP_Q_8'], axis=1)\n",
    "MERCHCAT_MBQ['F_OPT_DISP_Q_9'] = MERCHCAT_MBQ.apply(lambda x: \n",
    "                                                    x['ST_OPT_DISP_Q_9'] if x['ST_OPT_DISP_Q_9']+0>0\n",
    "                                                        else x['OPT_DISP_Q_9'], axis=1)\n",
    "MERCHCAT_MBQ['F_OPT_DISP_Q_10'] = MERCHCAT_MBQ.apply(lambda x: \n",
    "                                                    x['ST_OPT_DISP_Q_10'] if x['ST_OPT_DISP_Q_10']+0>0\n",
    "                                                        else x['OPT_DISP_Q_10'], axis=1)\n",
    "MERCHCAT_MBQ['F_OPT_DISP_Q_11'] = MERCHCAT_MBQ.apply(lambda x: \n",
    "                                                    x['ST_OPT_DISP_Q_11'] if x['ST_OPT_DISP_Q_11']+0>0\n",
    "                                                        else x['OPT_DISP_Q_11'], axis=1)\n",
    "MERCHCAT_MBQ['F_OPT_DISP_Q_12'] = MERCHCAT_MBQ.apply(lambda x: \n",
    "                                                    x['ST_OPT_DISP_Q_12'] if x['ST_OPT_DISP_Q_12']+0>0\n",
    "                                                        else x['OPT_DISP_Q_12'], axis=1)\n",
    "# print(MERCHCAT_MBQ[f'F_OPT_DISP_Q_2'])\n"
   ]
  },
  {
   "cell_type": "code",
   "execution_count": 72,
   "id": "03df4aa9-cd45-4963-a5c7-3b34ec8f0f61",
   "metadata": {},
   "outputs": [],
   "source": [
    "#OPT_CNT FINALISATION\n",
    "MERCHCAT_MBQ['OPT_CNT_A'] = MERCHCAT_MBQ.apply(lambda x: \n",
    "                                               round(x['ALLOC_DISP']/x['F_OPT_DISP_Q_1']) if (x['ALLOC_DISP']/x['F_OPT_DISP_Q_1'])+0>0\n",
    "                                               else 0, axis=1)\n",
    "MERCHCAT_MBQ['OPT_CNT_1'] = MERCHCAT_MBQ.apply(lambda x: \n",
    "                                               round(x['DISP_Q_1']/x['F_OPT_DISP_Q_1']) if (x['DISP_Q_1']/x['F_OPT_DISP_Q_1'])+0>0\n",
    "                                               else 0, axis=1)\n",
    "MERCHCAT_MBQ['OPT_CNT_2'] = MERCHCAT_MBQ.apply(lambda x: \n",
    "                                               round(x['DISP_Q_2']/x['F_OPT_DISP_Q_2']) if (x['DISP_Q_2']/x['F_OPT_DISP_Q_2'])+0>0\n",
    "                                               else 0, axis=1)\n",
    "MERCHCAT_MBQ['OPT_CNT_3'] = MERCHCAT_MBQ.apply(lambda x: \n",
    "                                               round(x['DISP_Q_3']/x['F_OPT_DISP_Q_3']) if (x['DISP_Q_3']/x['F_OPT_DISP_Q_3'])+0>0\n",
    "                                               else 0, axis=1)\n",
    "MERCHCAT_MBQ['OPT_CNT_4'] = MERCHCAT_MBQ.apply(lambda x: \n",
    "                                               round(x['DISP_Q_4']/x['F_OPT_DISP_Q_4']) if (x['DISP_Q_4']/x['F_OPT_DISP_Q_4'])+0>0\n",
    "                                               else 0, axis=1)\n",
    "MERCHCAT_MBQ['OPT_CNT_5'] = MERCHCAT_MBQ.apply(lambda x: \n",
    "                                               round(x['DISP_Q_5']/x['F_OPT_DISP_Q_5']) if (x['DISP_Q_5']/x['F_OPT_DISP_Q_5'])+0>0\n",
    "                                               else 0, axis=1)\n",
    "MERCHCAT_MBQ['OPT_CNT_6'] = MERCHCAT_MBQ.apply(lambda x: \n",
    "                                               round(x['DISP_Q_6']/x['F_OPT_DISP_Q_6']) if (x['DISP_Q_6']/x['F_OPT_DISP_Q_6'])+0>0\n",
    "                                               else 0, axis=1)\n",
    "MERCHCAT_MBQ['OPT_CNT_7'] = MERCHCAT_MBQ.apply(lambda x: \n",
    "                                               round(x['DISP_Q_7']/x['F_OPT_DISP_Q_7']) if (x['DISP_Q_7']/x['F_OPT_DISP_Q_7'])+0>0\n",
    "                                               else 0, axis=1)\n",
    "MERCHCAT_MBQ['OPT_CNT_8'] = MERCHCAT_MBQ.apply(lambda x: \n",
    "                                               round(x['DISP_Q_8']/x['F_OPT_DISP_Q_8']) if (x['DISP_Q_8']/x['F_OPT_DISP_Q_8'])+0>0\n",
    "                                               else 0, axis=1)\n",
    "MERCHCAT_MBQ['OPT_CNT_9'] = MERCHCAT_MBQ.apply(lambda x: \n",
    "                                               round(x['DISP_Q_9']/x['F_OPT_DISP_Q_9']) if (x['DISP_Q_9']/x['F_OPT_DISP_Q_9'])+0>0\n",
    "                                               else 0, axis=1)\n",
    "MERCHCAT_MBQ['OPT_CNT_10'] = MERCHCAT_MBQ.apply(lambda x: \n",
    "                                               round(x['DISP_Q_10']/x['F_OPT_DISP_Q_10']) if (x['DISP_Q_10']/x['F_OPT_DISP_Q_10'])+0>0\n",
    "                                               else 0, axis=1)\n",
    "MERCHCAT_MBQ['OPT_CNT_11'] = MERCHCAT_MBQ.apply(lambda x: \n",
    "                                               round(x['DISP_Q_11']/x['F_OPT_DISP_Q_11']) if (x['DISP_Q_11']/x['F_OPT_DISP_Q_11'])+0>0\n",
    "                                               else 0, axis=1)\n",
    "MERCHCAT_MBQ['OPT_CNT_12'] = MERCHCAT_MBQ.apply(lambda x: \n",
    "                                               round(x['DISP_Q_12']/x['F_OPT_DISP_Q_12']) if (x['DISP_Q_12']/x['F_OPT_DISP_Q_12'])+0>0\n",
    "                                               else 0, axis=1)"
   ]
  },
  {
   "cell_type": "code",
   "execution_count": 73,
   "id": "fdf8ac72-fafc-4179-8b4d-b5b00bd51363",
   "metadata": {},
   "outputs": [],
   "source": [
    "#OPTION SALES QTY\n",
    "MERCHCAT_MBQ['OPT_SALES_A'] = MERCHCAT_MBQ.apply(lambda x: \n",
    "                                               0 if x['SALES_Q_1']+0==0 else 0 if x['OPT_CNT_A']+0==0\n",
    "                                               else round(x['SALES_Q_1']/x['OPT_CNT_A'],2), axis=1)\n",
    "MERCHCAT_MBQ['OPT_SALES_1'] = MERCHCAT_MBQ.apply(lambda x: \n",
    "                                               0 if x['SALES_Q_1']+0==0 else 0 if x['OPT_CNT_1']+0==0\n",
    "                                               else round(x['SALES_Q_1']/x['OPT_CNT_1'],2), axis=1)\n",
    "MERCHCAT_MBQ['OPT_SALES_2'] = MERCHCAT_MBQ.apply(lambda x: \n",
    "                                               0 if x['SALES_Q_2']+0==0 else 0 if x['OPT_CNT_2']+0==0\n",
    "                                               else round(x['SALES_Q_2']/x['OPT_CNT_2'],2), axis=1)\n",
    "MERCHCAT_MBQ['OPT_SALES_3'] = MERCHCAT_MBQ.apply(lambda x: \n",
    "                                               0 if x['SALES_Q_3']+0==0 else 0 if x['OPT_CNT_3']+0==0\n",
    "                                               else round(x['SALES_Q_3']/x['OPT_CNT_3'],2), axis=1)\n",
    "MERCHCAT_MBQ['OPT_SALES_4'] = MERCHCAT_MBQ.apply(lambda x: \n",
    "                                               0 if x['SALES_Q_4']+0==0 else 0 if x['OPT_CNT_4']+0==0\n",
    "                                               else round(x['SALES_Q_4']/x['OPT_CNT_4'],2), axis=1)\n",
    "MERCHCAT_MBQ['OPT_SALES_5'] = MERCHCAT_MBQ.apply(lambda x: \n",
    "                                               0 if x['SALES_Q_5']+0==0 else 0 if x['OPT_CNT_5']+0==0\n",
    "                                               else round(x['SALES_Q_5']/x['OPT_CNT_5'],2), axis=1)\n",
    "MERCHCAT_MBQ['OPT_SALES_6'] = MERCHCAT_MBQ.apply(lambda x: \n",
    "                                               0 if x['SALES_Q_6']+0==0 else 0 if x['OPT_CNT_6']+0==0\n",
    "                                               else round(x['SALES_Q_6']/x['OPT_CNT_6'],2), axis=1)\n",
    "MERCHCAT_MBQ['OPT_SALES_7'] = MERCHCAT_MBQ.apply(lambda x: \n",
    "                                               0 if x['SALES_Q_7']+0==0 else 0 if x['OPT_CNT_7']+0==0\n",
    "                                               else round(x['SALES_Q_7']/x['OPT_CNT_7'],2), axis=1)\n",
    "MERCHCAT_MBQ['OPT_SALES_8'] = MERCHCAT_MBQ.apply(lambda x: \n",
    "                                               0 if x['SALES_Q_8']+0==0 else 0 if x['OPT_CNT_8']+0==0\n",
    "                                               else round(x['SALES_Q_8']/x['OPT_CNT_8'],2), axis=1)\n",
    "MERCHCAT_MBQ['OPT_SALES_9'] = MERCHCAT_MBQ.apply(lambda x: \n",
    "                                               0 if x['SALES_Q_9']+0==0 else 0 if x['OPT_CNT_9']+0==0\n",
    "                                               else round(x['SALES_Q_9']/x['OPT_CNT_9'],2), axis=1)\n",
    "MERCHCAT_MBQ['OPT_SALES_10'] = MERCHCAT_MBQ.apply(lambda x: \n",
    "                                               0 if x['SALES_Q_10']+0==0 else 0 if x['OPT_CNT_10']+0==0\n",
    "                                               else round(x['SALES_Q_10']/x['OPT_CNT_10'],2), axis=1)\n",
    "MERCHCAT_MBQ['OPT_SALES_11'] = MERCHCAT_MBQ.apply(lambda x: \n",
    "                                               0 if x['SALES_Q_11']+0==0 else 0 if x['OPT_CNT_11']+0==0\n",
    "                                               else round(x['SALES_Q_11']/x['OPT_CNT_11'],2), axis=1)\n",
    "MERCHCAT_MBQ['OPT_SALES_12'] = MERCHCAT_MBQ.apply(lambda x: \n",
    "                                               0 if x['SALES_Q_12']+0==0 else 0 if x['OPT_CNT_12']+0==0\n",
    "                                               else round(x['SALES_Q_12']/x['OPT_CNT_12'],2), axis=1)\n"
   ]
  },
  {
   "cell_type": "code",
   "execution_count": 74,
   "id": "b9c3f9d6-f120-45b2-8314-0e9b8a5e2c19",
   "metadata": {},
   "outputs": [],
   "source": [
    "#ALLOC MBQ\n",
    "MERCHCAT_MBQ['REV_OPT_SALES_PD_A'] = MERCHCAT_MBQ.apply(lambda x: (x['OPT_SALES_A']*x['CM_RMN_SALES_CONS']+x['OPT_SALES_2']*x['NM_RMN_SALES_CONS'])\n",
    "                                                                           *(1/x['BGT_DAYS']), axis=1)\n",
    "MERCHCAT_MBQ['OPT_MBQ_A'] = MERCHCAT_MBQ.apply(lambda x: x['LISTING_M_1']*(x['F_OPT_DISP_Q_1']+(x['REV_OPT_SALES_PD_A']*x['ALLOC_DAY_COVER']))\n",
    "                                               , axis=1)\n",
    "#MTH-1 REV-MBQ\n",
    "MERCHCAT_MBQ['REV_OPT_SALES_PD_1'] = MERCHCAT_MBQ.apply(lambda x: (x['OPT_SALES_1']*x['CM_RMN_SALES_CONS']+x['OPT_SALES_2']*x['NM_RMN_SALES_CONS'])\n",
    "                                                                           *(1/x['BGT_DAYS']), axis=1)\n",
    "MERCHCAT_MBQ['OPT_MBQ_30_1'] = MERCHCAT_MBQ.apply(lambda x: x['LISTING_M_1']*(x['F_OPT_DISP_Q_1']+(x['REV_OPT_SALES_PD_1']*x['BGT_DAYS']))\n",
    "                                               , axis=1)\n",
    "#MTH-1 RMN PD SALES\n",
    "MERCHCAT_MBQ['REM_OPT_SALES_PD_1'] = MERCHCAT_MBQ.apply(lambda x: (x['OPT_SALES_1']*x['CM_RMN_SALES_CONS'])\n",
    "                                                                           *(1/x['RMN_BGT_DAYS']), axis=1)\n"
   ]
  },
  {
   "cell_type": "code",
   "execution_count": 75,
   "id": "bae43664-4f19-476b-bf91-4f120869fd86",
   "metadata": {},
   "outputs": [],
   "source": [
    "#OPTION 30-MBQ QTY\n",
    "MERCHCAT_MBQ['OPT_MBQ_30_2'] = MERCHCAT_MBQ.apply(lambda x: x['LISTING_M_2']*(x['F_OPT_DISP_Q_2']+x['OPT_SALES_2']), axis=1)\n",
    "MERCHCAT_MBQ['OPT_MBQ_30_3'] = MERCHCAT_MBQ.apply(lambda x: x['LISTING_M_3']*(x['F_OPT_DISP_Q_3']+x['OPT_SALES_3']), axis=1)\n",
    "MERCHCAT_MBQ['OPT_MBQ_30_4'] = MERCHCAT_MBQ.apply(lambda x: x['LISTING_M_4']*(x['F_OPT_DISP_Q_4']+x['OPT_SALES_4']), axis=1)\n",
    "MERCHCAT_MBQ['OPT_MBQ_30_5'] = MERCHCAT_MBQ.apply(lambda x: x['LISTING_M_5']*(x['F_OPT_DISP_Q_5']+x['OPT_SALES_5']), axis=1)\n",
    "MERCHCAT_MBQ['OPT_MBQ_30_6'] = MERCHCAT_MBQ.apply(lambda x: x['LISTING_M_6']*(x['F_OPT_DISP_Q_6']+x['OPT_SALES_6']), axis=1)\n",
    "MERCHCAT_MBQ['OPT_MBQ_30_7'] = MERCHCAT_MBQ.apply(lambda x: x['LISTING_M_7']*(x['F_OPT_DISP_Q_7']+x['OPT_SALES_7']), axis=1)\n",
    "MERCHCAT_MBQ['OPT_MBQ_30_8'] = MERCHCAT_MBQ.apply(lambda x: x['LISTING_M_8']*(x['F_OPT_DISP_Q_8']+x['OPT_SALES_8']), axis=1)\n",
    "MERCHCAT_MBQ['OPT_MBQ_30_9'] = MERCHCAT_MBQ.apply(lambda x: x['LISTING_M_9']*(x['F_OPT_DISP_Q_9']+x['OPT_SALES_9']), axis=1)\n",
    "MERCHCAT_MBQ['OPT_MBQ_30_10'] = MERCHCAT_MBQ.apply(lambda x: x['LISTING_M_10']*(x['F_OPT_DISP_Q_10']+x['OPT_SALES_10']), axis=1)\n",
    "MERCHCAT_MBQ['OPT_MBQ_30_11'] = MERCHCAT_MBQ.apply(lambda x: x['LISTING_M_11']*(x['F_OPT_DISP_Q_11']+x['OPT_SALES_11']), axis=1)\n",
    "MERCHCAT_MBQ['OPT_MBQ_30_12'] = MERCHCAT_MBQ.apply(lambda x: x['LISTING_M_12']*(x['F_OPT_DISP_Q_12']+x['OPT_SALES_12']), axis=1)"
   ]
  },
  {
   "cell_type": "code",
   "execution_count": 76,
   "id": "f843dcef",
   "metadata": {},
   "outputs": [],
   "source": [
    "#OPTION L1-MBQ QTY\n",
    "MERCHCAT_MBQ['OPT_MBQ_L1_A'] = MERCHCAT_MBQ.apply(lambda x: x['LISTING_M_1']*(x['F_OPT_DISP_Q_1']+(x['REV_OPT_SALES_PD_A']*x['L1_SALES_COVER'])), axis=1)\n",
    "MERCHCAT_MBQ['OPT_MBQ_L1_1'] = MERCHCAT_MBQ.apply(lambda x: x['LISTING_M_1']*(x['F_OPT_DISP_Q_1']+(x['REV_OPT_SALES_PD_1']*x['L1_SALES_COVER'])), axis=1)\n",
    "MERCHCAT_MBQ['OPT_MBQ_L1_2'] = MERCHCAT_MBQ.apply(lambda x: x['LISTING_M_2']*(x['F_OPT_DISP_Q_2']+x['OPT_SALES_2']*(x['L1_SALES_COVER']/30)), axis=1)\n",
    "MERCHCAT_MBQ['OPT_MBQ_L1_3'] = MERCHCAT_MBQ.apply(lambda x: x['LISTING_M_3']*(x['F_OPT_DISP_Q_3']+x['OPT_SALES_3']*(x['L1_SALES_COVER']/30)), axis=1)\n",
    "MERCHCAT_MBQ['OPT_MBQ_L1_4'] = MERCHCAT_MBQ.apply(lambda x: x['LISTING_M_4']*(x['F_OPT_DISP_Q_4']+x['OPT_SALES_4']*(x['L1_SALES_COVER']/30)), axis=1)\n",
    "MERCHCAT_MBQ['OPT_MBQ_L1_5'] = MERCHCAT_MBQ.apply(lambda x: x['LISTING_M_5']*(x['F_OPT_DISP_Q_5']+x['OPT_SALES_5']*(x['L1_SALES_COVER']/30)), axis=1)\n",
    "MERCHCAT_MBQ['OPT_MBQ_L1_6'] = MERCHCAT_MBQ.apply(lambda x: x['LISTING_M_6']*(x['F_OPT_DISP_Q_6']+x['OPT_SALES_6']*(x['L1_SALES_COVER']/30)), axis=1)\n",
    "MERCHCAT_MBQ['OPT_MBQ_L1_7'] = MERCHCAT_MBQ.apply(lambda x: x['LISTING_M_7']*(x['F_OPT_DISP_Q_7']+x['OPT_SALES_7']*(x['L1_SALES_COVER']/30)), axis=1)\n",
    "MERCHCAT_MBQ['OPT_MBQ_L1_8'] = MERCHCAT_MBQ.apply(lambda x: x['LISTING_M_8']*(x['F_OPT_DISP_Q_8']+x['OPT_SALES_8']*(x['L1_SALES_COVER']/30)), axis=1)\n",
    "MERCHCAT_MBQ['OPT_MBQ_L1_9'] = MERCHCAT_MBQ.apply(lambda x: x['LISTING_M_9']*(x['F_OPT_DISP_Q_9']+x['OPT_SALES_9']*(x['L1_SALES_COVER']/30)), axis=1)\n",
    "MERCHCAT_MBQ['OPT_MBQ_L1_10'] = MERCHCAT_MBQ.apply(lambda x: x['LISTING_M_10']*(x['F_OPT_DISP_Q_10']+x['OPT_SALES_10']*(x['L1_SALES_COVER']/30)), axis=1)\n",
    "MERCHCAT_MBQ['OPT_MBQ_L1_11'] = MERCHCAT_MBQ.apply(lambda x: x['LISTING_M_11']*(x['F_OPT_DISP_Q_11']+x['OPT_SALES_11']*(x['L1_SALES_COVER']/30)), axis=1)\n",
    "MERCHCAT_MBQ['OPT_MBQ_L1_12'] = MERCHCAT_MBQ.apply(lambda x: x['LISTING_M_12']*(x['F_OPT_DISP_Q_12']+x['OPT_SALES_12']*(x['L1_SALES_COVER']/30)), axis=1)"
   ]
  },
  {
   "cell_type": "code",
   "execution_count": 77,
   "id": "cfd86dc7",
   "metadata": {},
   "outputs": [],
   "source": [
    "#L-OPTION 30-MBQ QTY\n",
    "MERCHCAT_MBQ['OPT_MBQ_30_A'] = MERCHCAT_MBQ.apply(lambda x: x['LISTING_M_1']*(x['F_OPT_DISP_Q_1']+(x['REV_OPT_SALES_PD_A']*x['ALLOC_DAY_COVER']*x['L_OPT_SALES_GR_M_1']))\n",
    "                                               , axis=1)\n",
    "MERCHCAT_MBQ['OPT_MBQ_30_1'] = MERCHCAT_MBQ.apply(lambda x: x['LISTING_M_1']*(x['F_OPT_DISP_Q_1']+(x['REV_OPT_SALES_PD_1']*x['BGT_DAYS']*x['L_OPT_SALES_GR_M_1']))\n",
    "                                               , axis=1)\n",
    "MERCHCAT_MBQ['OPT_MBQ_30_2'] = MERCHCAT_MBQ.apply(lambda x: x['LISTING_M_2']*(x['F_OPT_DISP_Q_2']+x['OPT_SALES_2']*x['L_OPT_SALES_GR_M_2']), axis=1)\n",
    "MERCHCAT_MBQ['OPT_MBQ_30_3'] = MERCHCAT_MBQ.apply(lambda x: x['LISTING_M_3']*(x['F_OPT_DISP_Q_3']+x['OPT_SALES_3']*x['L_OPT_SALES_GR_M_3']), axis=1)\n",
    "MERCHCAT_MBQ['OPT_MBQ_30_4'] = MERCHCAT_MBQ.apply(lambda x: x['LISTING_M_4']*(x['F_OPT_DISP_Q_4']+x['OPT_SALES_4']*x['L_OPT_SALES_GR_M_4']), axis=1)\n",
    "MERCHCAT_MBQ['OPT_MBQ_30_5'] = MERCHCAT_MBQ.apply(lambda x: x['LISTING_M_5']*(x['F_OPT_DISP_Q_5']+x['OPT_SALES_5']*x['L_OPT_SALES_GR_M_5']), axis=1)\n",
    "MERCHCAT_MBQ['OPT_MBQ_30_6'] = MERCHCAT_MBQ.apply(lambda x: x['LISTING_M_6']*(x['F_OPT_DISP_Q_6']+x['OPT_SALES_6']*x['L_OPT_SALES_GR_M_6']), axis=1)\n",
    "MERCHCAT_MBQ['OPT_MBQ_30_7'] = MERCHCAT_MBQ.apply(lambda x: x['LISTING_M_7']*(x['F_OPT_DISP_Q_7']+x['OPT_SALES_7']*x['L_OPT_SALES_GR_M_7']), axis=1)\n",
    "MERCHCAT_MBQ['OPT_MBQ_30_8'] = MERCHCAT_MBQ.apply(lambda x: x['LISTING_M_8']*(x['F_OPT_DISP_Q_8']+x['OPT_SALES_8']*x['L_OPT_SALES_GR_M_8']), axis=1)\n",
    "MERCHCAT_MBQ['OPT_MBQ_30_9'] = MERCHCAT_MBQ.apply(lambda x: x['LISTING_M_9']*(x['F_OPT_DISP_Q_9']+x['OPT_SALES_9']*x['L_OPT_SALES_GR_M_9']), axis=1)\n",
    "MERCHCAT_MBQ['OPT_MBQ_30_10'] = MERCHCAT_MBQ.apply(lambda x: x['LISTING_M_10']*(x['F_OPT_DISP_Q_10']+x['OPT_SALES_10']*x['L_OPT_SALES_GR_M_10']), axis=1)\n",
    "MERCHCAT_MBQ['OPT_MBQ_30_11'] = MERCHCAT_MBQ.apply(lambda x: x['LISTING_M_11']*(x['F_OPT_DISP_Q_11']+x['OPT_SALES_11']*x['L_OPT_SALES_GR_M_11']), axis=1)\n",
    "MERCHCAT_MBQ['OPT_MBQ_30_12'] = MERCHCAT_MBQ.apply(lambda x: x['LISTING_M_12']*(x['F_OPT_DISP_Q_12']+x['OPT_SALES_12']*x['L_OPT_SALES_GR_M_12']), axis=1)"
   ]
  },
  {
   "cell_type": "code",
   "execution_count": 78,
   "id": "284b124a",
   "metadata": {},
   "outputs": [],
   "source": [
    "#L-OPTION SSN-MBQ QTY\n",
    "MERCHCAT_MBQ['SSN_MBQ_A'] = MERCHCAT_MBQ.apply(lambda x: x['LISTING_M_1']*(x['F_OPT_DISP_Q_1']+(x['REV_OPT_SALES_PD_A']*x['ALLOC_DAY_COVER']*x['L_OPT_SALES_GR_M_1']))\n",
    "                                               , axis=1)\n",
    "MERCHCAT_MBQ['SSN_MBQ_1'] = MERCHCAT_MBQ.apply(lambda x: x['LISTING_M_1']*(x['F_OPT_DISP_Q_1']+(x['REV_OPT_SALES_PD_1']*x['BGT_DAYS']*x['L_OPT_SALES_GR_M_1']))\n",
    "                                               , axis=1)\n",
    "MERCHCAT_MBQ['SSN_MBQ_2'] = MERCHCAT_MBQ.apply(lambda x: x['LISTING_M_2']*(x['F_OPT_DISP_Q_2']+x['OPT_SALES_2']*x['L_OPT_SALES_GR_M_2']), axis=1)\n",
    "MERCHCAT_MBQ['SSN_MBQ_3'] = MERCHCAT_MBQ.apply(lambda x: x['LISTING_M_3']*(x['F_OPT_DISP_Q_3']+x['OPT_SALES_3']*x['L_OPT_SALES_GR_M_3']), axis=1)\n",
    "MERCHCAT_MBQ['SSN_MBQ_4'] = MERCHCAT_MBQ.apply(lambda x: x['LISTING_M_4']*(x['F_OPT_DISP_Q_4']+x['OPT_SALES_4']*x['L_OPT_SALES_GR_M_4']), axis=1)\n",
    "MERCHCAT_MBQ['SSN_MBQ_5'] = MERCHCAT_MBQ.apply(lambda x: x['LISTING_M_5']*(x['F_OPT_DISP_Q_5']+x['OPT_SALES_5']*x['L_OPT_SALES_GR_M_5']), axis=1)\n",
    "MERCHCAT_MBQ['SSN_MBQ_6'] = MERCHCAT_MBQ.apply(lambda x: x['LISTING_M_6']*(x['F_OPT_DISP_Q_6']+x['OPT_SALES_6']*x['L_OPT_SALES_GR_M_6']), axis=1)\n",
    "MERCHCAT_MBQ['SSN_MBQ_7'] = MERCHCAT_MBQ.apply(lambda x: x['LISTING_M_7']*(x['F_OPT_DISP_Q_7']+x['OPT_SALES_7']*x['L_OPT_SALES_GR_M_7']), axis=1)\n",
    "MERCHCAT_MBQ['SSN_MBQ_8'] = MERCHCAT_MBQ.apply(lambda x: x['LISTING_M_8']*(x['F_OPT_DISP_Q_8']+x['OPT_SALES_8']*x['L_OPT_SALES_GR_M_8']), axis=1)\n",
    "MERCHCAT_MBQ['SSN_MBQ_9'] = MERCHCAT_MBQ.apply(lambda x: x['LISTING_M_9']*(x['F_OPT_DISP_Q_9']+x['OPT_SALES_9']*x['L_OPT_SALES_GR_M_9']), axis=1)\n",
    "MERCHCAT_MBQ['SSN_MBQ_10'] = MERCHCAT_MBQ.apply(lambda x: x['LISTING_M_10']*(x['F_OPT_DISP_Q_10']+x['OPT_SALES_10']*x['L_OPT_SALES_GR_M_10']), axis=1)\n",
    "MERCHCAT_MBQ['SSN_MBQ_11'] = MERCHCAT_MBQ.apply(lambda x: x['LISTING_M_11']*(x['F_OPT_DISP_Q_11']+x['OPT_SALES_11']*x['L_OPT_SALES_GR_M_11']), axis=1)\n",
    "MERCHCAT_MBQ['SSN_MBQ_12'] = MERCHCAT_MBQ.apply(lambda x: x['LISTING_M_12']*(x['F_OPT_DISP_Q_12']+x['OPT_SALES_12']*x['L_OPT_SALES_GR_M_12']), axis=1)"
   ]
  },
  {
   "cell_type": "code",
   "execution_count": 79,
   "id": "49ac752d-fc9b-409f-91b6-b0e0af82dd18",
   "metadata": {},
   "outputs": [],
   "source": [
    "#MC ALLOC MBQ\n",
    "MERCHCAT_MBQ['REV_MC_SALES_PD_1'] = MERCHCAT_MBQ.apply(lambda x: (x['SALES_Q_1']*x['CM_RMN_SALES_CONS']+x['SALES_Q_2']*x['NM_RMN_SALES_CONS'])\n",
    "                                                                           *(1/x['BGT_DAYS']), axis=1)\n",
    "\n",
    "MERCHCAT_MBQ['MC_MBQ_A'] = MERCHCAT_MBQ.apply(lambda x: x['LISTING_M_1']*(x['ALLOC_DISP']+(x['REV_MC_SALES_PD_1']*x['ALLOC_DAY_COVER']))\n",
    "                                               , axis=1)\n",
    "#MC MTH-1 REV-MBQ\n",
    "MERCHCAT_MBQ['MC_MBQ_30_1'] = MERCHCAT_MBQ.apply(lambda x: x['LISTING_M_1']*(x['DISP_Q_1']+(x['REV_MC_SALES_PD_1']*x['BGT_DAYS']))\n",
    "                                               , axis=1)\n",
    "#MC MTH-1 RMN PD SALES\n",
    "MERCHCAT_MBQ['REM_SALES_1'] = MERCHCAT_MBQ.apply(lambda x: (x['SALES_Q_1']*x['CM_RMN_SALES_CONS'])\n",
    "                                                                           *(1/x['RMN_BGT_DAYS']), axis=1)\n"
   ]
  },
  {
   "cell_type": "code",
   "execution_count": 80,
   "id": "70dcd7b5",
   "metadata": {},
   "outputs": [],
   "source": [
    "#MC 30-MBQ QTY\n",
    "MERCHCAT_MBQ['MC_MBQ_30_2'] = MERCHCAT_MBQ.apply(lambda x: x['LISTING_M_2']*(x['DISP_Q_2']+x['SALES_Q_2']), axis=1)\n",
    "MERCHCAT_MBQ['MC_MBQ_30_3'] = MERCHCAT_MBQ.apply(lambda x: x['LISTING_M_3']*(x['DISP_Q_3']+x['SALES_Q_3']), axis=1)\n",
    "MERCHCAT_MBQ['MC_MBQ_30_4'] = MERCHCAT_MBQ.apply(lambda x: x['LISTING_M_4']*(x['DISP_Q_4']+x['SALES_Q_4']), axis=1)\n",
    "MERCHCAT_MBQ['MC_MBQ_30_5'] = MERCHCAT_MBQ.apply(lambda x: x['LISTING_M_5']*(x['DISP_Q_5']+x['SALES_Q_5']), axis=1)\n",
    "MERCHCAT_MBQ['MC_MBQ_30_6'] = MERCHCAT_MBQ.apply(lambda x: x['LISTING_M_6']*(x['DISP_Q_6']+x['SALES_Q_6']), axis=1)\n",
    "MERCHCAT_MBQ['MC_MBQ_30_7'] = MERCHCAT_MBQ.apply(lambda x: x['LISTING_M_7']*(x['DISP_Q_7']+x['SALES_Q_7']), axis=1)\n",
    "MERCHCAT_MBQ['MC_MBQ_30_8'] = MERCHCAT_MBQ.apply(lambda x: x['LISTING_M_8']*(x['DISP_Q_8']+x['SALES_Q_8']), axis=1)\n",
    "MERCHCAT_MBQ['MC_MBQ_30_9'] = MERCHCAT_MBQ.apply(lambda x: x['LISTING_M_9']*(x['DISP_Q_9']+x['SALES_Q_9']), axis=1)\n",
    "MERCHCAT_MBQ['MC_MBQ_30_10'] = MERCHCAT_MBQ.apply(lambda x: x['LISTING_M_10']*(x['DISP_Q_10']+x['SALES_Q_10']), axis=1)\n",
    "MERCHCAT_MBQ['MC_MBQ_30_11'] = MERCHCAT_MBQ.apply(lambda x: x['LISTING_M_11']*(x['DISP_Q_11']+x['SALES_Q_11']), axis=1)\n",
    "MERCHCAT_MBQ['MC_MBQ_30_12'] = MERCHCAT_MBQ.apply(lambda x: x['LISTING_M_12']*(x['DISP_Q_12']+x['SALES_Q_12']), axis=1)"
   ]
  },
  {
   "cell_type": "code",
   "execution_count": 81,
   "id": "4fc5a706-2b66-4982-9ddc-f420775c3b21",
   "metadata": {},
   "outputs": [],
   "source": [
    "MERCHCAT_MBQ.drop(['OPT_DISP_Q_1','OPT_DISP_Q_2','OPT_DISP_Q_3','OPT_DISP_Q_4','OPT_DISP_Q_5','OPT_DISP_Q_6'],inplace=True,axis=1)\n",
    "MERCHCAT_MBQ.drop(['OPT_DISP_Q_7','OPT_DISP_Q_8','OPT_DISP_Q_9','OPT_DISP_Q_10','OPT_DISP_Q_11','OPT_DISP_Q_12'],inplace=True,axis=1)\n",
    "MERCHCAT_MBQ.drop(['ST_OPT_DISP_Q_1','ST_OPT_DISP_Q_2','ST_OPT_DISP_Q_3','ST_OPT_DISP_Q_4','ST_OPT_DISP_Q_5','ST_OPT_DISP_Q_6'],inplace=True,axis=1)\n",
    "MERCHCAT_MBQ.drop(['ST_OPT_DISP_Q_7','ST_OPT_DISP_Q_8','ST_OPT_DISP_Q_9','ST_OPT_DISP_Q_10','ST_OPT_DISP_Q_11','ST_OPT_DISP_Q_12'],inplace=True,axis=1)\n"
   ]
  },
  {
   "cell_type": "code",
   "execution_count": 82,
   "id": "da466bf1-bb50-439b-a510-8308b6ac3f24",
   "metadata": {},
   "outputs": [],
   "source": [
    "MERCHCAT_MBQ['DISP_Q_1']=MERCHCAT_MBQ['DISP_Q_1'].astype(float)"
   ]
  },
  {
   "cell_type": "code",
   "execution_count": 83,
   "id": "81482404-7e11-4137-8152-cb9928391f82",
   "metadata": {},
   "outputs": [],
   "source": [
    "MAJCAT_MBQ_A = MAJCAT_MBQ[['ST_CD','MAJCAT','MJ_MBQ_A','MJ_MBQ_30_1','MJ_MBQ_30_2','MJ_MBQ_30_3','MJ_MBQ_30_4','MJ_MBQ_30_5',\n",
    "                          'MJ_MBQ_30_6','MJ_MBQ_30_7','MJ_MBQ_30_8','MJ_MBQ_30_9','MJ_MBQ_30_10','MJ_MBQ_30_11','MJ_MBQ_30_12']]"
   ]
  },
  {
   "cell_type": "code",
   "execution_count": 84,
   "id": "1fc3ba46",
   "metadata": {},
   "outputs": [],
   "source": [
    "MERCHCAT_MBQ_A = MERCHCAT_MBQ[['ST_CD','MAJCAT','MERCHCAT','MC_MBQ_A','MC_MBQ_30_1','MC_MBQ_30_2','MC_MBQ_30_3','MC_MBQ_30_4','MC_MBQ_30_5',\n",
    "                          'MC_MBQ_30_6','MC_MBQ_30_7','MC_MBQ_30_8','MC_MBQ_30_9','MC_MBQ_30_10','MC_MBQ_30_11','MC_MBQ_30_12']]"
   ]
  },
  {
   "cell_type": "code",
   "execution_count": 85,
   "id": "c837c227-3d3e-4365-8b44-217c99a936b2",
   "metadata": {},
   "outputs": [],
   "source": [
    "MERCHCAT_MBQ_TEMP = MERCHCAT_MBQ[['ST_CD','MERCHCAT','OPT_MBQ_A','OPT_MBQ_L1_A','OPT_MBQ_30_A','SSN_MBQ_A']]"
   ]
  },
  {
   "cell_type": "code",
   "execution_count": 86,
   "id": "abf7db54-baf5-4e7d-9675-a617f18df022",
   "metadata": {},
   "outputs": [],
   "source": [
    "#MERCHCAT_MBQ[['ST_CD','MERCHCAT','LISTING_M_1','ALLOC_DAY_COVER','CM_RMN_DAYS','ALLOC_DISP',\n",
    "#                               'SALES_Q_1','REM_SALES_1','REV_MC_SALES_PD_1','MC_MBQ_A','F_OPT_DISP_Q_1','OPT_CNT_A','OPT_SALES_A',\n",
    "#                               'REV_OPT_SALES_PD_A','OPT_MBQ_A','OPT_MBQ_L1_A','OPT_MBQ_30_A','SSN_MBQ_A']]"
   ]
  },
  {
   "cell_type": "code",
   "execution_count": 87,
   "id": "706a7641-fc01-4cc8-b511-bfbbda67ed5f",
   "metadata": {},
   "outputs": [],
   "source": [
    "#download data to test\n",
    "# path = r\"C:\\Users\\pardeep.jajoria\\Desktop\\LISTING AUTOMATION\"\n",
    "path = r\"C:\\Users\\Administrator\\Desktop\\drive-download-20240503T040120Z-001\\Testing\"\n",
    "MAJCAT_MBQ.to_csv(path+r\"\\MJ_MBQ_file.csv\")\n",
    "MERCHCAT_MBQ.to_csv(path+r\"\\MC_MBQ_file.csv\")\n",
    "MERCHCAT_MBQ_A.to_csv(path+r\"\\MC_MBQ_B_file.csv\")\n",
    "MAJCAT_MBQ_A.to_csv(path+r\"\\MJ_MBQ_B_file.csv\")"
   ]
  },
  {
   "cell_type": "code",
   "execution_count": 88,
   "id": "4b728099-e959-41c2-96ad-04946a036d81",
   "metadata": {},
   "outputs": [],
   "source": [
    "#MERCHCAT_MBQ_TEMP =MERCHCAT_MBQ_A\n",
    "#MAJCAT_MBQ_TEMP = MAJCAT_MBQ_A\n"
   ]
  },
  {
   "cell_type": "code",
   "execution_count": 89,
   "id": "375379fe-fef2-4e19-ae63-7674f43bd20c",
   "metadata": {},
   "outputs": [],
   "source": [
    "MJ_MBQ = MAJCAT_MBQ_A\n",
    "MC_MBQ = MERCHCAT_MBQ_A"
   ]
  },
  {
   "cell_type": "code",
   "execution_count": 90,
   "id": "22eaf74d-399b-48df-ac61-f4536f2a0278",
   "metadata": {},
   "outputs": [],
   "source": [
    "ST_STK_DATA = ST_STK\n",
    "ST_STK_DATA = pd.merge(ST_STK_DATA, MERCHCAT_MBQ_TEMP, how=\"left\",on=[\"ST_CD\",\"MERCHCAT\"])"
   ]
  },
  {
   "cell_type": "code",
   "execution_count": 91,
   "id": "a184d0df-ca67-4c36-a652-e44276d7386a",
   "metadata": {},
   "outputs": [],
   "source": [
    "#EXCESS STOCK REMOVAL\n",
    "ST_STK_DATA['REV_ST_STK'] = ST_STK_DATA.apply(lambda x: x['ST_STK'] if x['OPT_MBQ_A']+0==0 \n",
    "                                              else min(x['ST_STK'],x['OPT_MBQ_A']), axis=1)"
   ]
  },
  {
   "cell_type": "code",
   "execution_count": 92,
   "id": "ad1a6fb7-7383-462b-bfe2-192fd402190a",
   "metadata": {},
   "outputs": [],
   "source": [
    "ST_STK_DATA_TEMP = ST_STK_DATA[['ST_CD','MERCHCAT','GEN_ART','COLOR','ST_STK','REV_ST_STK']]"
   ]
  },
  {
   "cell_type": "code",
   "execution_count": 93,
   "id": "4f1f66ac-b3d0-444d-8974-4ad9372b424e",
   "metadata": {},
   "outputs": [],
   "source": [
    "#REV STK BTM-UP AT ALL HIER LEVEL\n",
    "ST_STK_MJ = ST_STK_DATA.groupby(['ST_CD','MAJCAT'], as_index=False).agg(MJ_REV_STK=('REV_ST_STK','sum'))\n",
    "ST_STK_MC = ST_STK_DATA.groupby(['ST_CD','MERCHCAT'], as_index=False).agg(MC_REV_STK=('REV_ST_STK','sum'))\n",
    "ST_STK_MC_M_MVGR = ST_STK_DATA.groupby(['ST_CD','MERCHCAT','MACRO_MVGR'], as_index=False).agg(MC_REV_STK=('REV_ST_STK','sum'))\n",
    "ST_STK_MC_MVGR_1 = ST_STK_DATA.groupby(['ST_CD','MERCHCAT','MVGR_1'], as_index=False).agg(MC_REV_STK=('REV_ST_STK','sum'))\n",
    "ST_STK_MC_FABRIC = ST_STK_DATA.groupby(['ST_CD','MERCHCAT','FABRIC'], as_index=False).agg(MC_REV_STK=('REV_ST_STK','sum'))\n",
    "ST_STK_MC_BODY = ST_STK_DATA.groupby(['ST_CD','MERCHCAT','BODY'], as_index=False).agg(MC_REV_STK=('REV_ST_STK','sum'))\n",
    "ST_STK_MC_COLOR = ST_STK_DATA.groupby(['ST_CD','MERCHCAT','COLOR'], as_index=False).agg(MC_REV_STK=('REV_ST_STK','sum'))\n",
    "ST_STK_MC_M_MVGR_COLOR = ST_STK_DATA.groupby(['ST_CD','MERCHCAT','MACRO_MVGR','COLOR'], as_index=False).agg(MC_REV_STK=('REV_ST_STK','sum'))\n",
    "ST_STK_MC_MVGR_1_COLOR = ST_STK_DATA.groupby(['ST_CD','MERCHCAT','MVGR_1','COLOR'], as_index=False).agg(MC_REV_STK=('REV_ST_STK','sum'))\n",
    "ST_STK_MC_FABRIC_COLOR = ST_STK_DATA.groupby(['ST_CD','MERCHCAT','FABRIC','COLOR'], as_index=False).agg(MC_REV_STK=('REV_ST_STK','sum'))\n",
    "ST_STK_MC_BODY_COLOR = ST_STK_DATA.groupby(['ST_CD','MERCHCAT','BODY','COLOR'], as_index=False).agg(MC_REV_STK=('REV_ST_STK','sum'))\n",
    "ST_STK_MC_M_MVGR_MVGR_1 = ST_STK_DATA.groupby(['ST_CD','MERCHCAT','MACRO_MVGR','MVGR_1'], as_index=False).agg(MC_REV_STK=('REV_ST_STK','sum'))\n",
    "ST_STK_MC_M_MVGR_FABRIC = ST_STK_DATA.groupby(['ST_CD','MERCHCAT','MACRO_MVGR','FABRIC'], as_index=False).agg(MC_REV_STK=('REV_ST_STK','sum'))\n",
    "ST_STK_MC_M_MVGR_BODY = ST_STK_DATA.groupby(['ST_CD','MERCHCAT','MACRO_MVGR','BODY'], as_index=False).agg(MC_REV_STK=('REV_ST_STK','sum'))\n",
    "ST_STK_MC_M_MVGR_MVGR_1_COLOR = ST_STK_DATA.groupby(['ST_CD','MERCHCAT','MACRO_MVGR','MVGR_1','COLOR'], as_index=False).agg(MC_REV_STK=('REV_ST_STK','sum'))\n",
    "ST_STK_MC_M_MVGR_FABRIC_COLOR = ST_STK_DATA.groupby(['ST_CD','MERCHCAT','MACRO_MVGR','FABRIC','COLOR'], as_index=False).agg(MC_REV_STK=('REV_ST_STK','sum'))\n",
    "ST_STK_MC_M_MVGR_BODY_COLOR = ST_STK_DATA.groupby(['ST_CD','MERCHCAT','MACRO_MVGR','BODY','COLOR'], as_index=False).agg(MC_REV_STK=('REV_ST_STK','sum'))\n"
   ]
  },
  {
   "cell_type": "code",
   "execution_count": 94,
   "id": "710fea7b-741e-4337-92ea-af2f1af155ea",
   "metadata": {},
   "outputs": [],
   "source": [
    "#download data ST_STK_DATA\n",
    "temp=ST_STK_DATA\n",
    "temp.to_csv(path+r\"\\ST_STK_temp_file.csv\")"
   ]
  },
  {
   "cell_type": "code",
   "execution_count": null,
   "id": "f17714a4-d8d6-462c-953d-eb27249f8039",
   "metadata": {},
   "outputs": [],
   "source": []
  },
  {
   "cell_type": "code",
   "execution_count": 95,
   "id": "0f7e9f02-613b-4865-bdc1-0aa3fe9ebd5c",
   "metadata": {},
   "outputs": [],
   "source": [
    "#CONVERTING DC-DATA INTO ST MULTIPLE DC-DATA"
   ]
  },
  {
   "cell_type": "code",
   "execution_count": 96,
   "id": "6217a4df-0359-4799-96a4-cfeddce32cc4",
   "metadata": {},
   "outputs": [],
   "source": [
    "DC_STK_DATA = DC_STK"
   ]
  },
  {
   "cell_type": "code",
   "execution_count": 97,
   "id": "bd42af80-d642-4571-8181-1c4381a21cf9",
   "metadata": {},
   "outputs": [],
   "source": [
    "ST_DC=DC_STK_DATA[['SEG','DIV','SUB_DIV','MAJCAT','MERCHCAT','MRP','RNG_SEG','SSN','GEN_ART','GEN_ART_DESC','COLOR','VAR_ART','SZ','M_VND_CD',\n",
    "              'M_VND_NM','CO_AGING','MACRO_MVGR','MVGR_1','FABRIC','BODY','DISCOUNT_STATUS']]\n",
    "ST_DC.insert(0,\"ST_NO\",0)\n",
    "ST_DC['ST_NO']=0\n",
    "ST_TEST = ST_DC\n",
    "ST_DATA = ST_DC"
   ]
  },
  {
   "cell_type": "code",
   "execution_count": 98,
   "id": "3335618a-c4ab-478f-8f9c-8e382cd7dd85",
   "metadata": {},
   "outputs": [],
   "source": [
    "for k in range(0,200):\n",
    "    #print(k)\n",
    "    ST_TEST['ST_NO']=ST_TEST['ST_NO'].replace(k,k+1)\n",
    "    ST_DATA = pd.concat([ST_DATA,ST_TEST],ignore_index=True)"
   ]
  },
  {
   "cell_type": "code",
   "execution_count": 99,
   "id": "c2dbbbd4-9622-4e1f-b6f8-65be648571f8",
   "metadata": {},
   "outputs": [],
   "source": [
    "DATACHECK = ST_DATA[(ST_DATA['ST_NO']==1)].index\n",
    "ST_DATA.drop(DATACHECK, inplace=True)"
   ]
  },
  {
   "cell_type": "code",
   "execution_count": 100,
   "id": "efc85af1-7ec6-4c1c-8bb6-f440da281c32",
   "metadata": {},
   "outputs": [],
   "source": [
    "ST_DC['ST_NO']=1\n",
    "ST_DATA = pd.concat([ST_DATA,ST_DC],ignore_index=True)"
   ]
  },
  {
   "cell_type": "code",
   "execution_count": null,
   "id": "38e490c5-70e5-4271-aa2c-a08a082a09b3",
   "metadata": {},
   "outputs": [],
   "source": []
  },
  {
   "cell_type": "code",
   "execution_count": 101,
   "id": "b724a180-d0a8-4473-8cf1-2924e617b963",
   "metadata": {},
   "outputs": [],
   "source": [
    "ST_DETAILS_R = ST_DETAILS[['ST_CD','PRIORITY_LIST']]\n",
    "ST_DETAILS_R['ST_NO']=ST_DETAILS_R['PRIORITY_LIST']\n",
    "ST_DETAILS_R = ST_DETAILS[['ST_CD','ST_NO']]"
   ]
  },
  {
   "cell_type": "code",
   "execution_count": 102,
   "id": "67a95d9a-bf37-4526-931b-900407ab039e",
   "metadata": {},
   "outputs": [],
   "source": [
    "ST_DATA = pd.merge(ST_DATA, ST_DETAILS_R, how=\"left\",on=[\"ST_NO\"])"
   ]
  },
  {
   "cell_type": "code",
   "execution_count": 103,
   "id": "09fa1938-f255-49a3-b6b3-5fae4f882f3a",
   "metadata": {},
   "outputs": [],
   "source": [
    "ST_DATA['ST_CD'] = ST_DATA['ST_CD'].fillna(\"xxx\")\n",
    "DATACHECK = ST_DATA[(ST_DATA['ST_CD']=='xxx')].index\n",
    "ST_DATA.drop(DATACHECK, inplace=True)"
   ]
  },
  {
   "cell_type": "code",
   "execution_count": 104,
   "id": "497305fd-d251-4f3b-8570-5e79a90dd458",
   "metadata": {},
   "outputs": [],
   "source": [
    "#ST_DATA = pd.merge(ST_DATA, DC_STK_DATA_TEMP, how=\"left\",on=[\"MAJCAT\",\"MERCHCAT\",\"GEN_ART\",\"COLOR\"])\n",
    "#ST_DATA = pd.merge(ST_DATA, ST_STK_MC, how=\"left\",on=[\"ST_CD\",\"MERCHCAT\"])\n",
    "#ST_DATA = pd.merge(ST_DATA, ST_STK_MJ, how=\"left\",on=[\"ST_CD\",\"MAJCAT\"])\n"
   ]
  },
  {
   "cell_type": "code",
   "execution_count": 105,
   "id": "e1e06792",
   "metadata": {},
   "outputs": [],
   "source": [
    "ST_DATA = pd.merge(ST_DATA, MERCHCAT_MBQ_TEMP, how=\"left\",on=[\"ST_CD\",\"MERCHCAT\"])\n",
    "ST_DATA = pd.merge(ST_DATA, ST_STK_DATA_TEMP, how=\"left\",on=[\"ST_CD\",\"MERCHCAT\",\"GEN_ART\",\"COLOR\"])\n",
    "ST_DATA['ST_STK'] = ST_DATA['ST_STK'].fillna(0)\n",
    "ST_DATA['REV_ST_STK'] = ST_DATA['REV_ST_STK'].fillna(0)"
   ]
  },
  {
   "cell_type": "code",
   "execution_count": 106,
   "id": "2fc44119-ccef-4679-ba68-a68258340c97",
   "metadata": {},
   "outputs": [],
   "source": [
    "temp=ST_DATA.head(10000)\n",
    "temp.to_csv(path+r\"\\ST_DATA_temp_file.csv\")"
   ]
  },
  {
   "cell_type": "code",
   "execution_count": null,
   "id": "06b86184-5bf1-4b18-b362-4c2084e2a205",
   "metadata": {},
   "outputs": [],
   "source": []
  },
  {
   "cell_type": "code",
   "execution_count": 107,
   "id": "12314da8-ed86-48b7-a860-6a62619cefd6",
   "metadata": {},
   "outputs": [],
   "source": [
    "#comb\n",
    "DC_STK_DATA['REV_DC_STK']=DC_STK_DATA['CURR_DC_STK']\n",
    "DC_STK_DATA['GEN_CLR'] = DC_STK_DATA['GEN_ART'].astype(str)+DC_STK_DATA['COLOR'].astype(str)\n",
    "DC_STK_DATA['MC_GEN_CLR'] = DC_STK_DATA['MERCHCAT'].astype(str)+DC_STK_DATA['GEN_ART'].astype(str)+DC_STK_DATA['COLOR'].astype(str)"
   ]
  },
  {
   "cell_type": "code",
   "execution_count": 108,
   "id": "3e6d0683-062b-4bf8-b79a-6638beea388f",
   "metadata": {},
   "outputs": [],
   "source": [
    "ST_DATA['GEN_CLR'] = ST_DATA['GEN_ART'].astype(str)+ST_DATA['COLOR'].astype(str)\n",
    "ST_DATA['COMB'] = ST_DATA['ST_CD']+ST_DATA['GEN_ART'].astype(str)+ST_DATA['COLOR'].astype(str)\n",
    "ST_DATA['ART_REQ'] = ST_DATA.apply(lambda x: x['OPT_MBQ_A'] if (x['ST_STK']+0) ==0\n",
    "                                   else max(x['OPT_MBQ_A']-(x['ST_STK']+0),0), axis=1)\n",
    "ST_DATA['SSN_ART_REQ'] = ST_DATA.apply(lambda x: x['SSN_MBQ_A'] if (x['ST_STK']+0) == 0\n",
    "                                       else max(x['SSN_MBQ_A']-(x['ST_STK']+0),0), axis=1)\n"
   ]
  },
  {
   "cell_type": "code",
   "execution_count": 109,
   "id": "26f14193-c0d7-4cc7-8f9a-a67013ffe833",
   "metadata": {},
   "outputs": [],
   "source": [
    "DC_STK_DATA['ALLOC']=0\n",
    "ST_DATA['ALLOC']=0\n",
    "\n",
    "ST_STK_MJ['MJ_ALLOC']=0\n",
    "ST_STK_MC['MC_ALLOC']=0\n",
    "ST_STK_MC_M_MVGR['ALLOC'] = 0\n",
    "ST_STK_MC_MVGR_1['ALLOC'] = 0\n",
    "ST_STK_MC_FABRIC['ALLOC'] = 0\n",
    "ST_STK_MC_BODY['ALLOC'] = 0\n",
    "ST_STK_MC_COLOR['ALLOC'] = 0\n",
    "ST_STK_MC_M_MVGR_COLOR['ALLOC'] = 0\n",
    "ST_STK_MC_MVGR_1_COLOR['ALLOC'] = 0\n",
    "ST_STK_MC_FABRIC_COLOR['ALLOC'] = 0\n",
    "ST_STK_MC_BODY_COLOR['ALLOC'] = 0\n",
    "ST_STK_MC_M_MVGR_MVGR_1['ALLOC'] = 0\n",
    "ST_STK_MC_M_MVGR_FABRIC['ALLOC'] = 0\n",
    "ST_STK_MC_M_MVGR_BODY['ALLOC'] = 0\n",
    "ST_STK_MC_M_MVGR_MVGR_1_COLOR['ALLOC'] = 0\n",
    "ST_STK_MC_M_MVGR_FABRIC_COLOR['ALLOC'] = 0\n",
    "ST_STK_MC_M_MVGR_BODY_COLOR['ALLOC'] = 0\n",
    "MJ_MBQ['ALLOC'] = 0"
   ]
  },
  {
   "cell_type": "code",
   "execution_count": 110,
   "id": "4d2c1a51-ac03-4127-9f19-c1eb4112c090",
   "metadata": {},
   "outputs": [],
   "source": [
    "MJ_ALGO = BGT_MAJCAT[['ST_CD','MAJCAT']]\n",
    "MC_ALGO = BGT_MERCHCAT[['ST_CD','MAJCAT','MERCHCAT']]\n",
    "MC_M_MVGR = MC_M_MVGR_CONT[['ST_CD','MERCHCAT','MACRO_MVGR']]\n",
    "MC_MVGR = MC_MVGR_CONT[['ST_CD','MERCHCAT','MVGR']]\n",
    "MC_BODY = MC_BODY_CONT[['ST_CD','MERCHCAT','BODY']]\n",
    "MC_FABRIC = MC_FABRIC_CONT[['ST_CD','MERCHCAT','FABRIC']]\n",
    "MC_CLR = MC_CLR_CONT[['ST_CD','MERCHCAT','CLR']]\n",
    "MC_VEND = MC_VEND_CONT[['ST_CD','MERCHCAT','VEND_CD']]\n"
   ]
  },
  {
   "cell_type": "code",
   "execution_count": 111,
   "id": "ada82921-b2d1-4048-9ce3-8edb26c120bc",
   "metadata": {},
   "outputs": [],
   "source": [
    "MJ_MBQ['ALLOC']=MJ_MBQ['ALLOC'].astype(float)"
   ]
  },
  {
   "cell_type": "code",
   "execution_count": 112,
   "id": "ea8b7c87-c8bc-4608-b044-97ce61951591",
   "metadata": {},
   "outputs": [],
   "source": [
    "\n",
    "#MAJCAT_MBQ_A['COMB']= MAJCAT_MBQ_A['ST_CD']+MAJCAT_MBQ_A['MAJCAT']\n",
    "MJ_MBQ['COMB'] = MJ_MBQ['ST_CD']+MJ_MBQ['MAJCAT']\n",
    "MC_MBQ['COMB'] = MC_MBQ['ST_CD']+MC_MBQ['MERCHCAT']\n",
    "#ST_STK_MJ['COMB'] = ST_STK_MJ['ST_CD']+ST_STK_MJ['MAJCAT']\n",
    "#ST_STK_MC['COMB'] = ST_STK_MC['ST_CD']+ST_STK_MC['MERCHCAT']\n",
    "MC_M_MVGR['COMB'] = MC_M_MVGR['ST_CD']+MC_M_MVGR['MERCHCAT']+MC_M_MVGR['MACRO_MVGR']\n",
    "MC_MVGR['COMB'] = MC_MVGR['ST_CD']+MC_MVGR['MERCHCAT']+MC_MVGR['MVGR']\n",
    "MC_BODY['COMB'] = MC_BODY['ST_CD']+MC_BODY['MERCHCAT']+MC_BODY['BODY']\n",
    "MC_FABRIC['COMB'] = MC_FABRIC['ST_CD']+MC_FABRIC['MERCHCAT']+MC_FABRIC['FABRIC']\n",
    "MC_CLR['COMB'] = MC_CLR['ST_CD']+MC_CLR['MERCHCAT']+MC_CLR['CLR']\n",
    "MC_VEND['COMB'] = MC_VEND['ST_CD']+MC_VEND['MERCHCAT']+MC_VEND['VEND_CD']\n"
   ]
  },
  {
   "cell_type": "code",
   "execution_count": 113,
   "id": "8c26d846-74f4-4561-9dd8-a1d2cc73f0f8",
   "metadata": {},
   "outputs": [],
   "source": [
    "MJ_MBQ['MJ_MBQ']=MJ_MBQ['MJ_MBQ_A']\n",
    "MC_MBQ['MC_MBQ']=MC_MBQ['MC_MBQ_A']\n",
    "MJ_MBQ = pd.merge(MJ_MBQ, ST_STK_MJ, how=\"left\",on=[\"ST_CD\",\"MAJCAT\"])\n",
    "MC_MBQ = pd.merge(MC_MBQ, ST_STK_MC, how=\"left\",on=[\"ST_CD\",\"MERCHCAT\"])\n"
   ]
  },
  {
   "cell_type": "code",
   "execution_count": 114,
   "id": "cb3733c3-86b8-4926-a63f-1cbf77f790f9",
   "metadata": {},
   "outputs": [],
   "source": [
    "MJ_MBQ['MJ_REQ'] = MJ_MBQ['MJ_MBQ']-(0.0+MJ_MBQ['MJ_REV_STK'])\n",
    "MC_MBQ['MC_REQ'] = MC_MBQ['MC_MBQ']-(0.0+MC_MBQ['MC_REV_STK'])"
   ]
  },
  {
   "cell_type": "code",
   "execution_count": 115,
   "id": "b2636792-f6b6-4c63-8fea-3265009c9d15",
   "metadata": {},
   "outputs": [],
   "source": [
    "MJ_MBQ.to_csv(path+r\"\\MJ_MBQ.csv\")\n",
    "MC_MBQ.to_csv(path+r\"\\MC_MBQ.csv\")\n",
    "ST_STK_MJ.to_csv(path+r\"\\MJ_STK.csv\")\n",
    "ST_STK_MC.to_csv(path+r\"\\MC_STK.csv\")\n",
    "DC_STK_DATA.to_csv(path+r\"\\DC_STK.csv\")"
   ]
  },
  {
   "cell_type": "code",
   "execution_count": 116,
   "id": "d686813f-e214-4d99-8628-373330d9673c",
   "metadata": {},
   "outputs": [],
   "source": [
    "#MAJCAT_LIST1 = list(MAJCAT_LIST['MAJCAT'].unique())"
   ]
  },
  {
   "cell_type": "code",
   "execution_count": 117,
   "id": "b5e2ab6a-3ce5-47ee-a410-7c0954f018cf",
   "metadata": {},
   "outputs": [],
   "source": [
    "#ST_LIST=['HB05','HB06','HA10']\n",
    "#MAJCAT_LIST2 = MAJCAT_LIST1['M_JEANS']"
   ]
  },
  {
   "cell_type": "code",
   "execution_count": 118,
   "id": "4d0117e2-b395-443d-b4db-4efc7350b48f",
   "metadata": {},
   "outputs": [],
   "source": [
    "A1=ST_DATA.columns\n",
    "ST_DATA_NEW = pd.DataFrame(columns=A1)\n",
    "A2=DC_STK_DATA.columns\n",
    "DC_DATA_NEW = pd.DataFrame(columns=A2)\n",
    "A3=MJ_MBQ.columns\n",
    "MJ_MBQ_NEW = pd.DataFrame(columns=A3)\n",
    "A4=MC_MBQ.columns\n",
    "MC_MBQ_NEW = pd.DataFrame(columns=A4)\n"
   ]
  },
  {
   "cell_type": "code",
   "execution_count": 119,
   "id": "069abc05-8f9e-4084-b4cc-dbf062fe4db0",
   "metadata": {},
   "outputs": [],
   "source": [
    "DC_STK_DATA['ALLOC']=0\n",
    "ST_DATA['ALLOC']=0\n",
    "MJ_MBQ['ALLOC'] = 0\n",
    "MC_MBQ['ALLOC'] = 0\n",
    "MC_M_MVGR['ALLOC'] = 0\n",
    "MC_MVGR['ALLOC'] = 0\n",
    "MC_BODY['ALLOC'] = 0\n",
    "MC_FABRIC['ALLOC'] = 0\n",
    "MC_CLR['ALLOC'] = 0\n",
    "MC_VEND['ALLOC'] = 0"
   ]
  },
  {
   "cell_type": "code",
   "execution_count": 120,
   "id": "be422f8e-77c9-4760-ab35-de95a775298d",
   "metadata": {},
   "outputs": [],
   "source": [
    "DC_STK_DATA['ALLOC']=0\n",
    "ST_DATA['ALLOC']=0\n",
    "MJ_MBQ['ALLOC'] = 0\n",
    "MC_MBQ['ALLOC'] = 0\n",
    "MC_M_MVGR['ALLOC'] = 0\n",
    "MC_MVGR['ALLOC'] = 0\n",
    "MC_BODY['ALLOC'] = 0\n",
    "MC_FABRIC['ALLOC'] = 0\n",
    "MC_CLR['ALLOC'] = 0\n",
    "MC_VEND['ALLOC'] = 0"
   ]
  },
  {
   "cell_type": "code",
   "execution_count": 121,
   "id": "72a1630f-f4e3-41d2-bc1d-df5a9df04aa1",
   "metadata": {},
   "outputs": [
    {
     "name": "stdout",
     "output_type": "stream",
     "text": [
      "4.70088888822\n",
      "6.70088888822\n",
      "3.713955554858668\n",
      "14.713955554858668\n",
      "14.713955554858668\n",
      "14.713955554858668\n",
      "14.70088888822\n",
      "14.725777777093334\n",
      "14.725777777093334\n",
      "14.725777777093334\n",
      "14.725777777093334\n",
      "14.713955554858668\n",
      "1.7008888882199997\n",
      "14.725777777093334\n",
      "14.725777777093334\n",
      "14.725777777093334\n",
      "14.70088888822\n",
      "14.70088888822\n",
      "14.725777777093334\n",
      "14.725777777093334\n",
      "14.70088888822\n",
      "14.70088888822\n",
      "14.70088888822\n",
      "14.725777777093334\n",
      "4.713955554858668\n",
      "14.70088888822\n",
      "14.725777777093334\n",
      "14.738844443731999\n",
      "14.70088888822\n",
      "14.725777777093334\n",
      "14.725777777093334\n",
      "14.713955554858668\n",
      "14.713955554858668\n",
      "14.725777777093334\n",
      "14.725777777093334\n",
      "14.725777777093334\n",
      "0.7008888882199997\n",
      "14.713955554858668\n",
      "14.725777777093334\n",
      "14.725777777093334\n",
      "14.725777777093334\n",
      "14.725777777093334\n",
      "14.713955554858668\n",
      "14.725777777093334\n",
      "14.725777777093334\n",
      "14.738844443731999\n",
      "14.725777777093334\n",
      "14.725777777093334\n",
      "14.725777777093334\n",
      "14.725777777093334\n",
      "14.725777777093334\n",
      "14.725777777093334\n",
      "14.725777777093334\n",
      "14.725777777093334\n",
      "14.725777777093334\n",
      "14.725777777093334\n",
      "14.725777777093334\n",
      "14.725777777093334\n",
      "14.713955554858668\n",
      "14.738844443731999\n",
      "14.725777777093334\n",
      "14.725777777093334\n",
      "14.725777777093334\n",
      "14.725777777093334\n",
      "2.713955554858668\n",
      "14.725777777093334\n",
      "14.713955554858668\n",
      "14.725777777093334\n",
      "14.725777777093334\n",
      "14.725777777093334\n",
      "0.7008888882199997\n",
      "14.725777777093334\n",
      "3.7257777770933345\n",
      "6.7257777770933345\n",
      "14.725777777093334\n",
      "14.725777777093334\n",
      "6.7257777770933345\n",
      "14.725777777093334\n",
      "14.725777777093334\n",
      "14.725777777093334\n",
      "14.725777777093334\n",
      "14.713955554858668\n",
      "14.725777777093334\n",
      "14.725777777093334\n",
      "14.725777777093334\n",
      "14.725777777093334\n",
      "14.725777777093334\n",
      "5.7257777770933345\n",
      "14.725777777093334\n",
      "14.725777777093334\n",
      "14.725777777093334\n",
      "14.725777777093334\n",
      "14.713955554858668\n",
      "14.713955554858668\n",
      "2.7008888882199997\n",
      "14.713955554858668\n",
      "14.713955554858668\n",
      "14.713955554858668\n",
      "14.713955554858668\n",
      "14.713955554858668\n",
      "14.713955554858668\n",
      "14.713955554858668\n",
      "3.713955554858668\n"
     ]
    }
   ],
   "source": [
    "#for i in MAJCAT_LIST1:\n",
    "i = CAT\n",
    "cnt=0\n",
    "ST_DATA_TEMP = ST_DATA\n",
    "# print(datetime.now())\n",
    "DC_STK_TEMP = DC_STK_DATA[(DC_STK_DATA['REV_DC_STK']>0)].reset_index(drop=True)\n",
    "\n",
    "# print(DC_STK_TEMP[['GEN_CLR','MERCHCAT']])\n",
    "# # for j in ST_DETAILS['ST_CD']:\n",
    "j='HA10'\n",
    "# # MERCHCAT LEVEL LISTING\n",
    "for k in DC_STK_TEMP['GEN_CLR']:\n",
    "    l = DC_STK_TEMP.loc[DC_STK_TEMP['GEN_CLR']==k,'MERCHCAT'].item()\n",
    "    ART_REQ = ST_DATA_TEMP.loc[ST_DATA_TEMP['COMB'] == str(j)+str(k),'ART_REQ'].sum()\n",
    "    # print(ART_REQ)\n",
    "    # print(j,' ',k,' ',l,' ',ART_REQ)\n",
    "    #ART EXISTENCE IN ST-DATA & THERE SHOULD BE NO ALLOC IN PREVIOUS\n",
    "    # i1 = DC_STK_TEMP.loc[DC_STK_TEMP['GEN_CLR']==k,'REV_DC_STK'].sum()\n",
    "    # i2 = ST_DATA_TEMP.loc[ST_DATA_TEMP['COMB'] == str(j)+str(k),'ART_REQ'].item()\n",
    "    # i3 = MJ_MBQ.loc[MJ_MBQ['COMB'] == str(j)+str(i),'MJ_REQ'].sum()\n",
    "    # i4 = MC_MBQ.loc[MC_MBQ['COMB'] == str(j)+str(l),'MC_REQ'].sum()\n",
    "    # # print(j,' ',k,' ',l,' ',ART_REQ,' ',i1,' ',i2,' ',i3,' ',i4)\n",
    "    if DC_STK_TEMP.loc[DC_STK_TEMP['GEN_CLR']==k,'REV_DC_STK'].sum() >= ART_REQ:\n",
    "        if ST_DATA_TEMP.loc[ST_DATA_TEMP['COMB'] == str(j)+str(k),'ART_REQ'].item()>0:\n",
    "            if (MJ_MBQ.loc[MJ_MBQ['COMB'] == str(j)+str(i),'MJ_REQ'].sum()) >= ART_REQ:\n",
    "                if (MC_MBQ.loc[MC_MBQ['COMB'] == str(j)+str(l),'MC_REQ'].sum()) >= ART_REQ:\n",
    "#                     #IF CONDITION TRUE THEN EXECUTE THE BELOW STEPS\n",
    "                    ALLOC=0\n",
    "                    ALLOC = ST_DATA_TEMP.loc[ST_DATA_TEMP['COMB'] == str(j)+str(k),'ART_REQ'].sum()\n",
    "                    print(ALLOC)\n",
    "                    ST_DATA_TEMP.loc[ST_DATA_TEMP['COMB'] == str(j)+str(k),'ALLOC'] = ALLOC\n",
    "                    ST_DATA_TEMP.loc[ST_DATA_TEMP['COMB'] == str(j)+str(k),'ART_REQ'] -= ALLOC\n",
    "                    DC_STK_TEMP.loc[DC_STK_TEMP['GEN_CLR']==k,'ALLOC'] += ALLOC\n",
    "                    DC_STK_TEMP.loc[DC_STK_TEMP['GEN_CLR']==k,'REV_DC_STK'] -= ALLOC\n",
    "                    MJ_MBQ.loc[MJ_MBQ['COMB'] == str(j)+str(i),'ALLOC'] += ALLOC\n",
    "                    MC_MBQ.loc[MC_MBQ['COMB'] == str(j)+str(l),'ALLOC'] += ALLOC\n",
    "                    MJ_MBQ.loc[MJ_MBQ['COMB'] == str(j)+str(i),'MJ_REQ'] -= ALLOC\n",
    "                    MC_MBQ.loc[MC_MBQ['COMB'] == str(j)+str(l),'MC_REQ'] -= ALLOC\n",
    "# # cnt+=1\n",
    "#     # print(j)\n",
    "#     # print(datetime.now())\n",
    "\n",
    "if ST_DATA_NEW is None:  \n",
    "    ST_DATA_NEW = ST_DATA_TEMP\n",
    "else:\n",
    "    ST_DATA_NEW = pd.concat([ST_DATA_NEW,ST_DATA_TEMP],ignore_index=True)\n",
    "if DC_DATA_NEW is None:  \n",
    "    DC_DATA_NEW = DC_STK_TEMP\n",
    "else:\n",
    "    DC_DATA_NEW = pd.concat([DC_DATA_NEW,DC_STK_TEMP],ignore_index=True)\n",
    "# print(datetime.now())"
   ]
  },
  {
   "cell_type": "code",
   "execution_count": 122,
   "id": "acb880bd",
   "metadata": {},
   "outputs": [
    {
     "name": "stdout",
     "output_type": "stream",
     "text": [
      "           MC_MBQ  MC_REV_STK       ALLOC\n",
      "0      601.459363  285.567467  309.134933\n",
      "1      847.737250  711.821333  134.812444\n",
      "2     1603.039762  724.402222  876.998222\n",
      "3        0.000000         NaN    0.000000\n",
      "4        0.000000         NaN    0.000000\n",
      "...           ...         ...         ...\n",
      "1027     8.173130         NaN    0.000000\n",
      "1028    12.908389         NaN    0.000000\n",
      "1029     0.000000         NaN    0.000000\n",
      "1030     0.000000         NaN    0.000000\n",
      "1031     1.231529         NaN    0.000000\n",
      "\n",
      "[1032 rows x 3 columns]\n",
      "Execution time: 29.187617540359497 seconds\n"
     ]
    }
   ],
   "source": [
    "print(MC_MBQ[['MC_MBQ','MC_REV_STK','ALLOC']])\n",
    "end_time = time.time()\n",
    "execution_time = end_time - start_time\n",
    "print(\"Execution time:\", execution_time, \"seconds\")\n"
   ]
  },
  {
   "cell_type": "code",
   "execution_count": null,
   "id": "99bc2ea8",
   "metadata": {},
   "outputs": [],
   "source": []
  }
 ],
 "metadata": {
  "kernelspec": {
   "display_name": "Python 3 (ipykernel)",
   "language": "python",
   "name": "python3"
  },
  "language_info": {
   "codemirror_mode": {
    "name": "ipython",
    "version": 3
   },
   "file_extension": ".py",
   "mimetype": "text/x-python",
   "name": "python",
   "nbconvert_exporter": "python",
   "pygments_lexer": "ipython3",
   "version": "3.11.9"
  }
 },
 "nbformat": 4,
 "nbformat_minor": 5
}
